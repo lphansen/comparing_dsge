{
 "cells": [
  {
   "cell_type": "markdown",
   "metadata": {},
   "source": [
    "# 4 Heterogeneous Agents \n",
    "Consider the environment in section 5. We need to solve the following Hamilton-Jacobi-Bellman equations:\n",
    "\\begin{align}\n",
    "    \\begin{split}\n",
    "    {L}^e_{HJB} &\\left(v^e, v^h, \\kappa, \\chi;x \\right)= \\frac{\\rho_e}{1-\\rho_e} \\delta_e^{1 / \\rho_e} \\exp\\left[({1- \\frac{1}{\\rho_e}})v^e)\\right]-\\frac{\\delta_e}{1-\\rho_e}+r\\\\&+\\frac{1}{2 \\gamma_e} \\frac{\\left(\\Delta^e+\\pi^h \\cdot \\sigma_R\\right)^2}{\\left\\|\\sigma_R\\right\\|^2}\n",
    "+\\left[\\mu_X+\\frac{1-\\gamma_e}{\\gamma_e}\\left(\\frac{\\Delta^e+\\pi^h \\cdot \\sigma_R}{\\left\\|\\sigma_R\\right\\|^2}\\right) \\sigma_X \\sigma_R\\right] \\cdot \\partial_X v^e \\\\\n",
    "&+\\frac{1}{2}\\left[\\operatorname{tr}\\left(\\sigma_X^{\\prime} \\partial_{xx^{\\prime}} v^e \\sigma_X\\right)+\\frac{1-\\gamma_e}{\\gamma_e}\\left(\\sigma_X^{\\prime} \\partial_x v_e\\right)^{\\prime}\\left[\\gamma_e \\mathbb{I}_d+\\left(1-\\gamma_e\\right) \\frac{\\sigma_R \\sigma_R^{\\prime}}{\\left\\|\\sigma_R\\right\\|^2}\\right] \\sigma_X^{\\prime} \\partial_x v^e\\right]= 0 \n",
    "\\end{split}\\\\\n",
    "\\begin{split}\n",
    "    {L}^h_{HJB} &\\left(v^e, v^h, \\kappa, \\chi;x \\right)=\\frac{\\rho_h}{1-\\rho_h} \\delta_h^{1 / \\rho_h}  \\exp\\left[({1- \\frac{1}{\\rho_h}})v^h)\\right]-\\frac{\\delta_h}{1-\\rho_h}+r+\\frac{1}{2 \\gamma_h}\\|\\pi^h\\|^2\\\\&+\\left[\\mu_X+\\frac{1-\\gamma_h}{\\gamma_h} \\sigma_X \\pi^h\\right] \\cdot \\partial_x v^h +\\frac{1}{2}\\left[\\operatorname{tr}\\left(\\sigma_X^{\\prime} \\partial_{xx^{\\prime}} v^h \\sigma_X\\right)+\\frac{1-\\gamma_h}{\\gamma_h}\\left\\|\\sigma_X^{\\prime} \\partial_x v^h\\right\\|^2\\right]=0\\end{split} \\\\\n",
    "    {L}_{\\kappa}&\\left(v^e, v^h,\\kappa, \\chi;x \\right)=0\\\\\n",
    "    {L}_{\\chi} &\\left(v^e, v^h, \\kappa, \\chi;x \\right)=0\n",
    "\\end{align}"
   ]
  },
  {
   "cell_type": "code",
   "execution_count": null,
   "metadata": {
    "vscode": {
     "languageId": "plaintext"
    }
   },
   "outputs": [],
   "source": []
  },
  {
   "cell_type": "markdown",
   "metadata": {},
   "source": [
    "## Neural Networks\n",
    "We modify the `DeepGalerkinMethod` code from https://github.com/alialaradi/DeepGalerkinMethod. We construct an object from class `DGMNet` with the following hyperparameters:\n",
    "\n",
    "```{list-table}\n",
    ":header-rows: 1\n",
    "\n",
    "* - Input\n",
    "  - Notation in paper\n",
    "  - Description\n",
    "  - Parameter used in paper\n",
    "* - `cons`\n",
    "  - $layer_width$\n",
    "  - Number of neurons in each layer\n",
    "  - \n",
    "* - `a11`\n",
    "  - $\\beta_1$\n",
    "  - Persistence of $Z_1$\n",
    "* - `a22`\n",
    "  - $\\beta_2$\n",
    "  - Persistence of $Z_2$\n",
    "* - `ymean`\n",
    "  - $\\mu_2$\n",
    "  - Mean of $Z_2$\n",
    "* - `phi`\n",
    "  - $\\phi$\n",
    "  - Adjustment cost\n",
    "* - `sigma_k`\n",
    "  - $\\sigma_k$\n",
    "  - Shock exposure for $dK$\n",
    "* - `sigma_z`\n",
    "  - $\\sigma_1$\n",
    "  - Shock exposure for $dZ_1$\n",
    "* - `sigma_y`\n",
    "  - $\\sigma_2$\n",
    "  - Shock exposure for $dZ_2$\n",
    "```\n"
   ]
  },
  {
   "cell_type": "code",
   "execution_count": null,
   "metadata": {
    "vscode": {
     "languageId": "plaintext"
    }
   },
   "outputs": [],
   "source": []
  }
 ],
 "metadata": {
  "language_info": {
   "name": "python"
  }
 },
 "nbformat": 4,
 "nbformat_minor": 2
}
