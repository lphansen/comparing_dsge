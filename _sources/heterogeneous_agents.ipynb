{
 "cells": [
  {
   "cell_type": "markdown",
   "metadata": {},
   "source": [
    "# 4 Heterogeneous Agents \n",
    "Consider the environment in section 5. We need to solve the following:\n",
    "\n",
    "1) Expert's HJB equation\n",
    "\\begin{align*}\n",
    "    \\begin{split}\n",
    "    {L}^e_{HJB} \\left(v^e, v^h, \\kappa, \\chi;x \\right) &= \\frac{\\rho_e}{1-\\rho_e} \\delta_e^{1 / \\rho_e} \\exp\\left[({1- \\frac{1}{\\rho_e}})v^e)\\right]-\\frac{\\delta_e}{1-\\rho_e}+r\\\\&+\\frac{1}{2 \\gamma_e} \\frac{\\left(\\Delta^e+\\pi^h \\cdot \\sigma_R\\right)^2}{\\left\\|\\sigma_R\\right\\|^2}\n",
    "+\\left[\\mu_X+\\frac{1-\\gamma_e}{\\gamma_e}\\left(\\frac{\\Delta^e+\\pi^h \\cdot \\sigma_R}{\\left\\|\\sigma_R\\right\\|^2}\\right) \\sigma_X \\sigma_R\\right] \\cdot \\partial_X v^e \\\\\n",
    "&+\\frac{1}{2}\\left[\\operatorname{tr}\\left(\\sigma_X^{\\prime} \\partial_{xx^{\\prime}} v^e \\sigma_X\\right)+\\frac{1-\\gamma_e}{\\gamma_e}\\left(\\sigma_X^{\\prime} \\partial_x v_e\\right)^{\\prime}\\left[\\gamma_e \\mathbb{I}_d+\\left(1-\\gamma_e\\right) \\frac{\\sigma_R \\sigma_R^{\\prime}}{\\left\\|\\sigma_R\\right\\|^2}\\right] \\sigma_X^{\\prime} \\partial_x v^e\\right]= 0 \n",
    "\\end{split}\n",
    "\\end{align*}\n",
    "\n",
    "2) Household's HJB equation\n",
    "\n",
    "\\begin{align*}\n",
    "    \\begin{split}\n",
    "    {L}^h_{HJB} \\left(v^e, v^h, \\kappa, \\chi;x \\right) &= \\frac{\\rho_h}{1-\\rho_h} \\delta_h^{1 / \\rho_h} \\exp\\left[\\left(1- \\frac{1}{\\rho_h}\\right)v^h\\right] - \\frac{\\delta_h}{1-\\rho_h} + r \\\\\n",
    "    &+ \\frac{1}{2 \\gamma_h}\\|\\pi^h\\|^2 \\\\\n",
    "    &+ \\left[\\mu_X + \\frac{1-\\gamma_h}{\\gamma_h} \\sigma_X \\pi^h\\right] \\cdot \\partial_x v^h \\\\\n",
    "    &+ \\frac{1}{2}\\left[\\operatorname{tr}\\left(\\sigma_X^{\\prime} \\partial_{xx^{\\prime}} v^h \\sigma_X\\right) + \\frac{1-\\gamma_h}{\\gamma_h}\\left\\|\\sigma_X^{\\prime} \\partial_x v^h\\right\\|^2\\right] = 0\n",
    "    \\end{split}\n",
    "\\end{align*}\n",
    "\n",
    "3) Optimal expert capital share\n",
    "\n",
    "\\begin{align*}\n",
    "    \\begin{split}\n",
    "    {L}_{\\kappa} \\left(v^e, v^h,\\kappa, \\chi;x \\right) &= \\min\\Big\\{ 1 - \\kappa, \\, w\\gamma_h (1-\\chi\\kappa) | \\sigma_R |^2 - (1-w) \\gamma_e \\chi \\kappa | \\sigma_R |^2 \\\\\n",
    "    &+ w(1-w) \\frac{\\alpha_e - \\alpha_h}{\\underline{\\chi} q} \\\\\n",
    "    &+ w(1-w) \\left( \\sigma_x \\sigma_R \\right) \\cdot \\left[ (\\gamma_h-1)\\partial_x \\upsilon^h -  (\\gamma_e-1)\\partial_x \\upsilon^e \\right] \\Big\\} = 0\n",
    "    \\end{split}\n",
    "\\end{align*}\n",
    "\n",
    "4) Optimal expert equity retention\n",
    "\n",
    "\\begin{align*}\n",
    "    \\begin{split}\n",
    "    {L}_{\\chi} \\left(v^e, v^h, \\kappa, \\chi;x \\right) &= \\min\\Big\\{ \\chi - \\underline{\\chi}, \\, \\Big[ ((1-w)\\gamma_e + w\\gamma_h) | D_{z} |^2 + (\\partial_w \\log q) D_{\\upsilon,z} - D_{\\upsilon,w} \\Big](\\chi - w) \\\\\n",
    "    &+ w(1-w) (\\gamma_e - \\gamma_h) | D_{z} |^2 - D_{\\upsilon,z} \\Big\\} = 0\n",
    "    \\end{split}\n",
    "\\end{align*}\n",
    "\n",
    "Where:\n",
    "\n",
    "\\begin{align*}\n",
    " D_{z} &\\doteq \\sqrt{z_2}\\sigma_k + \\sigma_{z}' \\partial_{z} \\log q \\\\\n",
    " D_{\\upsilon,w} &\\doteq w(1-w) | D_{z} |^2 \\partial_w  \\big[ (\\gamma_h - 1) \\upsilon^h - (\\gamma_e - 1)\\upsilon^e \\big] \\\\\n",
    " D_{\\upsilon,z} &\\doteq w(1-w) \\left(\\sigma_{z}D_{z} \\right) \\cdot \\partial_{z} \\big[ (\\gamma_h - 1) \\upsilon^h - (\\gamma_e - 1)\\upsilon^e  \\big]\n",
    "\\end{align*}\n",
    "\n",
    "Since $\\chi$ can be solved algebraically, we solve (1) to (3)."
   ]
  },
  {
   "cell_type": "code",
   "execution_count": null,
   "metadata": {},
   "outputs": [],
   "source": []
  },
  {
   "cell_type": "markdown",
   "metadata": {},
   "source": [
    "## 4.1 Solution Overview\n",
    "### 4.1.1 Model Architecture\n",
    "We modify the `DeepGalerkinMethod` code from https://github.com/alialaradi/DeepGalerkinMethod. We construct a feedforward, dense neural network to approximate $v^e$, $v^h$ and $\\kappa$ as functions of the states.\n",
    "\n",
    "```{figure}  images/image_het_fdm.png\n",
    "---\n",
    "name: two-capital\n",
    "---\n",
    "Example taken from Figure 11 of the paper.\n",
    "```"
   ]
  },
  {
   "cell_type": "markdown",
   "metadata": {},
   "source": [
    "We employ the following hyperparameters:\n",
    "\n",
    "```{list-table}\n",
    ":header-rows: 1\n",
    "\n",
    "* - Input\n",
    "  - Description\n",
    "  - Parameter used in paper\n",
    "* - `n_layers`\n",
    "  - Number of layers\n",
    "  - 2\n",
    "* - `units`\n",
    "  - Number of neurons in each layer\n",
    "  - 16\n",
    "* - `input_dim`\n",
    "  - Dimension of input into first layer\n",
    "  - 3 (This should be the same as the number of states)\n",
    "* - `activation`\n",
    "  - Activation function for all layers except the last\n",
    "  - tanh\n",
    "* - `final_activation`\n",
    "  - Activation function for final layer\n",
    "  - Identity function for first two dimensions; sigmoid for third dimension. This is so that...\n",
    "* - `seed`\n",
    "  - Seed for weight and bias initialization\n",
    "  - 256\n",
    "```\n",
    "\n",
    "We use a Glorot normal initializer to initialize weights and a Glorot uniform initializer to initialize the biases.\n"
   ]
  },
  {
   "cell_type": "markdown",
   "metadata": {
    "vscode": {
     "languageId": "plaintext"
    }
   },
   "source": [
    "### 4.1.2 Training\n",
    "The training set is constructed by drawing uniformly from the three-dimensional cube bounded by [`wMin`,`zMin`,`vMin`] and [`wMax`,`zMax`,`vMax`]. The loss function is given by the mean squared error of $L$, where:\n",
    "\n",
    "$$\n",
    "L = {L}^e_{HJB} + {L}^h_{HJB} + p{L}_{\\kappa}\n",
    "$$\n",
    "\n",
    "Where $p$ is a penalization parameter. We compute gradients using `tf.GradientTape` and use an `L-BFGS-B` solver. The full list of parameters for the training stage are:\n",
    "\n",
    "```{list-table}\n",
    ":header-rows: 1\n",
    "\n",
    "* - Input\n",
    "  - Description\n",
    "  - Parameter used in paper\n",
    "* - `points_size`\n",
    "  - Determines the `batchSize`, which is $2^x$ where $x$ is `points_size`. Batch size is the number of training samples in each epoch\n",
    "  - 10\n",
    "* - `iter_num`\n",
    "  - Number of epochs, i.e. the number of complete passes through the training set\n",
    "  - 5\n",
    "* - `penalization`\n",
    "  - Penalty for violating $\\kappa$ constraint\n",
    "  - 10000\n",
    "* - `seed`\n",
    "  - Seed for drawing uniform samples\n",
    "  - 256 (same as seed for initialization)\n",
    "* - `max_iter`\n",
    "  - Maximum number of L-BFGS-B iterations (number of times parameters are updated) per epoch\n",
    "  - 100\n",
    "* - `maxfun`\n",
    "  - Maximum number of function evaluations per epoch\n",
    "  - 100\n",
    "* - `maxcor`\n",
    "  - The maximum number of variable metric corrections used to define the limited memory matrix used to compute the Hessian per epoch\n",
    "  - 100\n",
    "* - `maxls`\n",
    "  - Maximum number of line search steps per iteration used to find the optimal step-size\n",
    "  - 100\n",
    "* - `gtol`\n",
    "  - Iteration will stop when $\\max|proj(g_i)| \\leq$ `gtol` for each entry $i$ of the (projected) gradient vector\n",
    "  - Machine epsilon for float64 (~$2^{-16}$)\n",
    "* - `ftol`\n",
    "  - Iteration will stop when $\\frac{L^k - L^{k+1}}{\\max{|L^k|,|L^{k+1}|,1}} \\leq$ `ftol`\n",
    "  - Machine epsilon for float64 (~$2^{-16}$)\n",
    "* - `tolerance`\n",
    "  - Iteration will stop when, after fully completing an epoch, $L$ is less than `tolerance`\n",
    "  - $10^{-5}$\n",
    "```\n"
   ]
  },
  {
   "cell_type": "markdown",
   "metadata": {},
   "source": [
    "### 4.1.3 Model Parameters\n",
    "We also need to set model parameters. These will vary depending on the environment chosen from Section 5.1. By default, the following parameters are allowed as inputs to `main_BFGS`:\n",
    "```{list-table}\n",
    ":header-rows: 1\n",
    "\n",
    "* - Input\n",
    "  - Description\n",
    "  - Parameter used in paper\n",
    "* - `chiUnderline`\n",
    "  - Skin-in-the-game constraint\n",
    "  - $\\underline{\\chi}$\n",
    "* - `gamma_e`, `gamma_h`\n",
    "  - Expert and household uncertainty aversion\n",
    "  - $\\gamma_e, \\gamma_h$\n",
    "* - `a_e`, `a_h`\n",
    "  - Expert and household productivity\n",
    "  - $\\alpha_e, \\alpha_h$\n",
    "* - `delta_e`,`delta_h`\n",
    "  - Expert and household discount rate\n",
    "  - $\\delta_e, \\delta_h$\n",
    "* - `rho_e`,`rho_h`\n",
    "  - Expert and household inverse of IES\n",
    "  - $\\rho_e, \\rho_h$\n",
    "* - `lambda_d`\n",
    "  - Birth/death rate\n",
    "  - $\\lambda_d$\n",
    "* - `nu`\n",
    "  - Fraction of newborns which are experts\n",
    "  - $\\nu$\n",
    "* - `V_bar`\n",
    "  - Mean of $Z_2$\n",
    "  - $\\mu_2$\n",
    "* - `sigma_K_norm`, `sigma_Z_norm`, `sigma_V_norm`\n",
    "  - Normalization for variances; these are multiplied by the covariance matrix specified in `utils_para` to yield $\\sigma_k, \\sigma_1, \\sigma2$\n",
    "  - \n",
    "* - `wMin`, `wMax`\n",
    "  - Bounds for training set for $W$; the corresponding bounds for $Z_1$ and $Z_2$ can be edited in `utils_para`\n",
    "  - \n",
    "* - `nWealth`, `nZ`, `nV`\n",
    "  - Number of gridpoints for each state variable; this does not have any effect on the solution but will determine the evaluation of variables of interest using the solution at a later step\n",
    "  - \n",
    "* - `shock_expo`\n",
    "  - Determines whether the shock exposure matrix is \"upper_triangular\" or \"lower_triangular\"\n",
    "  - \n",
    "```"
   ]
  },
  {
   "cell_type": "markdown",
   "metadata": {},
   "source": [
    "In addition, the following parameters can be edited in the `utils_para` file. They do not vary across the models explored in the paper, but the user may wish to explore their own variations.\n",
    "\n",
    "```{list-table}\n",
    ":header-rows: 1\n",
    "\n",
    "* - Input\n",
    "  - Description\n",
    "  - Notation used in paper\n",
    "  - Default used in paper\n",
    "* - `Z_bar`\n",
    "  - Mean of $Z^1$\n",
    "  - \n",
    "  - 0.0\n",
    "* - `lambda_Z`\n",
    "  - Persistence of $Z^1\n",
    "  - $\\beta_1$\n",
    "  - 0.056\n",
    "* - `lambda_V`\n",
    "  - Persistence of $Z^2$\n",
    "  - $\\beta_2$\n",
    "  - 0.194\n",
    "* - `alpha_K`\n",
    "  - $\\eta_k$\n",
    "  - $\\alpha$\n",
    "  - 0.04\n",
    "* - `phi`\n",
    "  - Adjustment cost\n",
    "  - $\\phi$\n",
    "  - 8.0\n",
    "* - `covij`\n",
    "  - $i,j$ entry in shock exposure matrix \n",
    "  - \n",
    "  - See Table 1 in paper\n",
    "* - `numSds`\n",
    "  - Governs grid size for $Z^1$ and $Z^2$ (number of standard deviations from the mean)\n",
    "  - \n",
    "  - 5\n",
    "* - `zmin`,`zmax`\n",
    "  - Grid boundaries for $Z^1$\n",
    "  - \n",
    "  - $\\mu_1 \\pm SD Var{Z_1|Z_2=\\mu_2}$ where $S=$`numSds`\n",
    "* - `vmin`,`vmax`\n",
    "  - Grid boundaries for $Z^2$\n",
    "  - \n",
    "  - `vmin` = $10^{-8}$,`vmax` = $\\mu_2 + SD Var{Z_2|Z_2=\\mu_2}$ where $S=$`numSds`\n",
    "```"
   ]
  },
  {
   "cell_type": "markdown",
   "metadata": {},
   "source": [
    "## 4.2 Quick Start\n",
    "We can build and train the neural network as follows. First, we import libraries:"
   ]
  },
  {
   "cell_type": "code",
   "execution_count": 12,
   "metadata": {
    "tags": [
     "remove-output"
    ]
   },
   "outputs": [],
   "source": [
    "import json\n",
    "import numpy as np\n",
    "import tensorflow as tf \n",
    "import time \n",
    "import os\n",
    "os.chdir(\"src/4\")\n",
    "from main_BFGS import main\n",
    "from utils_para import setModelParameters\n",
    "from utils_training import training_step_BFGS\n",
    "from utils_DGM import DGMNet\n",
    "os.chdir(\"../..\")\n",
    "import warnings\n",
    "warnings.filterwarnings(\"ignore\")\n",
    "tf.get_logger().setLevel('ERROR')\n",
    "tf.config.set_visible_devices([], 'GPU')"
   ]
  },
  {
   "cell_type": "markdown",
   "metadata": {},
   "source": [
    "Next, we set the model parameters and hyperparameters. In the following example, we have used a variant of Model RF."
   ]
  },
  {
   "cell_type": "code",
   "execution_count": 18,
   "metadata": {},
   "outputs": [],
   "source": [
    "chiUnderline = 1.0\n",
    "gamma_e = 4.0\n",
    "a_e=0.0922\n",
    "a_h=0.0\n",
    "gamma_h=4.0\n",
    "delta_e=0.0115\n",
    "delta_h=0.01\n",
    "lambda_d=0.0\n",
    "rho_e=1.0\n",
    "rho_h=1.0\n",
    "nu=0.1\n",
    "\n",
    "V_bar=0.0000063030303030303026\n",
    "sigma_K_norm=3.1707442821755683\n",
    "sigma_Z_norm=19.835431735873996\n",
    "sigma_V_norm=0.0010882177801089308\n",
    "wMin=0.01\n",
    "wMax=0.99\n",
    "\n",
    "nWealth=180\n",
    "nZ=30\n",
    "nV=30\n",
    "\n",
    "seed_=(256)\n",
    "n_layers_=(2)\n",
    "units_=(16)\n",
    "points_size_=(10)\n",
    "iter_num_=(5)\n",
    "penalization=10000\n",
    "\n",
    "BFGSmaxiter=100\n",
    "BFGSmaxfun=100\n",
    "action_name = 'test'\n",
    "\n",
    "seed=256\n",
    "n_layers=2\n",
    "units=16\n",
    "points_size=10\n",
    "iter_num=5\n",
    "penalization=10000\n",
    "BFGS_maxiter=100\n",
    "BFGS_maxfun=100\n",
    "shock_expo = 'upper_triangular'\n"
   ]
  },
  {
   "cell_type": "code",
   "execution_count": 19,
   "metadata": {},
   "outputs": [],
   "source": [
    "## Domain parameters\n",
    "domain_list = [nWealth, nZ, nV, V_bar, sigma_K_norm, sigma_Z_norm, sigma_V_norm, wMin, wMax]\n",
    "wMin, wMax = [str(\"{:0.3f}\".format(param)).replace('.', '', 1) for param in [wMin, wMax]]\n",
    "domain_folder = 'nW_' + str(nWealth) + '_nZ_' + str(nZ) + '_nV_' + str(nV) + '_wMin_' + wMin + '_wMax_' + wMax\n",
    "nDims = 3\n",
    "\n",
    "## Model parameters\n",
    "parameter_list = [chiUnderline, a_e, a_h, gamma_e, gamma_h, rho_e, rho_h, delta_e, delta_h, lambda_d, nu]\n",
    "chiUnderline, a_e, a_h, gamma_e, gamma_h, rho_e, rho_h, delta_e, delta_h, lambda_d, nu = [str(\"{:0.3f}\".format(param)).replace('.', '', 1) for param in parameter_list]\n",
    "model_folder = 'chiUnderline_' + chiUnderline + '_a_e_' + a_e + '_a_h_' + a_h  + '_gamma_e_' + gamma_e + '_gamma_h_' + gamma_h + '_rho_e_' + rho_e + '_rho_h_' + rho_h + '_delta_e_' + delta_e + '_delta_h_' + delta_h + '_lambda_d_' + lambda_d + '_nu_' + nu\n",
    "\n",
    "## NN layer parameters\n",
    "layer_folder =  'seed_' + str(seed) + '_n_layers_' + str(n_layers) + '_units_' + str(units) +'_points_size_' + str(points_size) + '_iter_num_' + str(iter_num) + '_penalization_' + str(penalization)\n",
    "\n",
    "## Working directory\n",
    "workdir = os.getcwd()\n",
    "srcdir = workdir + '/src/'\n",
    "datadir = f'{workdir}/data/{action_name}/{shock_expo}/{domain_folder}/{model_folder}/'\n",
    "outputdir = f'/output/{action_name}/{shock_expo}/{domain_folder}/{model_folder}/{layer_folder}/'\n",
    "# os.makedirs(datadir, exist_ok=True)\n",
    "# os.makedirs(outputdir, exist_ok=True)\n",
    "\n",
    "tf.random.set_seed(seed)\n",
    "np.random.seed(seed)\n",
    "tolerance = 1e-4\n",
    "\n",
    "## Generate parameter set\n",
    "params = setModelParameters(parameter_list, domain_list, nDims, datadir, shock_expo)\n",
    "batchSize = int(2 ** points_size)\n",
    "dimension = 3\n",
    "activation = 'tanh'\n",
    "final_transformation = 'sigmoid'\n",
    "\n",
    "## scipy BFGS optimization parameters\n",
    "BFGS_gtol = 1.0 * np.finfo(float).eps\n",
    "BFGS_maxcor = 100\n",
    "BFGS_maxls = 100\n",
    "BFGS_ftol = 1.0 * np.finfo(float).eps\n",
    "\n",
    "## NN structure\n",
    "tf.keras.backend.set_floatx(\"float64\")\n",
    "sim_NN = DGMNet(layer_width=units, n_layers=n_layers, input_dim=dimension, activation=activation, final_trans=final_transformation, seed=seed)\n"
   ]
  },
  {
   "cell_type": "code",
   "execution_count": 31,
   "metadata": {},
   "outputs": [
    {
     "data": {
      "text/plain": [
       "[<tf.Variable 'W:0' shape=(3, 16) dtype=float64, numpy=\n",
       " array([[ 0.1287263 , -0.54765948, -0.38464545, -0.06719901, -0.0794641 ,\n",
       "         -0.28169006, -0.38299076, -0.59873452, -0.04973694, -0.44824715,\n",
       "          0.04717072,  0.56498754,  0.21815235, -0.06188824,  0.42166693,\n",
       "          0.03513339],\n",
       "        [-0.49503665,  0.17228723,  0.07024584,  0.55747623,  0.14858573,\n",
       "          0.20995629,  0.1587072 , -0.13650688, -0.21440493, -0.28541127,\n",
       "          0.06534547, -0.06226814,  0.4057487 , -0.55682658, -0.33289218,\n",
       "          0.0931209 ],\n",
       "        [ 0.17679392, -0.41817618, -0.39026611, -0.06868003, -0.38492977,\n",
       "         -0.1501486 ,  0.03165665,  0.12630851, -0.05194649, -0.37847762,\n",
       "          0.31673262,  0.11819157,  0.53612066,  0.09665649, -0.26042931,\n",
       "         -0.57841684]])>,\n",
       " <tf.Variable 'b:0' shape=(1, 16) dtype=float64, numpy=\n",
       " array([[-0.22281198, -0.04365614,  0.13559551,  0.03829572, -0.34546084,\n",
       "         -0.52935881,  0.13123024,  0.18218634,  0.34778572,  0.32158045,\n",
       "          0.28361965, -0.28858265, -0.02053949, -0.31894658,  0.20620147,\n",
       "          0.41529993]])>]"
      ]
     },
     "execution_count": 31,
     "metadata": {},
     "output_type": "execute_result"
    }
   ],
   "source": [
    "sim_NN.initial_layer.trainable_variables"
   ]
  },
  {
   "cell_type": "code",
   "execution_count": 10,
   "metadata": {
    "tags": [
     "hide-output"
    ]
   },
   "outputs": [
    {
     "ename": "ValueError",
     "evalue": "Unknown format code 'f' for object of type 'str'",
     "output_type": "error",
     "traceback": [
      "\u001b[0;31m---------------------------------------------------------------------------\u001b[0m",
      "\u001b[0;31mValueError\u001b[0m                                Traceback (most recent call last)",
      "Input \u001b[0;32mIn [10]\u001b[0m, in \u001b[0;36m<cell line: 1>\u001b[0;34m()\u001b[0m\n\u001b[0;32m----> 1\u001b[0m \u001b[43mmain\u001b[49m\u001b[43m(\u001b[49m\u001b[43maction_name\u001b[49m\u001b[43m,\u001b[49m\u001b[43m \u001b[49m\u001b[43mnWealth\u001b[49m\u001b[43m,\u001b[49m\u001b[43m \u001b[49m\u001b[43mnZ\u001b[49m\u001b[43m,\u001b[49m\u001b[43m \u001b[49m\u001b[43mnV\u001b[49m\u001b[43m,\u001b[49m\u001b[43m \u001b[49m\u001b[43mV_bar\u001b[49m\u001b[43m,\u001b[49m\u001b[43m \u001b[49m\u001b[43msigma_K_norm\u001b[49m\u001b[43m,\u001b[49m\u001b[43m \u001b[49m\u001b[43msigma_Z_norm\u001b[49m\u001b[43m,\u001b[49m\u001b[43m \u001b[49m\u001b[43msigma_V_norm\u001b[49m\u001b[43m,\u001b[49m\u001b[43m \u001b[49m\u001b[43mwMin\u001b[49m\u001b[43m,\u001b[49m\u001b[43m \u001b[49m\u001b[43mwMax\u001b[49m\u001b[43m,\u001b[49m\u001b[43m \u001b[49m\u001b[43mchiUnderline\u001b[49m\u001b[43m,\u001b[49m\u001b[43m \u001b[49m\u001b[43ma_e\u001b[49m\u001b[43m,\u001b[49m\u001b[43m \u001b[49m\u001b[43ma_h\u001b[49m\u001b[43m,\u001b[49m\u001b[43m \u001b[49m\u001b[43mgamma_e\u001b[49m\u001b[43m,\u001b[49m\u001b[43m \u001b[49m\u001b[43mgamma_h\u001b[49m\u001b[43m,\u001b[49m\u001b[43m \u001b[49m\u001b[43mrho_e\u001b[49m\u001b[43m,\u001b[49m\u001b[43m \u001b[49m\u001b[43mrho_h\u001b[49m\u001b[43m,\u001b[49m\u001b[43m \u001b[49m\u001b[43mdelta_e\u001b[49m\u001b[43m,\u001b[49m\u001b[43m \u001b[49m\u001b[43mdelta_h\u001b[49m\u001b[43m,\u001b[49m\u001b[43m \u001b[49m\u001b[43mlambda_d\u001b[49m\u001b[43m,\u001b[49m\u001b[43m \u001b[49m\u001b[43mnu\u001b[49m\u001b[43m,\u001b[49m\u001b[43m \u001b[49m\u001b[43mshock_expo\u001b[49m\u001b[43m,\u001b[49m\u001b[43m \u001b[49m\u001b[43mn_layers\u001b[49m\u001b[43m,\u001b[49m\u001b[43m \u001b[49m\u001b[43mpoints_size\u001b[49m\u001b[43m,\u001b[49m\u001b[43m \u001b[49m\u001b[43miter_num\u001b[49m\u001b[43m,\u001b[49m\u001b[43m \u001b[49m\u001b[43munits\u001b[49m\u001b[43m,\u001b[49m\u001b[43m \u001b[49m\u001b[43mseed\u001b[49m\u001b[43m,\u001b[49m\u001b[43m \u001b[49m\u001b[43mpenalization\u001b[49m\u001b[43m,\u001b[49m\u001b[43m \u001b[49m\u001b[43mBFGS_maxiter\u001b[49m\u001b[43m,\u001b[49m\u001b[43m \u001b[49m\u001b[43mBFGS_maxfun\u001b[49m\u001b[43m)\u001b[49m\n",
      "File \u001b[0;32m/project/lhansen/macrofinance/src/4/main_BFGS.py:18\u001b[0m, in \u001b[0;36mmain\u001b[0;34m(action_name, nWealth, nZ, nV, V_bar, sigma_K_norm, sigma_Z_norm, sigma_V_norm, wMin, wMax, chiUnderline, a_e, a_h, gamma_e, gamma_h, rho_e, rho_h, delta_e, delta_h, lambda_d, nu, shock_expo, n_layers, points_size, iter_num, units, seed, penalization, BFGS_maxiter, BFGS_maxfun)\u001b[0m\n\u001b[1;32m     15\u001b[0m \u001b[38;5;28;01mdef\u001b[39;00m \u001b[38;5;21mmain\u001b[39m(action_name, nWealth, nZ, nV, V_bar, sigma_K_norm, sigma_Z_norm, sigma_V_norm, wMin, wMax, chiUnderline, a_e, a_h, gamma_e, gamma_h, rho_e, rho_h, delta_e, delta_h, lambda_d, nu, shock_expo, n_layers, points_size, iter_num, units, seed, penalization, BFGS_maxiter, BFGS_maxfun):\n\u001b[1;32m     16\u001b[0m     \u001b[38;5;66;03m## Domain parameters\u001b[39;00m\n\u001b[1;32m     17\u001b[0m     domain_list \u001b[38;5;241m=\u001b[39m [nWealth, nZ, nV, V_bar, sigma_K_norm, sigma_Z_norm, sigma_V_norm, wMin, wMax]\n\u001b[0;32m---> 18\u001b[0m     wMin, wMax \u001b[38;5;241m=\u001b[39m [\u001b[38;5;28mstr\u001b[39m(\u001b[38;5;124m\"\u001b[39m\u001b[38;5;132;01m{:0.3f}\u001b[39;00m\u001b[38;5;124m\"\u001b[39m\u001b[38;5;241m.\u001b[39mformat(param))\u001b[38;5;241m.\u001b[39mreplace(\u001b[38;5;124m'\u001b[39m\u001b[38;5;124m.\u001b[39m\u001b[38;5;124m'\u001b[39m, \u001b[38;5;124m'\u001b[39m\u001b[38;5;124m'\u001b[39m, \u001b[38;5;241m1\u001b[39m) \u001b[38;5;28;01mfor\u001b[39;00m param \u001b[38;5;129;01min\u001b[39;00m [wMin, wMax]]\n\u001b[1;32m     19\u001b[0m     domain_folder \u001b[38;5;241m=\u001b[39m \u001b[38;5;124mf\u001b[39m\u001b[38;5;124m'\u001b[39m\u001b[38;5;124mnW_\u001b[39m\u001b[38;5;132;01m{\u001b[39;00mnWealth\u001b[38;5;132;01m}\u001b[39;00m\u001b[38;5;124m_nZ_\u001b[39m\u001b[38;5;132;01m{\u001b[39;00mnZ\u001b[38;5;132;01m}\u001b[39;00m\u001b[38;5;124m_nV_\u001b[39m\u001b[38;5;132;01m{\u001b[39;00mnV\u001b[38;5;132;01m}\u001b[39;00m\u001b[38;5;124m_wMin_\u001b[39m\u001b[38;5;132;01m{\u001b[39;00mwMin\u001b[38;5;132;01m}\u001b[39;00m\u001b[38;5;124m_wMax_\u001b[39m\u001b[38;5;132;01m{\u001b[39;00mwMax\u001b[38;5;132;01m}\u001b[39;00m\u001b[38;5;124m'\u001b[39m\n\u001b[1;32m     20\u001b[0m     nDims \u001b[38;5;241m=\u001b[39m \u001b[38;5;241m3\u001b[39m\n",
      "File \u001b[0;32m/project/lhansen/macrofinance/src/4/main_BFGS.py:18\u001b[0m, in \u001b[0;36m<listcomp>\u001b[0;34m(.0)\u001b[0m\n\u001b[1;32m     15\u001b[0m \u001b[38;5;28;01mdef\u001b[39;00m \u001b[38;5;21mmain\u001b[39m(action_name, nWealth, nZ, nV, V_bar, sigma_K_norm, sigma_Z_norm, sigma_V_norm, wMin, wMax, chiUnderline, a_e, a_h, gamma_e, gamma_h, rho_e, rho_h, delta_e, delta_h, lambda_d, nu, shock_expo, n_layers, points_size, iter_num, units, seed, penalization, BFGS_maxiter, BFGS_maxfun):\n\u001b[1;32m     16\u001b[0m     \u001b[38;5;66;03m## Domain parameters\u001b[39;00m\n\u001b[1;32m     17\u001b[0m     domain_list \u001b[38;5;241m=\u001b[39m [nWealth, nZ, nV, V_bar, sigma_K_norm, sigma_Z_norm, sigma_V_norm, wMin, wMax]\n\u001b[0;32m---> 18\u001b[0m     wMin, wMax \u001b[38;5;241m=\u001b[39m [\u001b[38;5;28mstr\u001b[39m(\u001b[38;5;124;43m\"\u001b[39;49m\u001b[38;5;132;43;01m{:0.3f}\u001b[39;49;00m\u001b[38;5;124;43m\"\u001b[39;49m\u001b[38;5;241;43m.\u001b[39;49m\u001b[43mformat\u001b[49m\u001b[43m(\u001b[49m\u001b[43mparam\u001b[49m\u001b[43m)\u001b[49m)\u001b[38;5;241m.\u001b[39mreplace(\u001b[38;5;124m'\u001b[39m\u001b[38;5;124m.\u001b[39m\u001b[38;5;124m'\u001b[39m, \u001b[38;5;124m'\u001b[39m\u001b[38;5;124m'\u001b[39m, \u001b[38;5;241m1\u001b[39m) \u001b[38;5;28;01mfor\u001b[39;00m param \u001b[38;5;129;01min\u001b[39;00m [wMin, wMax]]\n\u001b[1;32m     19\u001b[0m     domain_folder \u001b[38;5;241m=\u001b[39m \u001b[38;5;124mf\u001b[39m\u001b[38;5;124m'\u001b[39m\u001b[38;5;124mnW_\u001b[39m\u001b[38;5;132;01m{\u001b[39;00mnWealth\u001b[38;5;132;01m}\u001b[39;00m\u001b[38;5;124m_nZ_\u001b[39m\u001b[38;5;132;01m{\u001b[39;00mnZ\u001b[38;5;132;01m}\u001b[39;00m\u001b[38;5;124m_nV_\u001b[39m\u001b[38;5;132;01m{\u001b[39;00mnV\u001b[38;5;132;01m}\u001b[39;00m\u001b[38;5;124m_wMin_\u001b[39m\u001b[38;5;132;01m{\u001b[39;00mwMin\u001b[38;5;132;01m}\u001b[39;00m\u001b[38;5;124m_wMax_\u001b[39m\u001b[38;5;132;01m{\u001b[39;00mwMax\u001b[38;5;132;01m}\u001b[39;00m\u001b[38;5;124m'\u001b[39m\n\u001b[1;32m     20\u001b[0m     nDims \u001b[38;5;241m=\u001b[39m \u001b[38;5;241m3\u001b[39m\n",
      "\u001b[0;31mValueError\u001b[0m: Unknown format code 'f' for object of type 'str'"
     ]
    }
   ],
   "source": [
    "main(action_name, nWealth, nZ, nV, V_bar, sigma_K_norm, sigma_Z_norm, sigma_V_norm, wMin, wMax, chiUnderline, a_e, a_h, gamma_e, gamma_h, rho_e, rho_h, delta_e, delta_h, lambda_d, nu, shock_expo, n_layers, points_size, iter_num, units, seed, penalization, BFGS_maxiter, BFGS_maxfun)\n"
   ]
  },
  {
   "cell_type": "markdown",
   "metadata": {},
   "source": [
    "Now that we have a solution, we can compute variables of interest, which can subsequently be used to compute shock elasticities. By default, `main_variable` computes the following variables. Unless specified otherwise, the variables are evaluated on an array with dimension [`nWealth`,`nZ`,`nV`].\n",
    "```{list-table}\n",
    ":header-rows: 1\n",
    "\n",
    "* - Output\n",
    "  - Description\n",
    "  - Notation used in paper\n",
    "* - `W_NN`, `Z_NN`, `V_NN`\n",
    "  - The values of $W$, $Z_1$ and $Z_2$ on the state-space grid\n",
    "  - \n",
    "* - `XiE_NN`, `XiH_NN`\n",
    "  - Expert and household value functions\n",
    "  - $V_e$, $V_h$\n",
    "* - `logXiE_NN`, `logXiH_NN`\n",
    "  - Log expert and household value functions\n",
    "  - $\\hat{V}_e$, $\\hat{V}_h$\n",
    "* - `chi_NN`\n",
    "  - Expert equity retention\n",
    "  - $\\chi$\n",
    "* - `kappa_NN`\n",
    "  - Expert capital share\n",
    "  - $\\kappa$\n",
    "* - `r_NN`\n",
    "  - Risk-free rate\n",
    "  - $r$\n",
    "* - `q_NN`\n",
    "  - Price of capital\n",
    "  - $Q$\n",
    "* - `sigmaW_NN`,`sigmaZ_NN`,`sigmaV_NN`\n",
    "  - State volatilities \n",
    "  - $Z^2 \\sigma_w$,$Z^2 \\sigma_1$, $Z^2 \\sigma_2$\n",
    "* - `muW_NN`,`muZ_NN`,`muV_NN`\n",
    "  - State drifts\n",
    "  - $\\mu_w$,$\\mu_1$,$\\mu_2$\n",
    "* - `muK_NN`\n",
    "  - Log capital drift\n",
    "  - $\\mu_{k}$\n",
    "* - `sigmaK_NN`\n",
    "  - Log capital diffusin\n",
    "  - $\\sigma_{k}$\n",
    "* - `muQ_NN`\n",
    "  - Capital price drift\n",
    "  - $\\mu_q$\n",
    "* - `sigmaQ_NN`\n",
    "  - Capital price diffusion\n",
    "  - $\\sigma_q$\n",
    "* - `sigmaR_NN`\n",
    "  - Capital return volatility\n",
    "  - $\\sigma_r$\n",
    "* - `deltaE_NN`, `deltaH_NN`\n",
    "  - Expert and household risk premium wedge\n",
    "  - $\\Delta^e$,$\\Delta^h$\n",
    "* - `PiE_NN`, `PiH_NN`\n",
    "  - Expert and household equity risk price\n",
    "  - $\\pi_e$,$\\pi_h$\n",
    "* - `betaE_NN`,`betaH_NN`\n",
    "  - \n",
    "  - $\\frac{\\chi \\kappa}{W}$, $\\frac{1- \\kappa}{W}$\n",
    "* - `HJB_E_NN`, `HJB_H_NN`, `kappa_min_NN`\n",
    "  - RHS of HJB equations and $\\kappa$ constraint evaluated on the state space grid\n",
    "  - $L^e$, $L^h$, $L^{\\kappa}$\n",
    "* - `HJBE_validation_MSE`, `HJBH_validation_MSE`, `kappa_validation_MSE`\n",
    "  - Loss function (scalar)\n",
    "  - \n",
    "* - `dent_NN`\n",
    "  - Stationary density\n",
    "  - \n",
    "* - `dX_logXiE_NN`, `dX_logXiH_NN`, `dX2_logXiE_NN`, `dX2_logXiH_NN`\n",
    "  - First and second derivatives of expert and household value function with respect to each of the states; separate objects for each state are also included\n",
    "  - \n",
    "* - `mulogSe_NN`, `mulogSh_NN`\n",
    "  - Log SDF drifts for expert and household\n",
    "  - $-r_t S_t^e$, $-r_t S_t^h$\n",
    "* - `sigmalogSe_NN`, `sigmalogSh_NN`\n",
    "  - Log SDF diffusions for expert and household\n",
    "  - $-S_t^e \\pi_t^e$, $-S_t^h \\pi_t^h$\n",
    "* - `mulogCe_NN`, `mulogCh_NN`\n",
    "  - Log consumption drifts for expert and household\n",
    "  - $\\hat{\\mu}_c^e$, $\\hat{\\mu}_c^h$\n",
    "* - `sigmalogCe_NN`, `sigmalogCh_NN`\n",
    "  - Log consumption diffusions for expert and household\n",
    "  - $\\sigma_c^e$, $\\sigma_c^h$\n",
    "* - `mulogC_NN`\n",
    "  - Log aggregate consumption drift\n",
    "  - $\\hat{\\mu}_c$\n",
    "* - `sigmalogC_NN`\n",
    "  - Log aggregate consumption diffusion\n",
    "  - $\\sigma_c$\n",
    "```"
   ]
  },
  {
   "cell_type": "markdown",
   "metadata": {},
   "source": [
    "Given that a solution has been saved under the same parameters, the following code outputs the variables listed above. In addition, the `marginal_quantile_func_factory` function is called to save the above outputs evaluated at desired quantiles (e.g. $Z^2$ at median) for ease of plotting."
   ]
  },
  {
   "cell_type": "code",
   "execution_count": 4,
   "metadata": {},
   "outputs": [
    {
     "name": "stderr",
     "output_type": "stream",
     "text": [
      "2024-08-28 15:49:17.685366: I tensorflow/core/platform/cpu_feature_guard.cc:193] This TensorFlow binary is optimized with oneAPI Deep Neural Network Library (oneDNN) to use the following CPU instructions in performance-critical operations:  AVX2 AVX512F AVX512_VNNI FMA\n",
      "To enable them in other operations, rebuild TensorFlow with the appropriate compiler flags.\n"
     ]
    }
   ],
   "source": [
    "os.chdir('src/4')\n",
    "from main_variable import main_var\n",
    "os.chdir('../..')\n",
    "\n",
    "main_var(action_name, nWealth, nZ, nV, V_bar, sigma_K_norm, sigma_Z_norm, sigma_V_norm, wMin, wMax, chiUnderline, a_e, a_h, gamma_e, gamma_h, rho_e, rho_h, delta_e, delta_h, lambda_d, nu, shock_expo, n_layers, units, points_size, iter_num, seed, penalization, BFGS_maxiter, BFGS_maxfun)"
   ]
  },
  {
   "cell_type": "markdown",
   "metadata": {},
   "source": [
    "## 4.3 Plotting\n",
    "We can now plot the results."
   ]
  },
  {
   "cell_type": "code",
   "execution_count": 13,
   "metadata": {},
   "outputs": [],
   "source": [
    "import os\n",
    "import numpy as np\n",
    "os.chdir('src/4')\n",
    "from plot import return_NN_solution\n",
    "os.chdir('../..')\n",
    "import matplotlib.pyplot as plt\n",
    "import seaborn as sns\n",
    "sns.set(style=\"whitegrid\", font_scale=1.13, rc={\"lines.linewidth\": 3.5})\n",
    "plt.rcParams['axes.formatter.useoffset'] = True"
   ]
  },
  {
   "cell_type": "markdown",
   "metadata": {},
   "source": [
    "First we load in the results using the same parameters as before."
   ]
  },
  {
   "cell_type": "code",
   "execution_count": 10,
   "metadata": {},
   "outputs": [],
   "source": [
    "results = return_NN_solution(shock_expo=shock_expo, seed=seed, chiUnderline=chiUnderline, a_e=a_e, a_h=a_h, gamma_e=gamma_e, gamma_h=gamma_h, psi_e=rho_e, psi_h=rho_h, delta_e=delta_e, delta_h=delta_h, lambda_d=lambda_d, nu=nu, n_layers=n_layers, units=units, iter_num=iter_num, points_size=points_size, penalization=penalization, action_name=action_name)\n"
   ]
  },
  {
   "cell_type": "markdown",
   "metadata": {},
   "source": [
    "We provide an example plot below. Notice that we use `results['eva_V_10']` and `results['eva_V_90']` to extract the variables of interest evaluated at $Z^1=0$ and $Z^2$ at its 10th and 90th percentiles, respectively."
   ]
  },
  {
   "cell_type": "code",
   "execution_count": 25,
   "metadata": {},
   "outputs": [
    {
     "data": {
      "image/png": "[encoded data removed]",
      "text/plain": [
       "<Figure size 500x400 with 2 Axes>"
      ]
     },
     "metadata": {},
     "output_type": "display_data"
    }
   ],
   "source": [
    "fig, ax = plt.subplots(1,1, figsize=(5,4))\n",
    "W_dense = np.unique(results['eva_V_50']['W'])\n",
    "W_sparse = np.unique(results['W'].values)\n",
    "sns.lineplot(x = W_dense, y = results['eva_V_10']['PiE_NN'][:,0], ax = ax)\n",
    "sns.lineplot(x = W_dense, y = results['eva_V_90']['PiE_NN'][:,0], ax = ax)\n",
    "ax2 = ax.twinx()\n",
    "sns.lineplot(x = W_sparse, y = results['dentW'].values, ax = ax2, ls='--', color='grey',lw=2.0, alpha=0.5)\n",
    "ax2.grid(False)\n",
    "ax2.set_yticks([])\n",
    "ax2.set_ylim([0,0.03])\n",
    "\n",
    "ax.set_xlim(0,1.0)\n",
    "ax.grid(False)\n",
    "ax.set_ylim([0.0,1.0])\n",
    "ax.set_xlabel('W', fontsize=15)\n",
    "\n",
    "plt.tight_layout()"
   ]
  },
  {
   "cell_type": "code",
   "execution_count": null,
   "metadata": {},
   "outputs": [],
   "source": []
  },
  {
   "cell_type": "markdown",
   "metadata": {},
   "source": [
    "\n",
    "## 4.4 Finite Difference Method\n",
    "We employ a finite differences method from `mfrSuite` to solve the two-dimensional Model IP from Section 5, which we cover briefly here."
   ]
  },
  {
   "cell_type": "code",
   "execution_count": null,
   "metadata": {},
   "outputs": [],
   "source": [
    "import mfr.modelSoln as m\n",
    "import numpy as np\n",
    "import argparse\n",
    "import os\n",
    "import sys\n",
    "import warnings\n",
    "warnings.filterwarnings(\"ignore\")\n",
    "os.chdir('src/5')\n",
    "from main_evaluate import main_fdm"
   ]
  },
  {
   "cell_type": "markdown",
   "metadata": {},
   "source": [
    "The model inputs are identical to the neural network solution above, except that: we abstract away from $Z^2$; we have to set $dt$, the false-transient time-step; and some inputs have been moved inside the `main_solve.py` script."
   ]
  },
  {
   "cell_type": "code",
   "execution_count": null,
   "metadata": {},
   "outputs": [],
   "source": [
    "chiUnderline = 1.0\n",
    "a_e=0.0922\n",
    "a_h=0.0\n",
    "gamma_e = 4.0\n",
    "gamma_h=4.0\n",
    "delta_e=0.0115\n",
    "delta_h=0.01\n",
    "lambda_d=0.0\n",
    "rho_e=1.0\n",
    "rho_h=1.0\n",
    "nu=0.1\n",
    "dt = 0.1\n",
    "nWealth=180\n",
    "nZ=30\n",
    "shock_expo = 'upper_triangular'\n"
   ]
  },
  {
   "cell_type": "code",
   "execution_count": null,
   "metadata": {},
   "outputs": [],
   "source": [
    "main_fdm(nW=40, nZ=40, dt=0.05, a_e=0.15, a_h=0.13, rho_e=1.1, rho_h=1.2, gamma_e=1.5, gamma_h=1.3, \n",
    "          chiUnderline=1.2, action_name='test', shock_expo='upper_triangular', delta_e=0.02, delta_h=0.02, lambda_d=0.03, nu=0.02)\n"
   ]
  },
  {
   "cell_type": "markdown",
   "metadata": {},
   "source": [
    "We plot an example from the paper:"
   ]
  },
  {
   "cell_type": "markdown",
   "metadata": {
    "vscode": {
     "languageId": "julia"
    }
   },
   "source": [
    "```{figure}  images/image_het_fdm.png\n",
    "---\n",
    "name: two-capital\n",
    "---\n",
    "Example taken from Figure 11 of the paper.\n",
    "```"
   ]
  }
 ],
 "metadata": {
  "kernelspec": {
   "display_name": "envname",
   "language": "python",
   "name": "envname"
  },
  "language_info": {
   "codemirror_mode": {
    "name": "ipython",
    "version": 3
   },
   "file_extension": ".py",
   "mimetype": "text/x-python",
   "name": "python",
   "nbconvert_exporter": "python",
   "pygments_lexer": "ipython3",
   "version": "3.9.19"
  }
 },
 "nbformat": 4,
 "nbformat_minor": 2
}
