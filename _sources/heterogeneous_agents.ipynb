{
 "cells": [
  {
   "cell_type": "markdown",
   "metadata": {},
   "source": [
    "<a href=\"https://colab.research.google.com/github/lphansen/comparing_dsge/blob/gh-pages/_sources/heterogeneous_agents.ipynb\" target=\"_parent\"><img src=\"https://colab.research.google.com/assets/colab-badge.svg\" alt=\"Open In Colab\"/></a>\n"
   ]
  },
  {
   "cell_type": "markdown",
   "metadata": {},
   "source": [
    "# 4 Heterogeneous Agents \n",
    "This Python notebook covers the environment in section 5. We need to solve the following:\n",
    "\n",
    "1) Expert's HJB equation\n",
    "\\begin{align*}\n",
    "    \\begin{split}\n",
    "    {L}^e_{HJB} \\left(v^e, v^h, \\kappa, \\chi;x \\right) &= \\frac{\\rho_e}{1-\\rho_e} \\delta_e^{1 / \\rho_e} \\exp\\left[({1- \\frac{1}{\\rho_e}})v^e)\\right]-\\frac{\\delta_e}{1-\\rho_e}+r\\\\&+\\frac{1}{2 \\gamma_e} \\frac{\\left(\\Delta^e+\\pi^h \\cdot \\sigma_R\\right)^2}{\\left\\|\\sigma_R\\right\\|^2}\n",
    "+\\left[\\mu_X+\\frac{1-\\gamma_e}{\\gamma_e}\\left(\\frac{\\Delta^e+\\pi^h \\cdot \\sigma_R}{\\left\\|\\sigma_R\\right\\|^2}\\right) \\sigma_X \\sigma_R\\right] \\cdot \\partial_X v^e \\\\\n",
    "&+\\frac{1}{2}\\left[\\operatorname{tr}\\left(\\sigma_X^{\\prime} \\partial_{xx^{\\prime}} v^e \\sigma_X\\right)+\\frac{1-\\gamma_e}{\\gamma_e}\\left(\\sigma_X^{\\prime} \\partial_x v_e\\right)^{\\prime}\\left[\\gamma_e \\mathbb{I}_d+\\left(1-\\gamma_e\\right) \\frac{\\sigma_R \\sigma_R^{\\prime}}{\\left\\|\\sigma_R\\right\\|^2}\\right] \\sigma_X^{\\prime} \\partial_x v^e\\right]= 0 \n",
    "\\end{split}\n",
    "\\end{align*}\n",
    "\n",
    "2) Household's HJB equation\n",
    "\n",
    "\\begin{align*}\n",
    "    \\begin{split}\n",
    "    {L}^h_{HJB} \\left(v^e, v^h, \\kappa, \\chi;x \\right) &= \\frac{\\rho_h}{1-\\rho_h} \\delta_h^{1 / \\rho_h} \\exp\\left[\\left(1- \\frac{1}{\\rho_h}\\right)v^h\\right] - \\frac{\\delta_h}{1-\\rho_h} + r \\\\\n",
    "    &+ \\frac{1}{2 \\gamma_h}\\|\\pi^h\\|^2 \\\\\n",
    "    &+ \\left[\\mu_X + \\frac{1-\\gamma_h}{\\gamma_h} \\sigma_X \\pi^h\\right] \\cdot \\partial_x v^h \\\\\n",
    "    &+ \\frac{1}{2}\\left[\\operatorname{tr}\\left(\\sigma_X^{\\prime} \\partial_{xx^{\\prime}} v^h \\sigma_X\\right) + \\frac{1-\\gamma_h}{\\gamma_h}\\left\\|\\sigma_X^{\\prime} \\partial_x v^h\\right\\|^2\\right] = 0\n",
    "    \\end{split}\n",
    "\\end{align*}\n",
    "\n",
    "3) Optimal expert capital share\n",
    "\n",
    "\\begin{align*}\n",
    "    \\begin{split}\n",
    "    {L}_{\\kappa} \\left(v^e, v^h,\\kappa, \\chi;x \\right) &= \\min\\Big\\{ 1 - \\kappa, \\, w\\gamma_h (1-\\chi\\kappa) | \\sigma_R |^2 - (1-w) \\gamma_e \\chi \\kappa | \\sigma_R |^2 \\\\\n",
    "    &+ w(1-w) \\frac{\\alpha_e - \\alpha_h}{\\underline{\\chi} q} \\\\\n",
    "    &+ w(1-w) \\left( \\sigma_x \\sigma_R \\right) \\cdot \\left[ (\\gamma_h-1)\\partial_x \\upsilon^h -  (\\gamma_e-1)\\partial_x \\upsilon^e \\right] \\Big\\} = 0\n",
    "    \\end{split}\n",
    "\\end{align*}\n",
    "\n",
    "4) Optimal expert equity retention\n",
    "\n",
    "\\begin{align*}\n",
    "    \\begin{split}\n",
    "    {L}_{\\chi} \\left(v^e, v^h, \\kappa, \\chi;x \\right) &= \\min\\Big\\{ \\chi - \\underline{\\chi}, \\, \\Big[ ((1-w)\\gamma_e + w\\gamma_h) | D_{z} |^2 + (\\partial_w \\log q) D_{\\upsilon,z} - D_{\\upsilon,w} \\Big](\\chi - w) \\\\\n",
    "    &+ w(1-w) (\\gamma_e - \\gamma_h) | D_{z} |^2 - D_{\\upsilon,z} \\Big\\} = 0\n",
    "    \\end{split}\n",
    "\\end{align*}\n",
    "\n",
    "Where:\n",
    "\n",
    "\\begin{align*}\n",
    " D_{z} &\\doteq \\sqrt{z_2}\\sigma_k + \\sigma_{z}' \\partial_{z} \\log q \\\\\n",
    " D_{\\upsilon,w} &\\doteq w(1-w) | D_{z} |^2 \\partial_w  \\big[ (\\gamma_h - 1) \\upsilon^h - (\\gamma_e - 1)\\upsilon^e \\big] \\\\\n",
    " D_{\\upsilon,z} &\\doteq w(1-w) \\left(\\sigma_{z}D_{z} \\right) \\cdot \\partial_{z} \\big[ (\\gamma_h - 1) \\upsilon^h - (\\gamma_e - 1)\\upsilon^e  \\big]\n",
    "\\end{align*}\n",
    "\n",
    "Since $\\chi$ can be solved algebraically, we solve (1) to (3)."
   ]
  },
  {
   "cell_type": "code",
   "execution_count": null,
   "metadata": {},
   "outputs": [],
   "source": []
  },
  {
   "cell_type": "markdown",
   "metadata": {},
   "source": [
    "## 4.1 Solution Overview\n",
    "### 4.1.1 Model Architecture\n",
    "We modify the `DeepGalerkinMethod` code from the [companion code to Correia et. al 2018](https://github.com/alialaradi/DeepGalerkinMethod). We construct a feedforward, fully-connected neural network to approximate $v^e$, $v^h$ and $\\kappa$ as functions of the states.\n",
    "\n",
    "```{figure}  images/neural_network.png\n",
    "---\n",
    "name: neural_network\n",
    "---\n",
    "Neural network architecture used in this computation. Note that in the paper, `layer_width`=16.\n",
    "```"
   ]
  },
  {
   "cell_type": "markdown",
   "metadata": {},
   "source": [
    "We employ the following hyperparameters:\n",
    "\n",
    "```{list-table}\n",
    ":header-rows: 1\n",
    "\n",
    "* - Input\n",
    "  - Description\n",
    "  - Parameter used in paper\n",
    "* - `n_layers`\n",
    "  - Number of layers\n",
    "  - 2\n",
    "* - `units`\n",
    "  - Number of neurons in each layer\n",
    "  - 16\n",
    "* - `input_dim`\n",
    "  - Dimension of input into first layer\n",
    "  - 3 (This should be the same as the number of states)\n",
    "* - `activation`\n",
    "  - Activation function for all layers except the last\n",
    "  - tanh\n",
    "* - `final_activation`\n",
    "  - Activation function for final layer\n",
    "  - Identity function for first two dimensions; sigmoid for third dimension. This is so that...\n",
    "* - `seed`\n",
    "  - Seed for weight and bias initialization\n",
    "  - 256\n",
    "```\n",
    "\n",
    "We use a Glorot normal initializer to initialize weights and a Glorot uniform initializer to initialize the biases.\n"
   ]
  },
  {
   "cell_type": "markdown",
   "metadata": {
    "vscode": {
     "languageId": "plaintext"
    }
   },
   "source": [
    "### 4.1.2 Training\n",
    "The training set is constructed by drawing uniformly from the three-dimensional cube bounded by [`wMin`,`zMin`,`vMin`] and [`wMax`,`zMax`,`vMax`]. The loss function is given by the mean squared error of $L$, where:\n",
    "\n",
    "$$\n",
    "L = {L}^e_{HJB} + {L}^h_{HJB} + p{L}_{\\kappa}\n",
    "$$\n",
    "\n",
    "Where $p$ is a penalization parameter. We compute gradients using `tf.GradientTape` and use an `L-BFGS-B` solver. For the settings used in the paper, there are 659 trainable variables: 3x16 weights and 16 bias terms for the initial layer; 16x16 weights and 16 bias terms for each hidden layer; and 16x3 weights and 3 bias terms for the final layer. The full list of parameters for the training stage are:\n",
    "\n",
    "```{list-table}\n",
    ":header-rows: 1\n",
    "\n",
    "* - Input\n",
    "  - Description\n",
    "  - Parameter used in paper\n",
    "* - `points_size`\n",
    "  - Determines the `batchSize`, which is $2^x$ where $x$ is `points_size`. Batch size is the number of training samples in each epoch\n",
    "  - 10\n",
    "* - `iter_num`\n",
    "  - Number of epochs, i.e. the number of complete passes through the training set\n",
    "  - 5\n",
    "* - `penalization`\n",
    "  - Penalty for violating $\\kappa$ constraint\n",
    "  - 10000\n",
    "* - `seed`\n",
    "  - Seed for drawing uniform samples\n",
    "  - 256 (same as seed for initialization)\n",
    "* - `max_iter`\n",
    "  - Maximum number of L-BFGS-B iterations (number of times parameters are updated) per epoch\n",
    "  - 100\n",
    "* - `maxfun`\n",
    "  - Maximum number of function evaluations per epoch\n",
    "  - 100\n",
    "* - `maxcor`\n",
    "  - The maximum number of variable metric corrections used to define the limited memory matrix used to compute the Hessian per epoch\n",
    "  - 100\n",
    "* - `maxls`\n",
    "  - Maximum number of line search steps per iteration used to find the optimal step-size\n",
    "  - 100\n",
    "* - `gtol`\n",
    "  - Iteration will stop when $\\max|proj(g_i)| \\leq$ `gtol` for each entry $i$ of the (projected) gradient vector\n",
    "  - Machine epsilon for float64 (~$2^{-16}$)\n",
    "* - `ftol`\n",
    "  - Iteration will stop when $\\frac{L^k - L^{k+1}}{\\max{|L^k|,|L^{k+1}|,1}} \\leq$ `ftol`\n",
    "  - Machine epsilon for float64 (~$2^{-16}$)\n",
    "* - `tolerance`\n",
    "  - Iteration will stop when, after fully completing an epoch, $L$ is less than `tolerance`\n",
    "  - $10^{-5}$\n",
    "```\n"
   ]
  },
  {
   "cell_type": "markdown",
   "metadata": {},
   "source": [
    "### 4.1.3 Model Parameters\n",
    "We also need to set model parameters. These will vary depending on the environment chosen from Section 5.1. By default, the following parameters are allowed as inputs to `main_BFGS`:\n",
    "```{list-table}\n",
    ":header-rows: 1\n",
    "\n",
    "* - Input\n",
    "  - Description\n",
    "  - Parameter used in paper\n",
    "* - `chiUnderline`\n",
    "  - Skin-in-the-game constraint\n",
    "  - $\\underline{\\chi}$\n",
    "* - `gamma_e`, `gamma_h`\n",
    "  - Expert and household uncertainty aversion\n",
    "  - $\\gamma_e, \\gamma_h$\n",
    "* - `a_e`, `a_h`\n",
    "  - Expert and household productivity\n",
    "  - $\\alpha_e, \\alpha_h$\n",
    "* - `delta_e`,`delta_h`\n",
    "  - Expert and household discount rate\n",
    "  - $\\delta_e, \\delta_h$\n",
    "* - `rho_e`,`rho_h`\n",
    "  - Expert and household inverse of IES\n",
    "  - $\\rho_e, \\rho_h$\n",
    "* - `lambda_d`\n",
    "  - Birth/death rate\n",
    "  - $\\lambda_d$\n",
    "* - `nu`\n",
    "  - Fraction of newborns which are experts\n",
    "  - $\\nu$\n",
    "* - `V_bar`\n",
    "  - Mean of $Z_2$\n",
    "  - $\\mu_2$\n",
    "* - `sigma_K_norm`, `sigma_Z_norm`, `sigma_V_norm`\n",
    "  - Normalization for variances; these are multiplied by the covariance matrix specified in `utils_para` to yield $\\sigma_k, \\sigma_1, \\sigma_2$\n",
    "  - \n",
    "* - `wMin`, `wMax`\n",
    "  - Bounds for training set for $W$; the corresponding bounds for $Z_1$ and $Z_2$ can be edited in `utils_para`\n",
    "  - \n",
    "* - `nWealth`, `nZ`, `nV`\n",
    "  - Number of gridpoints for each state variable; this does not have any effect on the solution but will determine the evaluation of variables of interest using the solution at a later step\n",
    "  - \n",
    "* - `shock_expo`\n",
    "  - Determines whether the shock exposure matrix is \"upper_triangular\" or \"lower_triangular\"\n",
    "  - \n",
    "```"
   ]
  },
  {
   "cell_type": "markdown",
   "metadata": {},
   "source": [
    "In addition, the following parameters can be edited in the `utils_para` file. They do not vary across the models explored in the paper, but the user may wish to explore their own variations.\n",
    "\n",
    "```{list-table}\n",
    ":header-rows: 1\n",
    "\n",
    "* - Input\n",
    "  - Description\n",
    "  - Notation used in paper\n",
    "  - Default used in paper\n",
    "* - `Z_bar`\n",
    "  - Mean of $Z^1$\n",
    "  - \n",
    "  - 0.0\n",
    "* - `lambda_Z`\n",
    "  - Persistence of $Z^1\n",
    "  - $\\beta_1$\n",
    "  - 0.056\n",
    "* - `lambda_V`\n",
    "  - Persistence of $Z^2$\n",
    "  - $\\beta_2$\n",
    "  - 0.194\n",
    "* - `alpha_K`\n",
    "  - $\\eta_k$\n",
    "  - $\\alpha$\n",
    "  - 0.04\n",
    "* - `phi`\n",
    "  - Adjustment cost\n",
    "  - $\\phi$\n",
    "  - 8.0\n",
    "* - `covij`\n",
    "  - $i,j$ entry in shock exposure matrix \n",
    "  - \n",
    "  - See Table 1 in paper\n",
    "* - `numSds`\n",
    "  - Governs grid size for $Z^1$ and $Z^2$ (number of standard deviations from the mean)\n",
    "  - \n",
    "  - 5\n",
    "* - `zmin`,`zmax`\n",
    "  - Grid boundaries for $Z^1$\n",
    "  - \n",
    "  - $\\mu_1 \\pm SD\\cdot Var(Z_1|Z_2=\\mu_2)$ where $SD=$`numSds`\n",
    "* - `vmin`,`vmax`\n",
    "  - Grid boundaries for $Z^2$\n",
    "  - \n",
    "  - `vmin` = $10^{-8}$,`vmax` = $\\mu_2 + SD\\cdot Var(Z_2|Z_2=\\mu_2)$ where $SD=$`numSds`\n",
    "```"
   ]
  },
  {
   "cell_type": "markdown",
   "metadata": {},
   "source": [
    "## 4.2 Quick Start\n",
    "We can build and train the neural network as follows. First, we import libraries:"
   ]
  },
  {
   "cell_type": "code",
   "execution_count": 1,
   "metadata": {
    "tags": [
     "remove-output"
    ]
   },
   "outputs": [
    {
     "name": "stderr",
     "output_type": "stream",
     "text": [
      "2024-09-03 01:56:15.084801: I tensorflow/core/platform/cpu_feature_guard.cc:193] This TensorFlow binary is optimized with oneAPI Deep Neural Network Library (oneDNN) to use the following CPU instructions in performance-critical operations:  AVX2 AVX512F AVX512_VNNI FMA\n",
      "To enable them in other operations, rebuild TensorFlow with the appropriate compiler flags.\n",
      "2024-09-03 01:56:15.348662: I tensorflow/core/util/util.cc:169] oneDNN custom operations are on. You may see slightly different numerical results due to floating-point round-off errors from different computation orders. To turn them off, set the environment variable `TF_ENABLE_ONEDNN_OPTS=0`.\n",
      "2024-09-03 01:56:15.354075: W tensorflow/stream_executor/platform/default/dso_loader.cc:64] Could not load dynamic library 'libcudart.so.11.0'; dlerror: libcudart.so.11.0: cannot open shared object file: No such file or directory; LD_LIBRARY_PATH: /software/slurm-current-el8-x86_64/lib\n",
      "2024-09-03 01:56:15.354090: I tensorflow/stream_executor/cuda/cudart_stub.cc:29] Ignore above cudart dlerror if you do not have a GPU set up on your machine.\n",
      "2024-09-03 01:56:15.379048: E tensorflow/stream_executor/cuda/cuda_blas.cc:2981] Unable to register cuBLAS factory: Attempting to register factory for plugin cuBLAS when one has already been registered\n",
      "2024-09-03 01:56:16.061605: W tensorflow/stream_executor/platform/default/dso_loader.cc:64] Could not load dynamic library 'libnvinfer.so.7'; dlerror: libnvinfer.so.7: cannot open shared object file: No such file or directory; LD_LIBRARY_PATH: /software/slurm-current-el8-x86_64/lib\n",
      "2024-09-03 01:56:16.061696: W tensorflow/stream_executor/platform/default/dso_loader.cc:64] Could not load dynamic library 'libnvinfer_plugin.so.7'; dlerror: libnvinfer_plugin.so.7: cannot open shared object file: No such file or directory; LD_LIBRARY_PATH: /software/slurm-current-el8-x86_64/lib\n",
      "2024-09-03 01:56:16.061702: W tensorflow/compiler/tf2tensorrt/utils/py_utils.cc:38] TF-TRT Warning: Cannot dlopen some TensorRT libraries. If you would like to use Nvidia GPU with TensorRT, please make sure the missing libraries mentioned above are installed properly.\n",
      "2024-09-03 01:56:18.742022: W tensorflow/stream_executor/platform/default/dso_loader.cc:64] Could not load dynamic library 'libcuda.so.1'; dlerror: libcuda.so.1: cannot open shared object file: No such file or directory; LD_LIBRARY_PATH: /software/slurm-current-el8-x86_64/lib\n",
      "2024-09-03 01:56:18.742052: W tensorflow/stream_executor/cuda/cuda_driver.cc:263] failed call to cuInit: UNKNOWN ERROR (303)\n",
      "2024-09-03 01:56:18.742068: I tensorflow/stream_executor/cuda/cuda_diagnostics.cc:156] kernel driver does not appear to be running on this host (midway3-login3.rcc.local): /proc/driver/nvidia/version does not exist\n"
     ]
    }
   ],
   "source": [
    "import json\n",
    "import numpy as np\n",
    "import tensorflow as tf \n",
    "import time \n",
    "import os\n",
    "os.chdir(\"src/4\")\n",
    "from main_BFGS import main\n",
    "from utils_para import setModelParameters\n",
    "from utils_training import training_step_BFGS\n",
    "from utils_DGM import DGMNet\n",
    "os.chdir(\"../..\")\n",
    "import warnings\n",
    "warnings.filterwarnings(\"ignore\")\n",
    "tf.get_logger().setLevel('ERROR')\n",
    "tf.config.set_visible_devices([], 'GPU')"
   ]
  },
  {
   "cell_type": "markdown",
   "metadata": {},
   "source": [
    "Next, we set the model parameters and hyperparameters. In the following example, we have used a variant of Model RF."
   ]
  },
  {
   "cell_type": "code",
   "execution_count": 3,
   "metadata": {},
   "outputs": [],
   "source": [
    "chiUnderline = 1.0\n",
    "gamma_e = 4.0\n",
    "a_e=0.0922\n",
    "a_h=0.0\n",
    "gamma_h=4.0\n",
    "delta_e=0.0115\n",
    "delta_h=0.01\n",
    "lambda_d=0.0\n",
    "rho_e=1.0\n",
    "rho_h=1.0\n",
    "nu=0.1\n",
    "\n",
    "V_bar=0.0000063030303030303026\n",
    "sigma_K_norm=3.1707442821755683\n",
    "sigma_Z_norm=19.835431735873996\n",
    "sigma_V_norm=0.0010882177801089308\n",
    "wMin=0.01\n",
    "wMax=0.99\n",
    "\n",
    "nWealth=180\n",
    "nZ=30\n",
    "nV=30\n",
    "\n",
    "seed_=(256)\n",
    "n_layers_=(2)\n",
    "units_=(16)\n",
    "points_size_=(10)\n",
    "iter_num_=(5)\n",
    "penalization=10000\n",
    "\n",
    "BFGSmaxiter=100\n",
    "BFGSmaxfun=100\n",
    "action_name = 'test'\n",
    "\n",
    "seed=256\n",
    "n_layers=2\n",
    "units=16\n",
    "points_size=10\n",
    "iter_num=5\n",
    "penalization=10000\n",
    "BFGS_maxiter=100\n",
    "BFGS_maxfun=100\n",
    "shock_expo = 'upper_triangular'\n"
   ]
  },
  {
   "cell_type": "markdown",
   "metadata": {},
   "source": [
    "Next, we run the `main` solution, which trains the neural network. Under the parameterization above, this will take around 1 minute."
   ]
  },
  {
   "cell_type": "code",
   "execution_count": 4,
   "metadata": {
    "tags": [
     "remove-output"
    ]
   },
   "outputs": [],
   "source": [
    "main(action_name, nWealth, nZ, nV, V_bar, sigma_K_norm, sigma_Z_norm, sigma_V_norm, wMin, wMax, chiUnderline, a_e, a_h, gamma_e, gamma_h, rho_e, rho_h, delta_e, delta_h, lambda_d, nu, shock_expo, n_layers, points_size, iter_num, units, seed, penalization, BFGS_maxiter, BFGS_maxfun)"
   ]
  },
  {
   "cell_type": "markdown",
   "metadata": {},
   "source": [
    "Now that we have a solution, we can compute variables of interest, which can subsequently be used to compute shock elasticities. By default, `main_variable` computes the following variables. Unless specified otherwise, the variables are evaluated on an array with dimension [`nWealth`,`nZ`,`nV`].\n",
    "```{list-table}\n",
    ":header-rows: 1\n",
    "\n",
    "* - Output\n",
    "  - Description\n",
    "  - Notation used in paper\n",
    "* - `W_NN`, `Z_NN`, `V_NN`\n",
    "  - The values of $W$, $Z_1$ and $Z_2$ on the state-space grid\n",
    "  - \n",
    "* - `XiE_NN`, `XiH_NN`\n",
    "  - Expert and household value functions\n",
    "  - $V_e$, $V_h$\n",
    "* - `logXiE_NN`, `logXiH_NN`\n",
    "  - Log expert and household value functions\n",
    "  - $\\hat{V}_e$, $\\hat{V}_h$\n",
    "* - `chi_NN`\n",
    "  - Expert equity retention\n",
    "  - $\\chi$\n",
    "* - `kappa_NN`\n",
    "  - Expert capital share\n",
    "  - $\\kappa$\n",
    "* - `r_NN`\n",
    "  - Risk-free rate\n",
    "  - $r$\n",
    "* - `q_NN`\n",
    "  - Price of capital\n",
    "  - $Q$\n",
    "* - `sigmaW_NN`,`sigmaZ_NN`,`sigmaV_NN`\n",
    "  - State volatilities \n",
    "  - $Z^2 \\sigma_w$,$Z^2 \\sigma_1$, $Z^2 \\sigma_2$\n",
    "* - `muW_NN`,`muZ_NN`,`muV_NN`\n",
    "  - State drifts\n",
    "  - $\\mu_w$,$\\mu_1$,$\\mu_2$\n",
    "* - `muK_NN`\n",
    "  - Log capital drift\n",
    "  - $\\mu_{k}$\n",
    "* - `sigmaK_NN`\n",
    "  - Log capital diffusin\n",
    "  - $\\sigma_{k}$\n",
    "* - `muQ_NN`\n",
    "  - Capital price drift\n",
    "  - $\\mu_q$\n",
    "* - `sigmaQ_NN`\n",
    "  - Capital price diffusion\n",
    "  - $\\sigma_q$\n",
    "* - `sigmaR_NN`\n",
    "  - Capital return volatility\n",
    "  - $\\sigma_r$\n",
    "* - `deltaE_NN`, `deltaH_NN`\n",
    "  - Expert and household risk premium wedge\n",
    "  - $\\Delta^e$,$\\Delta^h$\n",
    "* - `PiE_NN`, `PiH_NN`\n",
    "  - Expert and household equity risk price\n",
    "  - $\\pi_e$,$\\pi_h$\n",
    "* - `betaE_NN`,`betaH_NN`\n",
    "  - \n",
    "  - $\\frac{\\chi \\kappa}{W}$, $\\frac{1- \\kappa}{W}$\n",
    "* - `HJB_E_NN`, `HJB_H_NN`, `kappa_min_NN`\n",
    "  - RHS of HJB equations and $\\kappa$ constraint evaluated on the state space grid\n",
    "  - $L^e$, $L^h$, $L^{\\kappa}$\n",
    "* - `HJBE_validation_MSE`, `HJBH_validation_MSE`, `kappa_validation_MSE`\n",
    "  - Loss function (scalar)\n",
    "  - \n",
    "* - `dent_NN`\n",
    "  - Stationary density\n",
    "  - \n",
    "* - `dX_logXiE_NN`, `dX_logXiH_NN`, `dX2_logXiE_NN`, `dX2_logXiH_NN`\n",
    "  - First and second derivatives of expert and household value function with respect to each of the states; separate objects for each state are also included\n",
    "  - \n",
    "* - `mulogSe_NN`, `mulogSh_NN`\n",
    "  - Log SDF drifts for expert and household\n",
    "  - $-r_t S_t^e$, $-r_t S_t^h$\n",
    "* - `sigmalogSe_NN`, `sigmalogSh_NN`\n",
    "  - Log SDF diffusions for expert and household\n",
    "  - $-S_t^e \\pi_t^e$, $-S_t^h \\pi_t^h$\n",
    "* - `mulogCe_NN`, `mulogCh_NN`\n",
    "  - Log consumption drifts for expert and household\n",
    "  - $\\hat{\\mu}_c^e$, $\\hat{\\mu}_c^h$\n",
    "* - `sigmalogCe_NN`, `sigmalogCh_NN`\n",
    "  - Log consumption diffusions for expert and household\n",
    "  - $\\sigma_c^e$, $\\sigma_c^h$\n",
    "* - `mulogC_NN`\n",
    "  - Log aggregate consumption drift\n",
    "  - $\\hat{\\mu}_c$\n",
    "* - `sigmalogC_NN`\n",
    "  - Log aggregate consumption diffusion\n",
    "  - $\\sigma_c$\n",
    "```"
   ]
  },
  {
   "cell_type": "markdown",
   "metadata": {},
   "source": [
    "Given that a solution has been saved under the same parameters, the following code outputs the variables listed above. In addition, the `marginal_quantile_func_factory` function is called to save the above outputs evaluated at desired quantiles (e.g. $Z^2$ at median) for ease of plotting."
   ]
  },
  {
   "cell_type": "code",
   "execution_count": 4,
   "metadata": {},
   "outputs": [
    {
     "name": "stderr",
     "output_type": "stream",
     "text": [
      "2024-09-03 01:55:37.533890: I tensorflow/core/platform/cpu_feature_guard.cc:193] This TensorFlow binary is optimized with oneAPI Deep Neural Network Library (oneDNN) to use the following CPU instructions in performance-critical operations:  AVX2 AVX512F AVX512_VNNI FMA\n",
      "To enable them in other operations, rebuild TensorFlow with the appropriate compiler flags.\n"
     ]
    }
   ],
   "source": [
    "os.chdir('src/4')\n",
    "from main_variable import main_var\n",
    "os.chdir('../..')\n",
    "\n",
    "main_var(action_name, nWealth, nZ, nV, V_bar, sigma_K_norm, sigma_Z_norm, sigma_V_norm, wMin, wMax, chiUnderline, a_e, a_h, gamma_e, gamma_h, rho_e, rho_h, delta_e, delta_h, lambda_d, nu, shock_expo, n_layers, units, points_size, iter_num, seed, penalization, BFGS_maxiter, BFGS_maxfun)"
   ]
  },
  {
   "cell_type": "markdown",
   "metadata": {},
   "source": [
    "## 4.3 Plotting\n",
    "We can now plot the results."
   ]
  },
  {
   "cell_type": "code",
   "execution_count": 1,
   "metadata": {},
   "outputs": [],
   "source": [
    "import os\n",
    "import numpy as np\n",
    "os.chdir('src/4')\n",
    "from plot import return_NN_solution\n",
    "os.chdir('../..')\n",
    "import matplotlib.pyplot as plt\n",
    "import seaborn as sns\n",
    "sns.set(style=\"whitegrid\", font_scale=1.13, rc={\"lines.linewidth\": 3.5})\n",
    "plt.rcParams['axes.formatter.useoffset'] = True"
   ]
  },
  {
   "cell_type": "markdown",
   "metadata": {},
   "source": [
    "First we load in the results using the same parameters as before."
   ]
  },
  {
   "cell_type": "code",
   "execution_count": 5,
   "metadata": {},
   "outputs": [],
   "source": [
    "results = return_NN_solution(shock_expo=shock_expo, seed=seed, chiUnderline=chiUnderline, a_e=a_e, a_h=a_h, gamma_e=gamma_e, gamma_h=gamma_h, psi_e=rho_e, psi_h=rho_h, delta_e=delta_e, delta_h=delta_h, lambda_d=lambda_d, nu=nu, n_layers=n_layers, units=units, iter_num=iter_num, points_size=points_size, penalization=penalization, action_name=action_name)\n"
   ]
  },
  {
   "cell_type": "markdown",
   "metadata": {},
   "source": [
    "We provide an example plot below. Notice that we use `results['eva_V_10']` and `results['eva_V_90']` to extract the variables of interest evaluated at $Z^1=0$ and $Z^2$ at its 10th and 90th percentiles, respectively."
   ]
  },
  {
   "cell_type": "code",
   "execution_count": 10,
   "metadata": {},
   "outputs": [
    {
     "data": {
      "image/png": "[encoded data removed]",
      "text/plain": [
       "<Figure size 500x450 with 2 Axes>"
      ]
     },
     "metadata": {},
     "output_type": "display_data"
    }
   ],
   "source": [
    "fig, ax = plt.subplots(1,1, figsize=(5,4.5))\n",
    "W_dense = np.unique(results['eva_V_50']['W'])\n",
    "W_sparse = np.unique(results['W'].values)\n",
    "sns.lineplot(x = W_dense, y = results['eva_V_10']['PiE_NN'][:,0], ax = ax)\n",
    "sns.lineplot(x = W_dense, y = results['eva_V_90']['PiE_NN'][:,0], ax = ax)\n",
    "ax2 = ax.twinx()\n",
    "sns.lineplot(x = W_sparse, y = results['dentW'].values, ax = ax2, ls='--', color='grey',lw=2.0, alpha=0.5)\n",
    "ax2.grid(False)\n",
    "ax2.set_yticks([])\n",
    "ax2.set_ylim([0,0.03])\n",
    "\n",
    "ax.set_xlim(0,1.0)\n",
    "ax.grid(False)\n",
    "ax.set_ylim([0.0,1.0])\n",
    "ax.set_xlabel('W', fontsize=15)\n",
    "ax.set_ylabel('Risk price')\n",
    "plt.suptitle(\"Model RF\")\n",
    "\n",
    "plt.tight_layout()"
   ]
  },
  {
   "cell_type": "code",
   "execution_count": null,
   "metadata": {},
   "outputs": [],
   "source": []
  },
  {
   "cell_type": "markdown",
   "metadata": {},
   "source": [
    "\n",
    "## 4.4 Finite Difference Method\n",
    "We employ a finite differences method from `mfrSuite` to solve the two-dimensional Model IP from Section 5, which we cover briefly here."
   ]
  },
  {
   "cell_type": "code",
   "execution_count": 5,
   "metadata": {
    "tags": [
     "remove-output"
    ]
   },
   "outputs": [
    {
     "name": "stderr",
     "output_type": "stream",
     "text": [
      "/home/chh/.local/lib/python3.9/site-packages/mfr/modelSoln/modelClass.py:2496: NumbaDeprecationWarning:\n",
      "\n",
      "\u001b[1mThe 'nopython' keyword argument was not supplied to the 'numba.jit' decorator. The implicit default value for this argument is currently False, but it will be changed to True in Numba 0.59.0. See https://numba.readthedocs.io/en/stable/reference/deprecation.html#deprecation-of-object-mode-fall-back-behaviour-when-using-jit for details.\u001b[0m\n",
      "\n",
      "/home/chh/.local/lib/python3.9/site-packages/mfr/modelSoln/modelClass.py:2507: NumbaDeprecationWarning:\n",
      "\n",
      "\u001b[1mThe 'nopython' keyword argument was not supplied to the 'numba.jit' decorator. The implicit default value for this argument is currently False, but it will be changed to True in Numba 0.59.0. See https://numba.readthedocs.io/en/stable/reference/deprecation.html#deprecation-of-object-mode-fall-back-behaviour-when-using-jit for details.\u001b[0m\n",
      "\n",
      "/home/chh/.local/lib/python3.9/site-packages/mfr/modelSoln/modelClass.py:2521: NumbaDeprecationWarning:\n",
      "\n",
      "\u001b[1mThe 'nopython' keyword argument was not supplied to the 'numba.jit' decorator. The implicit default value for this argument is currently False, but it will be changed to True in Numba 0.59.0. See https://numba.readthedocs.io/en/stable/reference/deprecation.html#deprecation-of-object-mode-fall-back-behaviour-when-using-jit for details.\u001b[0m\n",
      "\n",
      "/home/chh/.local/lib/python3.9/site-packages/mfr/modelSoln/modelClass.py:2554: NumbaDeprecationWarning:\n",
      "\n",
      "\u001b[1mThe 'nopython' keyword argument was not supplied to the 'numba.jit' decorator. The implicit default value for this argument is currently False, but it will be changed to True in Numba 0.59.0. See https://numba.readthedocs.io/en/stable/reference/deprecation.html#deprecation-of-object-mode-fall-back-behaviour-when-using-jit for details.\u001b[0m\n",
      "\n",
      "/home/chh/.local/lib/python3.9/site-packages/mfr/modelSoln/modelClass.py:2587: NumbaDeprecationWarning:\n",
      "\n",
      "\u001b[1mThe 'nopython' keyword argument was not supplied to the 'numba.jit' decorator. The implicit default value for this argument is currently False, but it will be changed to True in Numba 0.59.0. See https://numba.readthedocs.io/en/stable/reference/deprecation.html#deprecation-of-object-mode-fall-back-behaviour-when-using-jit for details.\u001b[0m\n",
      "\n",
      "/home/chh/.local/lib/python3.9/site-packages/mfr/modelSoln/modelClass.py:2595: NumbaDeprecationWarning:\n",
      "\n",
      "\u001b[1mThe 'nopython' keyword argument was not supplied to the 'numba.jit' decorator. The implicit default value for this argument is currently False, but it will be changed to True in Numba 0.59.0. See https://numba.readthedocs.io/en/stable/reference/deprecation.html#deprecation-of-object-mode-fall-back-behaviour-when-using-jit for details.\u001b[0m\n",
      "\n",
      "/home/chh/.local/lib/python3.9/site-packages/mfr/modelSoln/modelClass.py:2602: NumbaDeprecationWarning:\n",
      "\n",
      "\u001b[1mThe 'nopython' keyword argument was not supplied to the 'numba.jit' decorator. The implicit default value for this argument is currently False, but it will be changed to True in Numba 0.59.0. See https://numba.readthedocs.io/en/stable/reference/deprecation.html#deprecation-of-object-mode-fall-back-behaviour-when-using-jit for details.\u001b[0m\n",
      "\n",
      "/home/chh/.local/lib/python3.9/site-packages/mfr/modelSoln/modelClass.py:2616: NumbaDeprecationWarning:\n",
      "\n",
      "\u001b[1mThe 'nopython' keyword argument was not supplied to the 'numba.jit' decorator. The implicit default value for this argument is currently False, but it will be changed to True in Numba 0.59.0. See https://numba.readthedocs.io/en/stable/reference/deprecation.html#deprecation-of-object-mode-fall-back-behaviour-when-using-jit for details.\u001b[0m\n",
      "\n",
      "/home/chh/.local/lib/python3.9/site-packages/mfr/modelSoln/modelClass.py:2621: NumbaDeprecationWarning:\n",
      "\n",
      "\u001b[1mThe 'nopython' keyword argument was not supplied to the 'numba.jit' decorator. The implicit default value for this argument is currently False, but it will be changed to True in Numba 0.59.0. See https://numba.readthedocs.io/en/stable/reference/deprecation.html#deprecation-of-object-mode-fall-back-behaviour-when-using-jit for details.\u001b[0m\n",
      "\n"
     ]
    }
   ],
   "source": [
    "import mfr.modelSoln as m\n",
    "import numpy as np\n",
    "import argparse\n",
    "import os\n",
    "import sys\n",
    "import warnings\n",
    "warnings.filterwarnings(\"ignore\")\n",
    "os.chdir('src/5')\n",
    "from main_solve import main_fdm\n",
    "from main_evaluate import interpolate\n",
    "os.chdir('../..')"
   ]
  },
  {
   "cell_type": "markdown",
   "metadata": {},
   "source": [
    "The model inputs are identical to the neural network solution above, except that: we abstract away from $Z^2$; we have to set $dt$, the false-transient time-step; and some inputs have been moved inside the `main_solve.py` script."
   ]
  },
  {
   "cell_type": "code",
   "execution_count": 6,
   "metadata": {},
   "outputs": [],
   "source": [
    "chiUnderline = 1.0\n",
    "a_e=0.0922\n",
    "a_h=0.085\n",
    "gamma_e = 2.0\n",
    "gamma_h= 2.0\n",
    "delta_e=0.03\n",
    "delta_h=0.01\n",
    "lambda_d=0.0\n",
    "rho_e=1.0\n",
    "rho_h=1.0\n",
    "nu=0.1\n",
    "dt = 0.1\n",
    "nWealth=180\n",
    "nZ=30\n",
    "shock_expo = 'upper_triangular'\n",
    "action_name = 'test'"
   ]
  },
  {
   "cell_type": "code",
   "execution_count": 4,
   "metadata": {
    "tags": [
     "hide-output"
    ]
   },
   "outputs": [
    {
     "name": "stdout",
     "output_type": "stream",
     "text": [
      "Program converged. Took 8089 iterations and 199.59 seconds. 2.49% of the time was spent on dealing with the linear systems.\n",
      "Parameter            Value     \n",
      "nu_newborn           0.1       \n",
      "lambda_d             0.0       \n",
      "lambda_Z             0.056     \n",
      "lambda_V             0.0       \n",
      "lambda_Vtilde        0.0       \n",
      "Z_bar                0.0       \n",
      "V_bar                1.0       \n",
      "Vtilde_bar           0.0       \n",
      "sigma_K_norm         0.008696916904073742\n",
      "sigma_Z_norm         0.049798518005773194\n",
      "sigma_V_norm         0.0       \n",
      "sigma_Vtilde_norm    0.0       \n",
      "nWealth              180       \n",
      "nZ                   30        \n",
      "nV                   0         \n",
      "nVtilde              0         \n",
      "nDims                2         \n",
      "delta_e              0.03      \n",
      "delta_h              0.01      \n",
      "a_e                  0.0922    \n",
      "a_h                  0.085     \n",
      "rho_e                1.0       \n",
      "rho_h                1.0       \n",
      "phi                  8.0       \n",
      "gamma_e              2.0       \n",
      "gamma_h              2.0       \n",
      "equityIss            2         \n",
      "hhCap                1         \n",
      "chiUnderline         1.0       \n",
      "method               2         \n",
      "dt                   0.1       \n",
      "dtInner              0.1       \n",
      "tol                  1e-05     \n",
      "innerTol             1e-05     \n",
      "maxIters             500000    \n",
      "maxItersInner        500000    \n",
      "iparm_2              28        \n",
      "iparm_3              0         \n",
      "iparm_28             0         \n",
      "iparm_31             0         \n",
      "numSds               5         \n",
      "wMin                 0.001     \n",
      "wMax                 0.999     \n",
      "logW                 -1        \n",
      "folderName           output/test/upper_triangular/dt_0.1/nW_180_nZ_30/chiUnderline_1.000/a_e_0.092_a_h_0.085/gamma_e_2.000_gamma_h_2.000/rho_e_1.000_rho_h_1.000/delta_e_0.030_delta_h_0.010/lambda_d_0.000_nu_0.100\n",
      "overwrite            Yes       \n",
      "verbatim             -1        \n",
      "exportFreq           1000000   \n",
      "cov11                0.9153150324227657\n",
      "cov12                0.4027386142660167\n",
      "cov21                0.0       \n",
      "cov22                1.0       \n",
      "Exporting solution information: time used, convergence error, etc.\n",
      "Exporting state variables.\n",
      "==========================================\n",
      "Exporting numerical results.\n",
      "==========================================\n",
      "(1): Exporting risk prices and interest rate: q, piH, piE, deltaE, deltaH, r, I.\n",
      "------------------------------------------------\n",
      "(2) Exporting drifts: muQ, muX, muK, muRe, muRh.\n",
      "------------------------------------------------\n",
      "(3) Exporting vols: sigmaQ, sigmaR, sigmaK.\n",
      "------------------------------------------------\n",
      "(4) Exporting value and policy functions: XiE, XiH, cHatE, cHatH, kappa, chi, betaE, betaH.\n",
      "------------------------------------------------\n",
      "(5) Exporting derivs: first, second, and cross derivs of XiE and XiH.\n",
      "------------------------------------------------\n",
      "(6) Exporting the rest: experts' leverage, sigmaC, sigmaCe, sigmaCh, sigmaSe, sigmaSh, simgaLogY, muC, muCe, muCh, muY, muSe, muSh.\n",
      "------------------------------------------------\n",
      "Exporting matrices' information\n",
      "==========================================\n",
      "(1) Exporting matrix coefficients\n",
      "------------------------------------------------\n",
      "(2) Exporting matrices and RHSs.\n",
      "------------------------------------------------\n"
     ]
    }
   ],
   "source": [
    "main_fdm(nW=nWealth, nZ=nZ, dt=dt, a_e=a_e, a_h=a_h, rho_e=rho_e, rho_h=rho_h, gamma_e=gamma_e, gamma_h=gamma_h, chiUnderline=chiUnderline, action_name=action_name, shock_expo=shock_expo, delta_e=delta_e, delta_h=delta_h, lambda_d=lambda_d, nu=nu)\n"
   ]
  },
  {
   "cell_type": "markdown",
   "metadata": {},
   "source": [
    "Before we can plot any variables of interest, we need to interpolate on our state space grid. Here we interpolate risk prices linearly using `scipy.interpolate.griddata`. "
   ]
  },
  {
   "cell_type": "code",
   "execution_count": 3,
   "metadata": {
    "tags": [
     "hide-output"
    ]
   },
   "outputs": [
    {
     "name": "stdout",
     "output_type": "stream",
     "text": [
      "interpolating PiE_final_capital\n",
      "interpolating kappa_final\n"
     ]
    }
   ],
   "source": [
    "interpolate(nW=nWealth, nZ=nZ, dt=dt, a_e=a_e, a_h=a_h, rho_e=rho_e, rho_h=rho_h, gamma_e=gamma_e, gamma_h=gamma_h, chiUnderline=chiUnderline, action_name=action_name, shock_expo=shock_expo, delta_e=delta_e, delta_h=delta_h, lambda_d=lambda_d, nu=nu)"
   ]
  },
  {
   "cell_type": "markdown",
   "metadata": {},
   "source": [
    "Now we can load and plot our results:"
   ]
  },
  {
   "cell_type": "code",
   "execution_count": 7,
   "metadata": {},
   "outputs": [],
   "source": [
    "import pandas as pd\n",
    "import pickle\n",
    "np.set_printoptions(suppress=True, linewidth=200)\n",
    "import matplotlib.pyplot as plt\n",
    "import seaborn as sns\n",
    "sns.set(style=\"whitegrid\", font_scale=1.13, rc={\"lines.linewidth\": 3.5})\n",
    "plt.rcParams['axes.formatter.useoffset'] = True\n",
    "os.chdir(\"src/5\")\n",
    "from plot import return_fdm_solution\n",
    "os.chdir(\"../..\")\n",
    "fdm_result = return_fdm_solution(shock_expo=shock_expo, dt=dt, nW=nWealth, chiUnderline=chiUnderline, a_e=a_e, a_h=a_h, gamma_e=gamma_e, gamma_h=gamma_h, rho_e=rho_e, rho_h=rho_h, delta_e=delta_e, delta_h=delta_h, lambda_d=lambda_d, nu=nu, action_name=action_name, nZ=nZ)\n",
    "\n"
   ]
  },
  {
   "cell_type": "markdown",
   "metadata": {},
   "source": [
    "Here we plot the expert capital risk price and capital share as they vary with $W$."
   ]
  },
  {
   "cell_type": "code",
   "execution_count": 19,
   "metadata": {},
   "outputs": [
    {
     "data": {
      "image/png": "[encoded data removed]",
      "text/plain": [
       "<Figure size 1000x400 with 4 Axes>"
      ]
     },
     "metadata": {},
     "output_type": "display_data"
    }
   ],
   "source": [
    "fig, axes = plt.subplots(1,2, figsize=(10,4))\n",
    "W = fdm_result['W']['W'].unique()\n",
    "\n",
    "sns.lineplot(x = W, y = fdm_result['PiE_final_capital'], ax = axes[0])\n",
    "ax2 = axes[0].twinx()\n",
    "sns.lineplot(x = W, y = fdm_result['dents'].values, ax = ax2, ls='--', color='grey',lw=2.0, alpha=0.5)\n",
    "ax2.grid(False)\n",
    "ax2.set_yticks([])\n",
    "ax2.set_yticklabels([])\n",
    "axes[0].set_ylim(0,1.1)\n",
    "axes[0].set_xlim(0,1.0)\n",
    "ax2.set_ylim([0,0.1])\n",
    "axes[0].title.set_text(\"Expert capital risk price\")\n",
    "axes[0].set_xlabel('W')\n",
    "\n",
    "\n",
    "sns.lineplot(x = W, y = fdm_result['kappa_final'], ax = axes[1])\n",
    "ax2 = axes[1].twinx()\n",
    "sns.lineplot(x = W, y = fdm_result['dents'].values, ax = ax2, ls='--', color='grey',lw=2.0, alpha=0.5)\n",
    "ax2.grid(False)\n",
    "ax2.set_yticks([])\n",
    "ax2.set_yticklabels([])\n",
    "axes[1].set_ylim(0,1.1)\n",
    "axes[1].set_xlim(0,1.0)\n",
    "ax2.set_ylim([0,0.1])\n",
    "axes[1].title.set_text(\"Expert capital share\")\n",
    "axes[1].set_xlabel('W')\n",
    "axes[0].grid(False)\n",
    "axes[1].grid(False)\n",
    "\n"
   ]
  },
  {
   "cell_type": "code",
   "execution_count": null,
   "metadata": {},
   "outputs": [],
   "source": []
  }
 ],
 "metadata": {
  "kernelspec": {
   "display_name": "envname",
   "language": "python",
   "name": "envname"
  },
  "language_info": {
   "codemirror_mode": {
    "name": "ipython",
    "version": 3
   },
   "file_extension": ".py",
   "mimetype": "text/x-python",
   "name": "python",
   "nbconvert_exporter": "python",
   "pygments_lexer": "ipython3",
   "version": "3.9.19"
  }
 },
 "nbformat": 4,
 "nbformat_minor": 2
}
