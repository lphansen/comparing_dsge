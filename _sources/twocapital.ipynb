{
 "cells": [
  {
   "cell_type": "markdown",
   "metadata": {},
   "source": [
    "<a href=\"https://colab.research.google.com/github/lphansen/comparing_dsge/blob/gh-pages/_sources/twocapital.ipynb\" target=\"_parent\"><img src=\"https://colab.research.google.com/assets/colab-badge.svg\" alt=\"Open In Colab\"/></a>\n"
   ]
  },
  {
   "cell_type": "markdown",
   "metadata": {},
   "source": [
    "# 3 Two Capital Model "
   ]
  },
  {
   "cell_type": "markdown",
   "metadata": {},
   "source": [
    "This Julia notebook covers the environment in Section 4.6 with two capital stocks, which evolve as:\n",
    "\n",
    "$$\n",
    "dK_t^j = K_t^j \\left[ \\Phi^j \\left( \\frac{I_t^j}{K_t^j} \\right) + \\beta^j_k Z_t^1 - \\eta^j \\right] dt  + K_t^j \\sqrt{Z_t^2}  {\\sigma}^j_k \\cdot dB_t\n",
    "$$\n",
    "\n",
    "For $j=1,2$. The output equation is now:\n",
    "\n",
    "$$\n",
    "C_t + I_t^1 + I_t^2 = \\alpha K_t^a \n",
    "$$\n",
    "\n",
    "where aggregate capital is a CES aggregator of the two capital stocks:\n",
    "\n",
    "$$\n",
    "K_t^a = \\left[(1-\\zeta) \\left(K_t^1\\right)^{(1 - \\tau)}  + \\zeta \\left( K_t^2\\right)^{(1 - \\tau)} \\right]^\n",
    "{\\frac 1 {1 - \\tau}} \n",
    "$$\n",
    "for $0 \\le \\zeta < 1$ and $\\tau \\ge 0$.  Agent preferences and the $Z^1$ and $Z^2$ processes are identical to the baseline model. The problem is very similar to the single-capital model except that we now have an additional endogenous state variable $\\widehat Y_t = \\log(K_t^2/K_t^1)$.\n",
    "\n",
    "In addition to the model inputs from Chapter 1, we also need to specify the following:\n",
    "\n",
    "```{list-table}\n",
    ":header-rows: 1\n",
    "\n",
    "* - Input\n",
    "  - Notation in paper\n",
    "  - Description\n",
    "* - `kappa`\n",
    "  - $\\tau$\n",
    "  - Share parameter\n",
    "* - `zeta`\n",
    "  - $\\zeta$\n",
    "  - Elasticity of substitution between two types of capital\n",
    "* - `beta1`\n",
    "  - $\\beta_k^1$\n",
    "  - Loading factor on first capital stock in the long run risk process\n",
    "* - `beta2`\n",
    "  - $\\beta_k^2$\n",
    "  - Loading factor on second capital stock in the long run risk process\n",
    "```\n",
    "\n",
    "\n",
    "We have experienced convergence issues when solving the three-dimensional two-capital model directly, especially with $\\rho \\neq 1$. One way to overcome this is to first run a two-dimensional version of the two-capital (abstracting from $Z^2$) for $\\rho=1$ and use the solution to this model as an initial guess for more complex models. Even the two-dimensional case may take several hours to run; therefore, we advise against using this Jupyter Notebook directly and instead direct users to use remote-computing resources as described on the GitHub repository.\n",
    "\n",
    "To solve the model, we first we load the necessary libraries:"
   ]
  },
  {
   "cell_type": "code",
   "execution_count": 9,
   "metadata": {},
   "outputs": [
    {
     "name": "stderr",
     "output_type": "stream",
     "text": [
      "\u001b[32m\u001b[1m  Activating\u001b[22m\u001b[39m project at `/project/lhansen/macrofinance`\n"
     ]
    }
   ],
   "source": [
    "include(\"src/3/main_twocapitals_two_dimensions.jl\")\n",
    "include(\"src/3/utils_twocapitals_two_dimensions.jl\")\n",
    "using Pkg\n",
    "using Optim\n",
    "using Roots\n",
    "using NPZ\n",
    "using ArgParse\n"
   ]
  },
  {
   "cell_type": "markdown",
   "metadata": {},
   "source": [
    "Next, we set the model inputs for the two-dimensional model with $\\rho=1$."
   ]
  },
  {
   "cell_type": "code",
   "execution_count": 16,
   "metadata": {},
   "outputs": [
    {
     "data": {
      "text/plain": [
       "\"test\""
      ]
     },
     "execution_count": 16,
     "metadata": {},
     "output_type": "execute_result"
    }
   ],
   "source": [
    "Delta = 1.0\n",
    "gamma = 8.0\n",
    "rho = 1.0\n",
    "alpha = 0.1844\n",
    "kappa = 0.0\n",
    "zeta = 0.5\n",
    "beta1 = 0.01\n",
    "beta2 = 0.01\n",
    "action_name = \"test\""
   ]
  },
  {
   "cell_type": "markdown",
   "metadata": {},
   "source": [
    "Now we can run `main_2d` with the above inputs:"
   ]
  },
  {
   "cell_type": "code",
   "execution_count": 18,
   "metadata": {
    "tags": [
     "remove-output"
    ]
   },
   "outputs": [],
   "source": [
    "main_2d(Delta, gamma, rho, alpha, kappa, zeta, beta1, beta2, action_name)\n"
   ]
  },
  {
   "cell_type": "markdown",
   "metadata": {},
   "source": [
    "This gives us a solution for $\\rho=1$. If we are interested in $\\rho \\neq 1$, we use this first solution as an initial guess for the other values of $\\rho$. For example, to solve for $\\rho=0.67$:"
   ]
  },
  {
   "cell_type": "code",
   "execution_count": null,
   "metadata": {},
   "outputs": [],
   "source": [
    "rho = 0.67\n",
    "main_2d(Delta, gamma, rho, alpha, kappa, zeta, beta1, beta2, action_name)"
   ]
  },
  {
   "cell_type": "markdown",
   "metadata": {},
   "source": [
    "Next, we can use these solutions as initial guesses for their three-dimensional counterparts. For example, for the $\\rho=1$ counterpart:"
   ]
  },
  {
   "cell_type": "code",
   "execution_count": null,
   "metadata": {},
   "outputs": [],
   "source": [
    "include(\"src/3/main_twocapitals_three_dimensions.jl\")\n",
    "include(\"src/3/utils_twocapitals_three_dimensions.jl\")\n",
    "rho = 1.0\n",
    "main_3d(Delta, gamma, rho, alpha, kappa, zeta, beta1, beta2, action_name)"
   ]
  },
  {
   "cell_type": "markdown",
   "metadata": {},
   "source": [
    "The outputs of the solution are the same as for the baseline model except for the additional state variables for $\\hat{Y}_t$, such as `smean` for $\\mu_{\\hat{y}}$ and `sigma_s`. "
   ]
  },
  {
   "cell_type": "markdown",
   "metadata": {},
   "source": [
    "```{figure}  images/image_twocapital.png\n",
    "---\n",
    "name: two-capital\n",
    "---\n",
    "Example taken from Figure 7 of the paper.\n",
    "```"
   ]
  }
 ],
 "metadata": {
  "kernelspec": {
   "display_name": "Julia 1.7.3 1.7.3",
   "language": "julia",
   "name": "julia-1.7.3-1.7"
  },
  "language_info": {
   "file_extension": ".jl",
   "mimetype": "application/julia",
   "name": "julia",
   "version": "1.7.3"
  }
 },
 "nbformat": 4,
 "nbformat_minor": 2
}
