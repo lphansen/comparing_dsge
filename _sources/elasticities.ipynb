{
 "cells": [
  {
   "cell_type": "markdown",
   "metadata": {},
   "source": [
    "# 5 Elasticities\n",
    "Shock elasticites are computed by solving:\n",
    "\n",
    "$$\n",
    "\\varepsilon_M(t,x) = \\nu(x) \\cdot \\left\\{ \\sigma_M(x) + \\sigma_X(x) \\cdot \\frac{\\partial}{\\partial x} \\log \\mathbb{E}\\left[ \\left( \\frac{M_t}{M_0} \\right) \\mid X_0 = x \\right] \\right\\}\n",
    "$$\n",
    "\n",
    "Shock price-elasticities can be computed using:\n",
    "$$\n",
    "\\varepsilon_M(t,x) - \\varepsilon_{SM}(t,x)\n",
    "$$\n",
    "\n",
    "Where $S$ is the stochastic discount factor.\n",
    "\n",
    "This can either be solved using finite differences or simulated. We describe both methods here.\n",
    "\n"
   ]
  },
  {
   "cell_type": "markdown",
   "metadata": {},
   "source": [
    "# 5.1 Finite Differences\n",
    "We compute elasticities using the finite differences method described in Supplemental Appendix C.3. Where ${\\hat{M}}=\\log{M}$:\n",
    "\n",
    "$$\n",
    "0 = - \\frac{\\partial f_{\\hat{M}}}{\\partial t} + \\Big( \\mu_{\\hat{M}} + \\frac{1}{2} \\| \\sigma_{\\hat{M}} \\|^2 \\Big) f_{\\hat{M}} + \\big( \\mu_X + \\sigma_{\\hat{M}} \\cdot \\sigma_X \\big) \\cdot \\frac{\\partial f_{\\hat{M}}}{\\partial x} + \\frac{1}{2} \\text{tr}\\Big( \\sigma_X \\sigma_X' \\frac{\\partial^2 f_{\\hat{M}}}{\\partial x \\partial x'} \\Big)\n",
    "$$\n",
    "\n",
    "The finite differences elasticities code is implemented for all model environments in the paper, but we will focus on the baseline model in this section.  The main function for calculating elasticities is `main_pde_shock_elasticity`, which takes in the same inputs as the solution script, which in this case is `main_onecapital`. These inputs are used to identify a saved solution; therefore, this function must be run after the solution script has finished running.\n",
    "\n",
    "There are several parameters which can be changed inside the body of `main_pde_shock_elasticity`. Notably, `dt` controls the time step, where `dt`=1 is one year, while `T` controls the total number of `dt` periods for which the elasticity is computed.\n",
    "\n",
    "Within `main_pde_shock_elasticity`, the function `compute_pde_shock_elasticity` computes shock-exposure and shock-price elasticities for a given cash flow variable $M$ and stochastic discount factor $S$. These variables are specified by inputting their drift - `mulogM` and `mulogS` - and diffusion terms - `sigmalogM` and `sigmalogS`. For the baseline model, by default, the code computes drifts and diffusions for the following $M$ variables:\n",
    "\n",
    "```{list-table}\n",
    ":header-rows: 1\n",
    "\n",
    "* - $\\hat{M}$\n",
    "  - Notation in paper\n",
    "  - Description\n",
    "* - `logcmk`\n",
    "  - $\\log{\\frac{C}{K}}$\n",
    "  - Log consumption-capital ratio\n",
    "* - `logimo`\n",
    "  - $\\log{\\frac{I}{Y}}$\n",
    "  - Log investment-output ratio\n",
    "* - `logc`\n",
    "  - $\\log{C}$\n",
    "  - Log consumption\n",
    "```\n",
    "\n",
    "And the following $S$ variables:\n",
    "\n",
    "```{list-table}\n",
    ":header-rows: 1\n",
    "\n",
    "* - $\\hat{S}$\n",
    "  - Notation in paper\n",
    "  - Description\n",
    "* - `logsdf`\n",
    "  - $\\hat{S}$\n",
    "  - Log stochastic discount factor\n",
    "* - `logn`\n",
    "  - $\\hat{N}$\n",
    "  - Log uncertainty component of SDF\n",
    "```\n",
    "\n",
    "The user can also set the initial state. `marginal_quantile` is a dictionary which computes the quantiles of the marginal stationary distribution of each state. For example, `marginal_quantile['Z'](0.5)` computes the median of the marginal distribution of `Z`. Since the states consist of $Z^1$ (`Z` in the code) and $Z^2$ (`Y` in the code), we can define the initial state as follows:"
   ]
  },
  {
   "cell_type": "code",
   "execution_count": null,
   "metadata": {
    "tags": [
     "remove-output"
    ]
   },
   "outputs": [],
   "source": [
    "initial_points = [[marginal_quantile['Z'](0.5),marginal_quantile['Y'](0.1)],\n",
    "                    [marginal_quantile['Z'](0.5),marginal_quantile['Y'](0.5),\n",
    "                    marginal_quantile['Z'](0.5),marginal_quantile['Y'](0.9)]]"
   ]
  },
  {
   "cell_type": "markdown",
   "metadata": {},
   "source": [
    "In the above example, we initialize $Z^2$ at its 10th, 50th and 90th percentiles while holding $Z^1$ at its median. "
   ]
  },
  {
   "cell_type": "markdown",
   "metadata": {},
   "source": [
    "First we import the necessary libraries:"
   ]
  },
  {
   "cell_type": "code",
   "execution_count": 1,
   "metadata": {},
   "outputs": [],
   "source": [
    "import os\n",
    "import sys\n",
    "import numpy as np\n",
    "from scipy.interpolate import RegularGridInterpolator as RGI\n",
    "import argparse\n",
    "import matplotlib.pyplot as plt\n",
    "\n",
    "os.chdir(\"src/1/\")\n",
    "from main_pde_shock_elasticity import main\n",
    "from utils_FDM import finiteDiff_2D_first, finiteDiff_2D_second, finiteDiff_2D_cross\n",
    "from utils_pde_shock_elasticity import computeElas\n",
    "from plot_function import return_solution, plot_solution\n",
    "os.chdir(\"../../\")"
   ]
  },
  {
   "cell_type": "markdown",
   "metadata": {},
   "source": [
    "Next, we set the elasticity inputs. Remember that a solution must be saved under the same parameters before the elasticities can be computed."
   ]
  },
  {
   "cell_type": "code",
   "execution_count": 2,
   "metadata": {},
   "outputs": [],
   "source": [
    "alpha = 0.0922\n",
    "delta = 0.01\n",
    "gamma = 1.0\n",
    "Delta = 1.0\n",
    "rho = 1.0\n",
    "action_name = \"test\""
   ]
  },
  {
   "cell_type": "markdown",
   "metadata": {},
   "source": [
    "After changing these settings to your liking, we can run `main_pde_shock_elasticity`. Using default settings, this takes 20 seconds."
   ]
  },
  {
   "cell_type": "code",
   "execution_count": 13,
   "metadata": {},
   "outputs": [
    {
     "name": "stdout",
     "output_type": "stream",
     "text": [
      "--- 12.889362812042236 seconds for the elasticity computation ---\n",
      "--- 4.820237636566162 seconds for the elasticity computation ---\n",
      "--- 3.97141170501709 seconds for the elasticity computation ---\n"
     ]
    }
   ],
   "source": [
    "main(Delta, delta, gamma, rho, alpha, action_name)"
   ]
  },
  {
   "cell_type": "markdown",
   "metadata": {},
   "source": [
    "Once the above function has finished running, we can load in the results. The elasticity for each $M$ is saved as a separate `npz` file, but we can load all of them at once using the `return_solution` function."
   ]
  },
  {
   "cell_type": "code",
   "execution_count": 24,
   "metadata": {
    "tags": [
     "hide-output"
    ]
   },
   "outputs": [
    {
     "data": {
      "text/plain": [
       "{'res': NpzFile './output/test/Delta_1.0/delta_0.01/gamma_1.0_rho_1.0_alpha_0.0922/res.npz' with keys: ymax, V, dy, a22, zz...,\n",
       " 'elasticity_logc': NpzFile './output/test/Delta_1.0/delta_0.01/gamma_1.0_rho_1.0_alpha_0.0922/elasticity_logc.npz' with keys: exposure_elasticity, price_elasticity,\n",
       " 'elasticity_logimo': NpzFile './output/test/Delta_1.0/delta_0.01/gamma_1.0_rho_1.0_alpha_0.0922/elasticity_logimo.npz' with keys: exposure_elasticity, price_elasticity,\n",
       " 'uncertainty_priceelas': NpzFile './output/test/Delta_1.0/delta_0.01/gamma_1.0_rho_1.0_alpha_0.0922/uncertainty_priceelas.npz' with keys: exposure_elasticity, price_elasticity}"
      ]
     },
     "execution_count": 24,
     "metadata": {},
     "output_type": "execute_result"
    }
   ],
   "source": [
    "res = return_solution(rho, gamma, Delta, delta, alpha, action_name)\n",
    "res"
   ]
  },
  {
   "cell_type": "markdown",
   "metadata": {},
   "source": [
    "For example, we can load the first-type exposure elasticities for $\\hat{C}$ by accessing `['elasticity_logc']['exposure_elasticity'].item().firstType`. The first index of this object is the initial state; 0 represents the first initialization, which in this case is $Z^1$ at median and $Z^2$ at 10th percentile. The second index is the shock index; in this case, 1 represents a growth-rate shock. The third index is time. To illustrate this, we have written a simple `plot_solution` function, but the user can edit this to display their desired results."
   ]
  },
  {
   "cell_type": "code",
   "execution_count": 55,
   "metadata": {},
   "outputs": [
    {
     "data": {
      "image/png": "[encoded data removed]",
      "text/plain": [
       "<Figure size 500x400 with 1 Axes>"
      ]
     },
     "metadata": {},
     "output_type": "display_data"
    }
   ],
   "source": [
    "plot_solution(rho, gamma, Delta, delta, alpha, action_name)"
   ]
  },
  {
   "cell_type": "code",
   "execution_count": null,
   "metadata": {},
   "outputs": [],
   "source": []
  },
  {
   "cell_type": "markdown",
   "metadata": {},
   "source": [
    "# 5.2 Simulation"
   ]
  },
  {
   "cell_type": "markdown",
   "metadata": {},
   "source": [
    "Alternatively, we can compute elasticities by simulation. Specifically, we use simulations to estimate:\n",
    "\n",
    "$$\n",
    "\\frac{\\partial}{\\partial x} \\log \\mathbb{E}\\Big[ \\Big( \\frac{M_t}{M_0} \\Big) \\mid X_0 = x \\Big],\\\\\n",
    "\\frac{\\partial}{\\partial x} \\log \\mathbb{E}\\Big[ \\Big( \\frac{S_tM_t}{S_0M_0} \\Big) \\mid X_0 = x \\Big]\n",
    "$$\n",
    "\n",
    "Currently, this method is only implemented for the heterogeneous agents environment in Section 5, but the user can easily modify the code to adapt to the other environments. \n",
    "\n",
    "The solution scripts give us the objects we need: [`\\mu_X`, `\\sigma_X`, `\\mulogM`, `\\sigmalogM`, `\\mulogS`, `\\sigmalogS`] to perform simulations. These objects are interpolated on the state space grid using the `scipy.interpolate.RegularGridInterpolator` function. We initialize the states at $X_0$ and simulate `sim_num`*100 independent Brownian motion processes ${B_t}$ with length $T$, use these to evaluate ${X_t}$. Using the interpolations, we can compute ${M_t/M_0}$ and ${S_t/S_0}$ and thus estimate the expectation term.  We repeat this with initial state $X_0+dx$ and use this to estimate the derivative of the expectation.\n",
    "\n",
    "\n",
    "Similar to the finite differences code, `main_sim_shock_elasticity` takes the same inputs as the main solution script, with the addition of [`W_percentile`,`Z_percentile`,`V_percentile`], which characterise the initial state $X_0$. We recommend using a remote computing resource to run this program, which may take around an hour per elasticity computed.\n",
    "\n",
    "In addition, the `main_sim_shock_elasticity` script can be edited to change the following parameters:\n",
    "\n",
    "```{list-table}\n",
    ":header-rows: 1\n",
    "\n",
    "* - Parameter\n",
    "  - Description\n",
    "  - Default Value\n",
    "* - `sim_num`\n",
    "  - Number of simulations is `sim_num`$*100$\n",
    "  - 100\n",
    "* - `sim_length`\n",
    "  - Simulation length in years\n",
    "  - 50\n",
    "* - `shock_index`\n",
    "  - Shock index: 0 for the capital shock, 1 for growth shock and 2 for volatility shock\n",
    "  - 0\n",
    "* - `dx`\n",
    "  - Step-size for state derivative\n",
    "  - `[0.01, 0.01, 1e-7]`\n",
    "* - `dt`\n",
    "  - Time step\n",
    "  - 1\n",
    "* - `statespace`\n",
    "  - State space\n",
    "  - `[W, Z, V]`\n",
    "* - `muX`\n",
    "  - State variable drift terms\n",
    "  - `[muW, muZ, muV]`\n",
    "* - `sigmaX`\n",
    "  - State variable diffusion terms\n",
    "  - `[sigmaW, sigmaZ, sigmaV]`\n",
    "* - `mulogM`\n",
    "  - Log drift term for the response variable M\n",
    "  - `mulogW`\n",
    "* - `sigmalogM`\n",
    "  - Log diffusion terms for the response variable M\n",
    "  - `sigmalogW`\n",
    "* - `mulogS`\n",
    "  - Log drift term for the SDF\n",
    "  - `logsdfe_drift`\n",
    "* - `sigmalogS`\n",
    "  - Log diffusion terms for the SDF\n",
    "  - `logsdfe_diffusion`\n",
    "```\n",
    "\n",
    "The script saves the `exposure_elasticity` and `price_elasticity`. There is a chance that the simulation fails as $X_t$ may move outside the state space grid. The total number of successful simulations for $X_0$ and $X_0+dx$ are recorded as `initial_success_count` and `derivative_success_count`, respectively. By default, intermediate variables, such as $X_t/X_0$, are not saved; this can be altered by setting `return_type`=0. We now demonstrate the code:"
   ]
  },
  {
   "cell_type": "code",
   "execution_count": 1,
   "metadata": {},
   "outputs": [],
   "source": [
    "import numpy as np\n",
    "np.set_printoptions(suppress=True, linewidth=200)\n",
    "import os\n",
    "from scipy import interpolate\n",
    "os.chdir(\"src/4\")\n",
    "from main_sim_shock_elasticity import main\n",
    "from plot import return_sim_elasticity\n",
    "os.chdir(\"../..\")\n",
    "import warnings\n",
    "warnings.filterwarnings(\"ignore\")\n",
    "import argparse\n",
    "import matplotlib.pyplot as plt\n",
    "import seaborn as sns\n",
    "sns.set(style=\"whitegrid\", font_scale=1.13, rc={\"lines.linewidth\": 3.5})\n",
    "plt.rcParams['axes.formatter.useoffset'] = True"
   ]
  },
  {
   "cell_type": "markdown",
   "metadata": {},
   "source": [
    "We provide example parameters which follow the default example in Chapter 4 of this notebook. For illustration, we initialize $W$ and $Z^1$ at their medians, and $Z^2$ at its 90th percentile."
   ]
  },
  {
   "cell_type": "code",
   "execution_count": 2,
   "metadata": {
    "tags": [
     "hide-cell"
    ]
   },
   "outputs": [],
   "source": [
    "chiUnderline = 1.0\n",
    "gamma_e = 4.0\n",
    "a_e = 0.0922\n",
    "a_h = 0.0\n",
    "gamma_h = 4.0\n",
    "delta_e = 0.0115\n",
    "delta_h = 0.01\n",
    "lambda_d = 0.0\n",
    "rho_e = 1.0\n",
    "rho_h = 1.0\n",
    "nu = 0.1\n",
    "V_bar = 0.0000063030303030303026\n",
    "sigma_K_norm = 3.1707442821755683\n",
    "sigma_Z_norm = 19.835431735873996\n",
    "sigma_V_norm = 0.0010882177801089308\n",
    "wMin = 0.01\n",
    "wMax = 0.99\n",
    "nWealth = 180\n",
    "nZ = 30\n",
    "nV = 30\n",
    "seed = 256\n",
    "n_layers = 2\n",
    "units = 16\n",
    "points_size = 10\n",
    "iter_num = 5\n",
    "penalization = 10000\n",
    "BFGS_maxiter = 100\n",
    "BFGS_maxfun = 100\n",
    "action_name = 'test'\n",
    "shock_expo = 'upper_triangular'\n",
    "W_percentile = 0.5\n",
    "Z_percentile = 0.5\n",
    "V_percentile = 0.9\n"
   ]
  },
  {
   "cell_type": "markdown",
   "metadata": {},
   "source": [
    "Next, we run the simulation. This can take more than an hour using default settings."
   ]
  },
  {
   "cell_type": "code",
   "execution_count": null,
   "metadata": {
    "tags": [
     "hide-output"
    ]
   },
   "outputs": [],
   "source": [
    "main(chiUnderline = 1.0, gamma_e = 4.0, a_e = 0.0922, a_h = 0.0, gamma_h = 4.0, delta_e = 0.0115, delta_h = 0.01, lambda_d = 0.0, rho_e = 1.0, rho_h = 1.0, nu = 0.1, V_bar = 0.0000063030303030303026, sigma_K_norm = 3.1707442821755683, sigma_Z_norm = 19.835431735873996, sigma_V_norm = 0.0010882177801089308, wMin = 0.01, wMax = 0.99, nWealth = 180, nZ = 30, nV = 30, seed = 256, n_layers = 2, units = 16, points_size = 10, iter_num = 5, penalization = 10000, BFGS_maxiter = 100, BFGS_maxfun = 100, action_name = 'test', shock_expo = 'upper_triangular', W_percentile = 0.5, Z_percentile = 0.5, V_percentile = 0.9)"
   ]
  },
  {
   "cell_type": "markdown",
   "metadata": {},
   "source": [
    "We now load the results and plot an example."
   ]
  },
  {
   "cell_type": "code",
   "execution_count": 3,
   "metadata": {},
   "outputs": [],
   "source": [
    "sim = return_sim_elasticity(shock_expo = shock_expo, seed = seed, chiUnderline = chiUnderline, a_e = a_e, a_h = a_h, gamma_e = gamma_e, gamma_h = gamma_h, psi_e = rho_e, psi_h = rho_h, delta_e = delta_e, delta_h = delta_h, lambda_d = lambda_d, nu = nu, n_layers = n_layers, units = units, iter_num = iter_num, points_size = points_size, penalization = penalization, action_name = action_name, W_percentile = W_percentile, Z_percentile = Z_percentile, V_percentile = V_percentile)"
   ]
  },
  {
   "cell_type": "code",
   "execution_count": 6,
   "metadata": {},
   "outputs": [
    {
     "data": {
      "image/png": "[encoded data removed]",
      "text/plain": [
       "<Figure size 500x400 with 1 Axes>"
      ]
     },
     "metadata": {},
     "output_type": "display_data"
    }
   ],
   "source": [
    "fig, axes = plt.subplots(1,1, figsize=(5,4))\n",
    "\n",
    "sns.lineplot(sim['elasticity']['price_elasticity'], ax = axes)\n",
    "axes.set_title(r'Model RF')\n",
    "axes.set_xlim(0,40)\n",
    "axes.grid(False)\n",
    "# axes.set_ylim([0,0.08])\n",
    "\n",
    "plt.subplots_adjust(wspace=0.3, hspace=0.25)\n",
    "plt.tight_layout()"
   ]
  }
 ],
 "metadata": {
  "kernelspec": {
   "display_name": "envname",
   "language": "python",
   "name": "envname"
  },
  "language_info": {
   "codemirror_mode": {
    "name": "ipython",
    "version": 3
   },
   "file_extension": ".py",
   "mimetype": "text/x-python",
   "name": "python",
   "nbconvert_exporter": "python",
   "pygments_lexer": "ipython3",
   "version": "3.9.19"
  }
 },
 "nbformat": 4,
 "nbformat_minor": 2
}
