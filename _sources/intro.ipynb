{
 "cells": [
  {
   "cell_type": "markdown",
   "metadata": {},
   "source": [
    "# Introduction\n",
    "This webpage provides user-friendly instructions on how to solve the models and produce the figures featured in Sections 4 and 5 of Hansen, Khorrami and Tourre (2024). It is divided into the following chapters:\n",
    "\n",
    "1. [Single Capital Model](single_capital.ipynb)\n",
    "2. [Model Ambiguity](model_ambiguity.ipynb)\n",
    "3. [Two Capital Model](twocapital.ipynb)\n",
    "4. [Heterogeneous Agents](heterogeneous_agents.ipynb)\n",
    "5. [Elasticities](elasticities.ipynb)\n",
    "\n",
    "The code used in this book is taken from https://github.com/lphansen/comparing_dsge, though some of the code is refactored so that it can be run using Juypter notebooks. This resource is intended as a starting point for users; we recommend using the original code on GitHub if users wish to submit large batches of jobs or want to perform computationally intensive tasks such as solving the two capital model or simulating elasticities. "
   ]
  }
 ],
 "metadata": {
  "language_info": {
   "name": "python"
  }
 },
 "nbformat": 4,
 "nbformat_minor": 2
}
