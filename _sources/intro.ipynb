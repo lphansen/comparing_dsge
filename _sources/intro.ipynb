{
 "cells": [
  {
   "cell_type": "markdown",
   "metadata": {},
   "source": [
    "# Introduction\n",
    "This webpage provides user-friendly instructions on how to solve the models and produce the figures featured in Sections 4 and 5 of Hansen, Khorrami and Tourre (2024). It is divided into the following chapters:\n",
    "\n",
    "1. [Single Capital Model](single_capital.ipynb)\n",
    "2. [Model Ambiguity](model_ambiguity.ipynb)\n",
    "3. [Two Capital Model](twocapital.ipynb)\n",
    "4. [Heterogeneous Agents](heterogeneous_agents.ipynb)\n",
    "5. [Elasticities](elasticities.ipynb)\n",
    "\n"
   ]
  }
 ],
 "metadata": {
  "language_info": {
   "name": "python"
  }
 },
 "nbformat": 4,
 "nbformat_minor": 2
}
