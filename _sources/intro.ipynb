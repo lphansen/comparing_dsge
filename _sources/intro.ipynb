{
 "cells": [
  {
   "cell_type": "markdown",
   "metadata": {},
   "source": [
    "# Introduction\n",
    "This webpage provides user-friendly instructions on how to solve the models and compute the elasticities featured in Sections 4 and 5 of Hansen, Khorrami and Tourre (2024). It is divided into the following notebooks:\n",
    "\n",
    "\n"
   ]
  }
 ],
 "metadata": {
  "language_info": {
   "name": "python"
  }
 },
 "nbformat": 4,
 "nbformat_minor": 2
}
