{
 "cells": [
  {
   "cell_type": "markdown",
   "metadata": {},
   "source": [
    "# 3 Two Capital Model "
   ]
  },
  {
   "cell_type": "markdown",
   "metadata": {},
   "source": [
    "We now consider models with two capital stocks, which evolve as:\n",
    "$$\n",
    "dK_t^j = K_t^j \\left[ \\Phi^j \\left( \\frac{I_t^j}{K_t^j} \\right) + \\beta^j_k Z_t^1 - \\eta^j \\right] dt  + K_t^j \\sqrt{Z_t^2}  {\\sigma}^j_k \\cdot dB_t\n",
    "$$\n",
    "\n",
    "For $j=1,2$. Suppose that the output equation is now:\n",
    "\n",
    "$$\n",
    "C_t + I_t^1 + I_t^2 = \\alpha K_t^a \n",
    "$$\n",
    "\n",
    "where aggregate capital is a CES aggregator of the two capital stocks:\n",
    "\n",
    "$$\n",
    "K_t^a = \\left[(1-\\zeta) \\left(K_t^1\\right)^{(1 - \\tau)}  + \\zeta \\left( K_t^2\\right)^{(1 - \\tau)} \\right]^\n",
    "{\\frac 1 {1 - \\tau}} \n",
    "$$\n",
    "for $0 \\le \\zeta < 1$ and $\\tau \\ge 0$.For characterization and computation, we form two state variables:\n",
    "one is $\\widehat Y_t = \\log(K_t^2/K_t^1)$ and the other is $\\widehat K_t^a$. "
   ]
  }
 ],
 "metadata": {
  "language_info": {
   "name": "python"
  }
 },
 "nbformat": 4,
 "nbformat_minor": 2
}
