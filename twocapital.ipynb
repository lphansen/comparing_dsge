{
 "cells": [
  {
   "cell_type": "markdown",
   "metadata": {},
   "source": [
    "# 3 Two Capital Model "
   ]
  },
  {
   "cell_type": "markdown",
   "metadata": {},
   "source": [
    "We now consider the environment in Section 4.6 with two capital stocks, which evolve as:\n",
    "$$\n",
    "dK_t^j = K_t^j \\left[ \\Phi^j \\left( \\frac{I_t^j}{K_t^j} \\right) + \\beta^j_k Z_t^1 - \\eta^j \\right] dt  + K_t^j \\sqrt{Z_t^2}  {\\sigma}^j_k \\cdot dB_t\n",
    "$$\n",
    "\n",
    "For $j=1,2$. The output equation is now:\n",
    "\n",
    "$$\n",
    "C_t + I_t^1 + I_t^2 = \\alpha K_t^a \n",
    "$$\n",
    "\n",
    "where aggregate capital is a CES aggregator of the two capital stocks:\n",
    "\n",
    "$$\n",
    "K_t^a = \\left[(1-\\zeta) \\left(K_t^1\\right)^{(1 - \\tau)}  + \\zeta \\left( K_t^2\\right)^{(1 - \\tau)} \\right]^\n",
    "{\\frac 1 {1 - \\tau}} \n",
    "$$\n",
    "for $0 \\le \\zeta < 1$ and $\\tau \\ge 0$.  Agent preferences and the $Z^1$ and $Z^2$ processes are identical to the baseline model. The problem is very similar to the single-capital model except that we now have an additional endogenous state variable $\\widehat Y_t = \\log(K_t^2/K_t^1)$. In addition to the model inputs from Chapter 1, we also need to specify the following:\n",
    "\n",
    "```{list-table}\n",
    ":header-rows: 1\n",
    "\n",
    "* - Input\n",
    "  - Notation in paper\n",
    "  - Description\n",
    "* - `Delta`\n",
    "  - $\\Delta_t$\n",
    "  - False-transient step-size: lower values (0.01 or 0.001) reduce likelihood of convergence issues\n",
    "* - `gamma`\n",
    "  - $\\gamma$\n",
    "  - Uncertainty aversion\n",
    "* - `delta`\n",
    "  - $\\delta$\n",
    "  - Discount rate\n",
    "* - `rho`\n",
    "  - $\\rho$\n",
    "  - Inverse of IES\n",
    "* - `alpha`\n",
    "  - $\\alpha$\n",
    "  - Productivity\n",
    "```\n",
    "\n",
    "\n",
    "We have experienced many convergence issues when solving the two capital model directly. One way to overcome this is to first run a two-dimensional version of the two-capital (abstracting from $Z^2$) and use the solution to this model as an initial guess to the full three-dimensional model. First we load the necessary libraries:"
   ]
  },
  {
   "cell_type": "code",
   "execution_count": 7,
   "metadata": {},
   "outputs": [
    {
     "name": "stderr",
     "output_type": "stream",
     "text": [
      "\u001b[32m\u001b[1m  Activating\u001b[22m\u001b[39m project at `/project/lhansen/macrofinance`\n",
      "\u001b[32m\u001b[1m  Activating\u001b[22m\u001b[39m project at `/project/lhansen/macrofinance`\n"
     ]
    }
   ],
   "source": [
    "include(\"src/3/main_twocapitals_two_dimensions.jl\")\n",
    "include(\"src/3/main_twocapitals_three_dimensions.jl\")\n",
    "using Pkg\n",
    "using Optim\n",
    "using Roots\n",
    "using NPZ\n",
    "using ArgParse\n"
   ]
  },
  {
   "cell_type": "markdown",
   "metadata": {},
   "source": [
    "Next, we set the model inputs for the two-dimensional model:"
   ]
  },
  {
   "cell_type": "code",
   "execution_count": null,
   "metadata": {},
   "outputs": [],
   "source": [
    "Delta=1.0, gamma=8.0, rho=1.0, alpha=0.1844, kappa=0.0, zeta=0.5, beta1=0.01, beta2=0.01, action_name=\"publish\""
   ]
  },
  {
   "cell_type": "code",
   "execution_count": null,
   "metadata": {},
   "outputs": [],
   "source": []
  },
  {
   "cell_type": "code",
   "execution_count": null,
   "metadata": {},
   "outputs": [],
   "source": []
  }
 ],
 "metadata": {
  "kernelspec": {
   "display_name": "Julia 1.7.3 1.7.3",
   "language": "julia",
   "name": "julia-1.7.3-1.7"
  },
  "language_info": {
   "file_extension": ".jl",
   "mimetype": "application/julia",
   "name": "julia",
   "version": "1.7.3"
  }
 },
 "nbformat": 4,
 "nbformat_minor": 2
}
