{
 "cells": [
  {
   "cell_type": "markdown",
   "metadata": {},
   "source": [
    "# Single Capital Model"
   ]
  },
  {
   "cell_type": "markdown",
   "metadata": {
    "vscode": {
     "languageId": "plaintext"
    }
   },
   "source": [
    "This notebook describes the code used to solve the model in Section 4.5. That is, suppose that the logarithm of continuation utility $V$ evolves as:\n",
    "\n",
    "$$\n",
    "d {\\widehat V}_t = {\\hat \\mu}_{v,t} dt + \\sigma_{v,t} \\cdot dB_t\n",
    "$$\n",
    "\n",
    "where $ {\\hat \\mu}_{v,t}$ is the local mean, $ |\\sigma_{v,t}|^2$ is local variance and $dB_t$ is a Brownian increment, such that:\n",
    "\n",
    "$$\n",
    "0  =   \\left({\\frac \\delta {1 - \\rho}} \\right) \\left[ (C_t/V_t)^{1 - \\rho}\n",
    "  - 1  \\right]  + {\\hat \\mu}_{v,t}  +  \\left(\\frac{1 - \\gamma}{ 2 } \\right)  \\vert \\sigma_{v,t} \\vert^2 \n",
    "$$\n",
    "\n",
    "We presume that the stochastic component of technology growth $Z_1$ and aggregate stochastic volatility $Z_2$ are governed by the following processes:\n",
    "\n",
    "$$\n",
    "d Z_{t}^1 =  - \\beta_{1} Z_t^1 dt +  \\sqrt{Z_t^2} \\sigma_1 \\cdot d B_{t} \\\\\n",
    "d Z_t^2 = - \\beta_2 ( Z_t^2 - \\mu_2) dt +  \\sqrt{Z_t^2} \\sigma_2 \\cdot d B_t\n",
    "$$\n",
    "\n",
    "Capital growth is governed by:\n",
    "\n",
    "$$\n",
    "dK_t = K_t\\left[ \\Phi \\left( \\frac{I_t}{K_t} \\right) + \\beta_k Z_t^1 - \\eta_k \\right] dt  + K_t \\sqrt{Z_t^2}  {\\sigma}_k \\cdot dB_t\n",
    "$$\n",
    "\n",
    "Where:\n",
    "\n",
    "$$\n",
    "\\Phi(i) = {\\frac 1 \\phi}  \\log \\left( 1 + \\phi i \\right)\n",
    "$$\n",
    "\n",
    "Output is constrained by:\n",
    "\n",
    "$$\n",
    "C_t + I_t = \\alpha K_t\n",
    "$$\n",
    "\n",
    "From this we can deduce the Hamilton-Jacobi-Bellman (HJB) equation:\n",
    "\n",
    "$$\n",
    "0 =   \\max_{c+i = \\alpha}  \\left\\{ \\left( \\frac{\\delta}{1 - \\rho} \\right) \\left( c^{1-\\rho} \\exp \\left[ (\\rho - 1) \\upsilon \\right] - 1 \\right) + \\Phi(i) + \\beta_k z_1 - \\eta_k - \\frac{1}{2} z_2 |\\sigma_k|^2 \\right. \\\\\n",
    " \\left. + \\mu_z \\cdot \\frac {\\partial \\upsilon}{\\partial z}  +  \\frac {z_2}2  {\\rm trace} \\left\\{ {\\sigma_z}' \\frac {\\partial^2 \\upsilon}{\\partial z \\partial z'} \\sigma_z \\right\\} +  \\frac{(1 - \\gamma) z_2 }{2} \\left\\vert\\sigma_k + {\\sigma_z}' \\frac {\\partial \\upsilon}{\\partial z}   \\right\\vert^2 \\right\\}\n",
    "$$\n",
    "\n",
    "Where $c$ is the consumption-to-capital ratio and $i$ is the investment-to-capital ratio. We solve this HJB using the algorithm described in Supplemental Appendix C.1."
   ]
  },
  {
   "cell_type": "markdown",
   "metadata": {
    "vscode": {
     "languageId": "plaintext"
    }
   },
   "source": [
    "<!-- | **Parameter**  | **Value**                                                         |\n",
    "|----------------|-------------------------------------------------------------------|\n",
    "| $\\eta_k$       | 0.04                                                              |\n",
    "| $\\phi$         | 8                                                                 |\n",
    "| $\\beta_k$      | 0.04                                                              |\n",
    "| $\\beta_1$      | 0.056                                                             |\n",
    "| $\\beta_2$      | 0.194                                                             |\n",
    "| $\\mu_2$        | $6.3 \\times 10^{-6}$                                              |\n",
    "| **Upper triangular**  \n",
    "| $\\sigma_2$ |$\\sqrt{12} \\times [0.92, 0.40, 0]$                              |\n",
    "| **Lower triangular** | $\\sqrt{12} \\times [1, 0, 0]$                                    |\n",
    "| $\\sigma_k$     | $\\sqrt{12} \\times [0.92, 0.40, 0]$                                |\n",
    "| $\\sigma_1$     | $\\sqrt{12} \\times [0, 5.7, 0]$                                    |\n",
    "| **Lower triangular** | $\\sqrt{12} \\times [2.3, 5.2, 0]$                                |\n",
    "| $\\sigma_2$     | $\\sqrt{12} \\times [0, 0, 0.00031]$                                | -->"
   ]
  },
  {
   "cell_type": "markdown",
   "metadata": {
    "vscode": {
     "languageId": "plaintext"
    }
   },
   "source": [
    "# Solution Overview\n",
    "\n",
    "The function `main_one_capital` takes in the following inputs:\n",
    "\n",
    "```{list-table}\n",
    ":header-rows: 1\n",
    "\n",
    "* - Input\n",
    "  - Notation in paper\n",
    "  - Description\n",
    "* - `Delta`\n",
    "  - $\\Delta_t$\n",
    "  - False-transient step-size: lower values (0.01 or 0.001) reduce likelihood of convergence issues\n",
    "* - `gamma`\n",
    "  - $\\gamma$\n",
    "  - Uncertainty aversion\n",
    "* - `delta`\n",
    "  - $\\delta$\n",
    "  - Discount rate\n",
    "* - `rho`\n",
    "  - $\\rho$\n",
    "  - Inverse of IES\n",
    "* - `alpha`\n",
    "  - $\\alpha$\n",
    "  - Productivity\n",
    "```"
   ]
  },
  {
   "cell_type": "markdown",
   "metadata": {},
   "source": [
    "The user can also edit the `main_onecapital` Julia file to change model parameters which are held fixed in the paper, including:\n",
    "\n",
    "```{list-table}\n",
    ":header-rows: 1\n",
    "\n",
    "* - Output\n",
    "  - Notation in paper\n",
    "  - Description\n",
    "* - `cons`\n",
    "  - $c$\n",
    "  - Consumption-output ratio\n",
    "* - `a11`\n",
    "  - $\\beta_1$\n",
    "  - Persistence of $Z_1$\n",
    "* - `a22`\n",
    "  - $\\beta_2$\n",
    "  - Persistence of $Z_2$\n",
    "* - `ymean`\n",
    "  - $\\mu_2$\n",
    "  - Mean of $Z_2$\n",
    "* - `phi`\n",
    "  - $\\phi$\n",
    "  - Adjustment cost\n",
    "* - `sigma_k`\n",
    "  - $\\sigma_k$\n",
    "  - Shock exposure for $dK$\n",
    "* - `sigma_z`\n",
    "  - $\\sigma_1$\n",
    "  - Shock exposure for $dZ_1$\n",
    "* - `sigma_y`\n",
    "  - $\\sigma_2$\n",
    "  - Shock exposure for $dZ_2$\n",
    "```\n",
    "\n",
    "Finally, the following parameters govern the construction of the state space grid and convergence criteria:\n",
    "```{list-table}\n",
    ":header-rows: 1\n",
    "\n",
    "* - Input\n",
    "  - Description\n",
    "* - `zmin`,`zmax`\n",
    "  - Minimum and maximum values of $Z_1$ grid; an insufficiently large grid may cause inaccuracies\n",
    "* - `II`\n",
    "  - Number of $Z_1$ gridpoints\n",
    "* - `ymin`,`ymax`\n",
    "  - Minimum and maximum values of $Z_2$ grid; an insufficiently large grid may cause inaccuracies\n",
    "* - `JJ`\n",
    "  - Number of $Z_2$ gridpoints\n",
    "* - `maxit`\n",
    "  - Maximum number of value function iterations \n",
    "* - `crit`\n",
    "  - The algorithm stops when the difference between $V_t$ and $V_{t+1}$ is less than `crit` for all points on the state-space grid\n",
    "```\n",
    "\n",
    "`main_onecapital` outputs a dictionary that contains the above parameters, as well as the following outputs:\n",
    "```{list-table}\n",
    ":header-rows: 1\n",
    "\n",
    "* - Input\n",
    "  - Notation in paper\n",
    "  - Description\n",
    "* - V\n",
    "  - $V$\n",
    "  - Value function\n",
    "* - `c`\n",
    "  - $\\frac{C}{K}$\n",
    "  - Consumption-capital ratio\n",
    "* - `d`\n",
    "  - $\\frac{I}{K}$\n",
    "  - Investment-capital ratio\n",
    "* - Vz\n",
    "  - $\\frac{\\partial{v}}{\\partial{z_1}}$\n",
    "  - Derivative of $V$ with respect to $Z^1$\n",
    "* - Vy\n",
    "  - $\\frac{\\partial{v}}{\\partial{z_2}}$\n",
    "  - Derivative of $V$ with respect to $Z^2$\n",
    "* - mu_k\n",
    "  - $\\mu_{\\hat{K}}$\n",
    "  - Drift of $\\log{K}$\n",
    "* - g\n",
    "  - \n",
    "  - Stationary density\n",
    "* - [`hk`,`hz`,`hy`]\n",
    "  - $\\sigma_k + \\sigma_z' \\frac{\\partial{v}}{\\partial{z}}$\n",
    "  - Robust control term\n",
    "* - `ymean`\n",
    "  - $\\mu_2$\n",
    "  - Mean of $Z_2$\n",
    "* - `phi`\n",
    "  - $\\phi$\n",
    "  - Adjustment cost\n",
    "* - `sigma_k`\n",
    "  - $\\sigma_k$\n",
    "  - Shock exposure for $dK$\n",
    "* - `sigma_z`\n",
    "  - $\\sigma_1$\n",
    "  - Shock exposure for $dZ_1$\n",
    "* - `sigma_y`\n",
    "  - $\\sigma_2$\n",
    "  - Shock exposure for $dZ_2$"
   ]
  },
  {
   "cell_type": "markdown",
   "metadata": {},
   "source": []
  },
  {
   "cell_type": "markdown",
   "metadata": {},
   "source": [
    "# Quick Start\n",
    "We begin by importing required libraries:"
   ]
  },
  {
   "cell_type": "code",
   "execution_count": 2,
   "metadata": {
    "tags": [
     "hide-output"
    ]
   },
   "outputs": [
    {
     "data": {
      "text/plain": [
       "stationary_distribution (generic function with 1 method)"
      ]
     },
     "execution_count": 2,
     "metadata": {},
     "output_type": "execute_result"
    }
   ],
   "source": [
    "using LinearAlgebra\n",
    "using SparseArrays\n",
    "using Interpolations\n",
    "using SuiteSparse\n",
    "include(\"../1_single_capital_with_stochastic_volatility/src/utils_onecapital.jl\")"
   ]
  },
  {
   "cell_type": "markdown",
   "metadata": {},
   "source": [
    "Next we set parameters, including an `action_name` which determines where the file is saved:"
   ]
  },
  {
   "cell_type": "code",
   "execution_count": null,
   "metadata": {},
   "outputs": [],
   "source": [
    "alpha = 0.0922\n",
    "delta = 0.01\n",
    "gamma = 1.0\n",
    "Delta = 1.0\n",
    "rho = 1.0\n",
    "action_name = \"test\""
   ]
  },
  {
   "cell_type": "markdown",
   "metadata": {},
   "source": [
    "Now we can run our main function:"
   ]
  },
  {
   "cell_type": "code",
   "execution_count": null,
   "metadata": {},
   "outputs": [],
   "source": [
    "mainonecapital(alpha=alpha, delta=delta, gamma=gamma, Delta=Delta, rho=rho,action_name=action_name)"
   ]
  },
  {
   "cell_type": "code",
   "execution_count": null,
   "metadata": {
    "tags": [
     "hide-cell"
    ]
   },
   "outputs": [],
   "source": []
  }
 ],
 "metadata": {
  "kernelspec": {
   "display_name": "Julia 1.7.3 1.7.3",
   "language": "julia",
   "name": "julia-1.7.3-1.7"
  },
  "language_info": {
   "file_extension": ".jl",
   "mimetype": "application/julia",
   "name": "julia",
   "version": "1.7.3"
  }
 },
 "nbformat": 4,
 "nbformat_minor": 2
}
