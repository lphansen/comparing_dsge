{
 "cells": [
  {
   "cell_type": "markdown",
   "metadata": {},
   "source": [
    "This outputs the cdf of a point in W for a given model."
   ]
  },
  {
   "cell_type": "code",
   "execution_count": 11,
   "metadata": {},
   "outputs": [],
   "source": [
    "import numpy as np\n",
    "np.set_printoptions(suppress=True, linewidth=200)\n",
    "import os\n",
    "from scipy import interpolate\n",
    "import warnings\n",
    "warnings.filterwarnings(\"ignore\")\n",
    "import argparse\n",
    "import pandas as pd\n"
   ]
  },
  {
   "cell_type": "code",
   "execution_count": 33,
   "metadata": {},
   "outputs": [],
   "source": [
    "def return_solution(shock_expo, seed, chiUnderline, a_e, a_h, gamma_e, gamma_h, psi_e, psi_h, delta_e, delta_h, lambda_d, nu,n_layers,units,iter_num, points_size,penalization, action_name):\n",
    "        \n",
    "        wMin = 0.01\n",
    "        wMax = 0.99\n",
    "\n",
    "        nWealth           = 180\n",
    "        nZ                = 30\n",
    "        nV                = 30\n",
    "        \n",
    "        wMin_t, wMax_t = [str(\"{:0.3f}\".format(param)).replace('.', '', 1)  for param in [wMin, wMax]]\n",
    "        domain_folder = 'nW_' + str(nWealth) + '_nZ_' + str(nZ) + '_nV_' + str(nV) + '_wMin_' + wMin_t + '_wMax_' + wMax_t\n",
    "\n",
    "        parameter_list    = [chiUnderline, a_e, a_h, gamma_e, gamma_h, psi_e, psi_h, delta_e, delta_h, lambda_d, nu]\n",
    "        chiUnderline, a_e, a_h, gamma_e, gamma_h, psi_e, psi_h, delta_e, delta_h, lambda_d, nu = [str(\"{:0.3f}\".format(param)).replace('.', '', 1)  for param in parameter_list]\n",
    "        model_folder = 'chiUnderline_' + chiUnderline + '_a_e_' + a_e + '_a_h_' + a_h  + '_gamma_e_' + gamma_e + '_gamma_h_' + gamma_h + '_rho_e_' + psi_e + '_rho_h_' + psi_h + '_delta_e_' + delta_e + '_delta_h_' + delta_h + '_lambda_d_' + lambda_d + '_nu_' + nu\n",
    "        layer_folder =  'seed_' + str(seed) + '_n_layers_' + str(n_layers) + '_units_' + str(units) +'_points_size_' + str(points_size) + '_iter_num_' + str(iter_num) + '_penalization_' + str(penalization)\n",
    "\n",
    "        workdir = os.getcwd()\n",
    "        outputdir = workdir + '/output/' + action_name + '/' + shock_expo + '/'+ domain_folder + '/' + model_folder + '/' + layer_folder + '/'\n",
    "        print(outputdir)\n",
    "\n",
    "        eva_V_10 = np.load(outputdir + 'eva_V_10.npz')\n",
    "        eva_V_50 = np.load(outputdir + 'eva_V_50.npz')\n",
    "        eva_V_90 = np.load(outputdir + 'eva_V_90.npz')\n",
    "\n",
    "        print('HJBE_validation_MSE: ', np.load(outputdir + 'HJBE_validation_MSE.npy'))\n",
    "        print('HJBH_validation_MSE: ', np.load(outputdir + 'HJBH_validation_MSE.npy'))\n",
    "        print('kappa_validation_MSE: ', np.load(outputdir + 'kappa_validation_MSE.npy'))\n",
    "\n",
    "        try:\n",
    "                elasticity_logw = np.load(outputdir + 'elasticity_logw.npz', allow_pickle=True)\n",
    "        except:\n",
    "            elasticity_logw = None\n",
    "        try:\n",
    "            uncertaintye_priceelas = np.load(outputdir + 'uncertaintye_priceelas.npz', allow_pickle=True)\n",
    "        except:\n",
    "                uncertaintye_priceelas = None\n",
    "        try:\n",
    "            uncertaintyh_priceelas = np.load(outputdir + 'uncertaintyh_priceelas.npz', allow_pickle=True)\n",
    "        except:\n",
    "                uncertaintyh_priceelas = None\n",
    "\n",
    "        W = np.load(outputdir + 'W_NN.npy')\n",
    "        W = pd.DataFrame(W, columns = ['W'])\n",
    "        Z = np.load(outputdir + 'Z_NN.npy')\n",
    "        Z = pd.DataFrame(Z, columns = ['Z'])\n",
    "        V = np.load(outputdir + 'V_NN.npy')\n",
    "        V = pd.DataFrame(V, columns = ['V'])\n",
    "\n",
    "        dent = np.load(outputdir + 'dent_NN.npy')\n",
    "        dent_org = dent\n",
    "        dent = pd.DataFrame(dent, columns = ['dent'])\n",
    "        dent = pd.concat([W,Z,V,dent['dent']], axis=1)\n",
    "        dentW = dent.groupby('W').sum()['dent']\n",
    "        dentV = dent.groupby('V').sum()['dent']\n",
    "\n",
    "        try:\n",
    "                elasticities_W_percentile_005 = np.load(outputdir + 'elasticities_W_percentile_0.05.npz', allow_pickle=True)\n",
    "        except:\n",
    "                elasticities_W_percentile_005 = None\n",
    "        try:\n",
    "                elasticities_W_percentile_01 = np.load(outputdir + 'elasticities_W_percentile_0.1.npz', allow_pickle=True)\n",
    "        except:\n",
    "                elasticities_W_percentile_01 = None\n",
    "        try:\n",
    "                elasticities_W_percentile_05 = np.load(outputdir + 'elasticities_W_percentile_0.5.npz', allow_pickle=True)\n",
    "        except:\n",
    "                elasticities_W_percentile_05 = None\n",
    "\n",
    "        return {'eva_V_10':eva_V_10, 'eva_V_50':eva_V_50, 'eva_V_90':eva_V_90, 'dent':dent_org,'dentW':dentW, 'dentV':dentV,\n",
    "                'W':W, 'Z':Z, 'V':V, 'elasticity_logw':elasticity_logw,  'uncertaintye_priceelas':uncertaintye_priceelas, 'uncertaintyh_priceelas':uncertaintyh_priceelas,\\\n",
    "                'elasticities_W_percentile_005':elasticities_W_percentile_005, 'elasticities_W_percentile_01':elasticities_W_percentile_01, 'elasticities_W_percentile_05':elasticities_W_percentile_05}\n"
   ]
  },
  {
   "cell_type": "code",
   "execution_count": 34,
   "metadata": {},
   "outputs": [
    {
     "name": "stdout",
     "output_type": "stream",
     "text": [
      "/project/lhansen/macrofinance/heterogenous_agents_with_frictions_NN/output/neural_net/lower_triangular/nW_180_nZ_30_nV_30_wMin_0010_wMax_0990/chiUnderline_1000_a_e_0092_a_h_0000_gamma_e_4000_gamma_h_8000_rho_e_1000_rho_h_1000_delta_e_0011_delta_h_0010_lambda_d_0000_nu_0100/seed_256_n_layers_2_units_16_points_size_10_iter_num_5_penalization_10000/\n",
      "HJBE_validation_MSE:  2.8413337653444003e-05\n",
      "HJBH_validation_MSE:  2.0985705160093152e-05\n",
      "kappa_validation_MSE:  8.453717859970984e-13\n",
      "/project/lhansen/macrofinance/heterogenous_agents_with_frictions_NN/output/neural_net/upper_triangular/nW_180_nZ_30_nV_30_wMin_0010_wMax_0990/chiUnderline_1000_a_e_0092_a_h_0000_gamma_e_4000_gamma_h_8000_rho_e_1000_rho_h_1000_delta_e_0011_delta_h_0010_lambda_d_0000_nu_0100/seed_256_n_layers_2_units_16_points_size_10_iter_num_5_penalization_10000/\n",
      "HJBE_validation_MSE:  2.442589871103974e-05\n",
      "HJBH_validation_MSE:  2.0688856497623123e-05\n",
      "kappa_validation_MSE:  8.935164172208854e-13\n",
      "/project/lhansen/macrofinance/heterogenous_agents_with_frictions_NN/output/neural_net/lower_triangular/nW_180_nZ_30_nV_30_wMin_0010_wMax_0990/chiUnderline_0200_a_e_0092_a_h_0000_gamma_e_4000_gamma_h_8000_rho_e_1000_rho_h_1000_delta_e_0011_delta_h_0010_lambda_d_0000_nu_0100/seed_256_n_layers_2_units_16_points_size_10_iter_num_5_penalization_10000/\n",
      "HJBE_validation_MSE:  4.668181055306986e-06\n",
      "HJBH_validation_MSE:  1.8077872093094835e-05\n",
      "kappa_validation_MSE:  4.3630169142199285e-14\n",
      "/project/lhansen/macrofinance/heterogenous_agents_with_frictions_NN/output/neural_net/upper_triangular/nW_180_nZ_30_nV_30_wMin_0010_wMax_0990/chiUnderline_1000_a_e_0092_a_h_0000_gamma_e_4000_gamma_h_8000_rho_e_1000_rho_h_1000_delta_e_0011_delta_h_0010_lambda_d_0000_nu_0100/seed_256_n_layers_2_units_16_points_size_10_iter_num_5_penalization_10000/\n",
      "HJBE_validation_MSE:  2.442589871103974e-05\n",
      "HJBH_validation_MSE:  2.0688856497623123e-05\n",
      "kappa_validation_MSE:  8.935164172208854e-13\n",
      "/project/lhansen/macrofinance/heterogenous_agents_with_frictions_NN/output/neural_net/lower_triangular/nW_180_nZ_30_nV_30_wMin_0010_wMax_0990/chiUnderline_0000_a_e_0092_a_h_0000_gamma_e_4000_gamma_h_8000_rho_e_1000_rho_h_1000_delta_e_0011_delta_h_0010_lambda_d_0000_nu_0100/seed_256_n_layers_2_units_16_points_size_10_iter_num_5_penalization_10000/\n",
      "HJBE_validation_MSE:  4.045982553789255e-06\n",
      "HJBH_validation_MSE:  1.7944833429834453e-05\n",
      "kappa_validation_MSE:  2.332471416368557e-15\n",
      "/project/lhansen/macrofinance/heterogenous_agents_with_frictions_NN/output/neural_net/upper_triangular/nW_180_nZ_30_nV_30_wMin_0010_wMax_0990/chiUnderline_0000_a_e_0092_a_h_0000_gamma_e_4000_gamma_h_8000_rho_e_1000_rho_h_1000_delta_e_0011_delta_h_0010_lambda_d_0000_nu_0100/seed_256_n_layers_2_units_16_points_size_10_iter_num_5_penalization_10000/\n",
      "HJBE_validation_MSE:  3.956129944457261e-06\n",
      "HJBH_validation_MSE:  1.779152819901889e-05\n",
      "kappa_validation_MSE:  2.479382140281823e-15\n",
      "/project/lhansen/macrofinance/heterogenous_agents_with_frictions_NN/output/neural_net/lower_triangular/nW_180_nZ_30_nV_30_wMin_0010_wMax_0990/chiUnderline_1000_a_e_0092_a_h_0000_gamma_e_3000_gamma_h_8000_rho_e_1000_rho_h_1000_delta_e_0011_delta_h_0010_lambda_d_0000_nu_0100/seed_256_n_layers_2_units_16_points_size_10_iter_num_5_penalization_10000/\n",
      "HJBE_validation_MSE:  1.7328943065029806e-05\n",
      "HJBH_validation_MSE:  1.93047558665357e-05\n",
      "kappa_validation_MSE:  9.651939048713697e-14\n",
      "/project/lhansen/macrofinance/heterogenous_agents_with_frictions_NN/output/neural_net/lower_triangular/nW_180_nZ_30_nV_30_wMin_0010_wMax_0990/chiUnderline_1000_a_e_0092_a_h_0000_gamma_e_5000_gamma_h_8000_rho_e_1000_rho_h_1000_delta_e_0011_delta_h_0010_lambda_d_0000_nu_0100/seed_256_n_layers_2_units_16_points_size_10_iter_num_5_penalization_10000/\n",
      "HJBE_validation_MSE:  3.801895810060817e-05\n",
      "HJBH_validation_MSE:  2.2343233321416298e-05\n",
      "kappa_validation_MSE:  7.25688331893683e-13\n",
      "/project/lhansen/macrofinance/heterogenous_agents_with_frictions_NN/output/neural_net/lower_triangular/nW_180_nZ_30_nV_30_wMin_0010_wMax_0990/chiUnderline_0200_a_e_0092_a_h_0000_gamma_e_3000_gamma_h_8000_rho_e_1000_rho_h_1000_delta_e_0011_delta_h_0010_lambda_d_0000_nu_0100/seed_256_n_layers_2_units_16_points_size_10_iter_num_5_penalization_10000/\n",
      "HJBE_validation_MSE:  2.339352053598828e-06\n",
      "HJBH_validation_MSE:  1.7186523842012798e-05\n",
      "kappa_validation_MSE:  3.6553178576296296e-14\n",
      "/project/lhansen/macrofinance/heterogenous_agents_with_frictions_NN/output/neural_net/lower_triangular/nW_180_nZ_30_nV_30_wMin_0010_wMax_0990/chiUnderline_0200_a_e_0092_a_h_0000_gamma_e_5000_gamma_h_8000_rho_e_1000_rho_h_1000_delta_e_0011_delta_h_0010_lambda_d_0000_nu_0100/seed_256_n_layers_2_units_16_points_size_10_iter_num_5_penalization_10000/\n",
      "HJBE_validation_MSE:  7.4977812048041684e-06\n",
      "HJBH_validation_MSE:  1.867895349626092e-05\n",
      "kappa_validation_MSE:  7.133814694166307e-15\n",
      "/project/lhansen/macrofinance/heterogenous_agents_with_frictions_NN/output/neural_net/lower_triangular/nW_180_nZ_30_nV_30_wMin_0010_wMax_0990/chiUnderline_0000_a_e_0092_a_h_0000_gamma_e_3000_gamma_h_8000_rho_e_1000_rho_h_1000_delta_e_0011_delta_h_0010_lambda_d_0000_nu_0100/seed_256_n_layers_2_units_16_points_size_10_iter_num_5_penalization_10000/\n",
      "HJBE_validation_MSE:  1.6628851695456598e-06\n",
      "HJBH_validation_MSE:  1.6962885033206445e-05\n",
      "kappa_validation_MSE:  3.306806073073324e-15\n",
      "/project/lhansen/macrofinance/heterogenous_agents_with_frictions_NN/output/neural_net/lower_triangular/nW_180_nZ_30_nV_30_wMin_0010_wMax_0990/chiUnderline_0000_a_e_0092_a_h_0000_gamma_e_5000_gamma_h_8000_rho_e_1000_rho_h_1000_delta_e_0011_delta_h_0010_lambda_d_0000_nu_0100/seed_256_n_layers_2_units_16_points_size_10_iter_num_5_penalization_10000/\n",
      "HJBE_validation_MSE:  6.963074967346664e-06\n",
      "HJBH_validation_MSE:  1.8486076042228645e-05\n",
      "kappa_validation_MSE:  3.298654830385112e-15\n"
     ]
    }
   ],
   "source": [
    "modelRF_lower = return_solution(shock_expo = 'lower_triangular', seed = 256, chiUnderline = 1.0, a_e = 0.0922, a_h = 0.0, gamma_e = 4.0, gamma_h = 8.0, psi_e = 1.0, psi_h = 1.0, delta_e = 0.0115, delta_h = 0.01, lambda_d = 0.0, nu = 0.1, n_layers = 2, units = 16, iter_num = 5, points_size = 10, penalization = 10000, action_name = 'neural_net')\n",
    "modelRF_upper = return_solution(shock_expo = 'upper_triangular', seed = 256, chiUnderline = 1.0, a_e = 0.0922, a_h = 0.0, gamma_e = 4.0, gamma_h = 8.0, psi_e = 1.0, psi_h = 1.0, delta_e = 0.0115, delta_h = 0.01, lambda_d = 0.0, nu = 0.1, n_layers = 2, units = 16, iter_num = 5, points_size = 10, penalization = 10000, action_name = 'neural_net')\n",
    "modelSG_lower = return_solution(shock_expo = 'lower_triangular', seed = 256, chiUnderline = 0.2, a_e = 0.0922, a_h = 0.0, gamma_e = 4.0, gamma_h = 8.0, psi_e = 1.0, psi_h = 1.0, delta_e = 0.0115, delta_h = 0.01, lambda_d = 0.0, nu = 0.1, n_layers = 2, units = 16, iter_num = 5, points_size = 10, penalization = 10000, action_name = 'neural_net')\n",
    "modelSG_upper = return_solution(shock_expo = 'upper_triangular', seed = 256, chiUnderline = 1.0, a_e = 0.0922, a_h = 0.0, gamma_e = 4.0, gamma_h = 8.0, psi_e = 1.0, psi_h = 1.0, delta_e = 0.0115, delta_h = 0.01, lambda_d = 0.0, nu = 0.1, n_layers = 2, units = 16, iter_num = 5, points_size = 10, penalization = 10000, action_name = 'neural_net')\n",
    "modelPR_lower = return_solution(shock_expo = 'lower_triangular', seed = 256, chiUnderline = 0.00001, a_e = 0.0922, a_h = 0.0, gamma_e = 4.0, gamma_h = 8.0, psi_e = 1.0, psi_h = 1.0, delta_e = 0.0115, delta_h = 0.01, lambda_d = 0.0, nu = 0.1, n_layers = 2, units = 16, iter_num = 5, points_size = 10, penalization = 10000, action_name = 'neural_net')\n",
    "modelPR_upper = return_solution(shock_expo = 'upper_triangular', seed = 256, chiUnderline = 0.00001, a_e = 0.0922, a_h = 0.0, gamma_e = 4.0, gamma_h = 8.0, psi_e = 1.0, psi_h = 1.0, delta_e = 0.0115, delta_h = 0.01, lambda_d = 0.0, nu = 0.1, n_layers = 2, units = 16, iter_num = 5, points_size = 10, penalization = 10000, action_name = 'neural_net')\n",
    "\n",
    "modelRF_lower_gammae_3 = return_solution(shock_expo = 'lower_triangular',seed = 256, chiUnderline = 1.0, a_e = 0.0922, a_h = 0.0, gamma_e = 3.0, gamma_h = 8.0, psi_e = 1.0, psi_h = 1.0, delta_e = 0.0115, delta_h = 0.01, lambda_d = 0.0, nu = 0.1, n_layers = 2, units = 16, iter_num = 5, points_size = 10, penalization = 10000, action_name = 'neural_net')\n",
    "modelRF_lower_gammae_5 = return_solution(shock_expo = 'lower_triangular',seed = 256, chiUnderline = 1.0, a_e = 0.0922, a_h = 0.0, gamma_e = 5.0, gamma_h = 8.0, psi_e = 1.0, psi_h = 1.0, delta_e = 0.0115, delta_h = 0.01, lambda_d = 0.0, nu = 0.1, n_layers = 2, units = 16, iter_num = 5, points_size = 10, penalization = 10000, action_name = 'neural_net')\n",
    "\n",
    "modelSG_lower_gammae_3 = return_solution(shock_expo = 'lower_triangular',seed = 256, chiUnderline = 0.2, a_e = 0.0922, a_h = 0.0, gamma_e = 3.0, gamma_h = 8.0, psi_e = 1.0, psi_h = 1.0, delta_e = 0.0115, delta_h = 0.01, lambda_d = 0.0, nu = 0.1, n_layers = 2, units = 16, iter_num = 5, points_size = 10, penalization = 10000, action_name = 'neural_net')\n",
    "modelSG_lower_gammae_5 = return_solution(shock_expo = 'lower_triangular',seed = 256, chiUnderline = 0.2, a_e = 0.0922, a_h = 0.0, gamma_e = 5.0, gamma_h = 8.0, psi_e = 1.0, psi_h = 1.0, delta_e = 0.0115, delta_h = 0.01, lambda_d = 0.0, nu = 0.1, n_layers = 2, units = 16, iter_num = 5, points_size = 10, penalization = 10000, action_name = 'neural_net')\n",
    "\n",
    "modelPR_lower_gammae_3 = return_solution(shock_expo = 'lower_triangular',seed = 256, chiUnderline = 0.00001, a_e = 0.0922, a_h = 0.0, gamma_e = 3.0, gamma_h = 8.0, psi_e = 1.0, psi_h = 1.0, delta_e = 0.0115, delta_h = 0.01, lambda_d = 0.0, nu = 0.1, n_layers = 2, units = 16, iter_num = 5, points_size = 10, penalization = 10000, action_name = 'neural_net')\n",
    "modelPR_lower_gammae_5 = return_solution(shock_expo = 'lower_triangular',seed = 256, chiUnderline = 0.00001, a_e = 0.0922, a_h = 0.0, gamma_e = 5.0, gamma_h = 8.0, psi_e = 1.0, psi_h = 1.0, delta_e = 0.0115, delta_h = 0.01, lambda_d = 0.0, nu = 0.1, n_layers = 2, units = 16, iter_num = 5, points_size = 10, penalization = 10000, action_name = 'neural_net')\n"
   ]
  },
  {
   "cell_type": "code",
   "execution_count": 130,
   "metadata": {},
   "outputs": [],
   "source": [
    "def read_npy_drift_term(filename, statespace_shape, outputdir):\n",
    "    \"\"\"\n",
    "    Load drift term from .npy file, return reshaped numpy array with the same shape as the state space grid.\n",
    "\n",
    "    Parameters:\n",
    "    filename: str\n",
    "        The name of the .npy file to be loaded.\n",
    "    statespace_shape: list of int\n",
    "        The shape of the state space grid.\n",
    "    \n",
    "    Returns:\n",
    "    numpy array\n",
    "        The drift term as a reshaped numpy array with the same shape as the state space grid.\n",
    "    \"\"\"\n",
    "    data = np.load(outputdir + filename + '.npy')\n",
    "    return data.reshape(statespace_shape, order='F')\n",
    "\n",
    "def read_npy_state(filename, outputdir):\n",
    "    \"\"\"\n",
    "    Load state variable from .npy file, return unique grid points as flattened numpy array.\n",
    "\n",
    "    Parameters:\n",
    "    filename: str\n",
    "        The name of the .npy file to be loaded.\n",
    "\n",
    "    Returns:\n",
    "    numpy array\n",
    "        Unique grid points as flattened numpy array.\n",
    "    \"\"\"\n",
    "    data = np.load(outputdir + filename + '.npy')\n",
    "    return np.unique(data)\n",
    "    \n",
    "def marginal_quantile_func_factory(dent, statespace, statename):\n",
    "    \"\"\"\n",
    "    Load stationary density from .npy file, return the marginal quantile function for each state variable.\n",
    "\n",
    "    Parameters:\n",
    "    dent: numpy array\n",
    "        The stationary density as a numpy array, with the shape of the state space grid.\n",
    "    statespace: list of numpy arrays\n",
    "        List of state variables in numpy arrays for each state dimension. Grid points should be unique and sorted in ascending order.\n",
    "    statename: list of str\n",
    "        List of state variable names.\n",
    "    \n",
    "    Returns:\n",
    "    dict\n",
    "        The marginal quantile function for each state variable.\n",
    "    \"\"\"\n",
    "    inverseCDFs = {}\n",
    "    \n",
    "    nRange   = list(range(len(statespace)))\n",
    "    for i, state in enumerate(statespace):\n",
    "        axes     = list(filter(lambda x: x != i,nRange))\n",
    "        condDent = dent.sum(axis = tuple(axes))\n",
    "        cumden   = np.cumsum(condDent.copy())\n",
    "        cdf      = interpolate.interp1d(cumden, state, fill_value= (state.min(), state.max()), bounds_error = True)\n",
    "        inverseCDFs[statename[i]] = cdf\n",
    "        \n",
    "    return inverseCDFs"
   ]
  },
  {
   "cell_type": "code",
   "execution_count": 124,
   "metadata": {},
   "outputs": [],
   "source": [
    "state = statespace[0]"
   ]
  },
  {
   "cell_type": "code",
   "execution_count": 154,
   "metadata": {},
   "outputs": [
    {
     "data": {
      "text/plain": [
       "array([0.01      , 0.01547486, 0.02094972, 0.02642458, 0.03189944, 0.0373743 , 0.04284916, 0.04832402, 0.05379888, 0.05927374, 0.0647486 , 0.07022346, 0.07569832, 0.08117318, 0.08664804, 0.09212291,\n",
       "       0.09759777, 0.10307263, 0.10854749, 0.11402235, 0.11949721, 0.12497207, 0.13044693, 0.13592179, 0.14139665, 0.14687151, 0.15234637, 0.15782123, 0.16329609, 0.16877095, 0.17424581, 0.17972067,\n",
       "       0.18519553, 0.19067039, 0.19614525, 0.20162011, 0.20709497, 0.21256983, 0.21804469, 0.22351955, 0.22899441, 0.23446927, 0.23994413, 0.24541899, 0.25089385, 0.25636872, 0.26184358, 0.26731844,\n",
       "       0.2727933 , 0.27826816, 0.28374302, 0.28921788, 0.29469274, 0.3001676 , 0.30564246, 0.31111732, 0.31659218, 0.32206704, 0.3275419 , 0.33301676, 0.33849162, 0.34396648, 0.34944134, 0.3549162 ,\n",
       "       0.36039106, 0.36586592, 0.37134078, 0.37681564, 0.3822905 , 0.38776536, 0.39324022, 0.39871508, 0.40418994, 0.4096648 , 0.41513966, 0.42061453, 0.42608939, 0.43156425, 0.43703911, 0.44251397,\n",
       "       0.44798883, 0.45346369, 0.45893855, 0.46441341, 0.46988827, 0.47536313, 0.48083799, 0.48631285, 0.49178771, 0.49726257, 0.50273743, 0.50821229, 0.51368715, 0.51916201, 0.52463687, 0.53011173,\n",
       "       0.53558659, 0.54106145, 0.54653631, 0.55201117, 0.55748603, 0.56296089, 0.56843575, 0.57391061, 0.57938547, 0.58486034, 0.5903352 , 0.59581006, 0.60128492, 0.60675978, 0.61223464, 0.6177095 ,\n",
       "       0.62318436, 0.62865922, 0.63413408, 0.63960894, 0.6450838 , 0.65055866, 0.65603352, 0.66150838, 0.66698324, 0.6724581 , 0.67793296, 0.68340782, 0.68888268, 0.69435754, 0.6998324 , 0.70530726,\n",
       "       0.71078212, 0.71625698, 0.72173184, 0.7272067 , 0.73268156, 0.73815642, 0.74363128, 0.74910615, 0.75458101, 0.76005587, 0.76553073, 0.77100559, 0.77648045, 0.78195531, 0.78743017, 0.79290503,\n",
       "       0.79837989, 0.80385475, 0.80932961, 0.81480447, 0.82027933, 0.82575419, 0.83122905, 0.83670391, 0.84217877, 0.84765363, 0.85312849, 0.85860335, 0.86407821, 0.86955307, 0.87502793, 0.88050279,\n",
       "       0.88597765, 0.89145251, 0.89692737, 0.90240223, 0.90787709, 0.91335196, 0.91882682, 0.92430168, 0.92977654, 0.9352514 , 0.94072626, 0.94620112, 0.95167598, 0.95715084, 0.9626257 , 0.96810056,\n",
       "       0.97357542, 0.97905028, 0.98452514, 0.99      ])"
      ]
     },
     "execution_count": 154,
     "metadata": {},
     "output_type": "execute_result"
    }
   ],
   "source": [
    "state[]"
   ]
  },
  {
   "cell_type": "code",
   "execution_count": 153,
   "metadata": {},
   "outputs": [
    {
     "data": {
      "text/plain": [
       "array([0.        , 0.        , 0.00000001, 0.00000003, 0.00000005, 0.00000009, 0.00000015, 0.00000023, 0.00000035, 0.00000052, 0.00000074, 0.00000105, 0.00000147, 0.00000202, 0.00000276, 0.00000373,\n",
       "       0.000005  , 0.00000667, 0.00000883, 0.00001163, 0.00001523, 0.00001985, 0.00002573, 0.00003319, 0.00004263, 0.00005452, 0.00006942, 0.00008803, 0.00011119, 0.00013988, 0.0001753 , 0.00021889,\n",
       "       0.00027231, 0.00033757, 0.00041701, 0.00051339, 0.00062992, 0.00077034, 0.00093899, 0.0011409 , 0.00138184, 0.00166845, 0.0020081 , 0.00240935, 0.00288183, 0.00343643, 0.00408535, 0.00484223,\n",
       "       0.00572224, 0.0067422 , 0.00792065, 0.00927797, 0.01083646, 0.01262045, 0.01465499, 0.01696799, 0.01958934, 0.02255077, 0.02588585, 0.02962984, 0.03381961, 0.03849337, 0.04369056, 0.04945155,\n",
       "       0.05581529, 0.0628204 , 0.07050682, 0.07891354, 0.08807816, 0.09803632, 0.10882121, 0.12046293, 0.13298798, 0.14641786, 0.16076283, 0.17603372, 0.19223504, 0.20936454, 0.22741275, 0.24636269,\n",
       "       0.26618956, 0.2868605 , 0.30833083, 0.33054492, 0.35344523, 0.37696643, 0.40103583, 0.42557392, 0.4504951 , 0.47570841, 0.50111677, 0.52661372, 0.55209838, 0.57746891, 0.60262349, 0.62746151,\n",
       "       0.65188485, 0.67579898, 0.69911179, 0.72173544, 0.74359386, 0.76461887, 0.78475075, 0.80393881, 0.82214178, 0.83932793, 0.85547263, 0.87056387, 0.88460009, 0.89758881, 0.90954611, 0.9204959 ,\n",
       "       0.93046914, 0.93950216, 0.9476373 , 0.95492216, 0.96140781, 0.96714773, 0.97219693, 0.976611  , 0.98044506, 0.98375355, 0.98658963, 0.98900431, 0.99104595, 0.99275991, 0.99418827, 0.9953696 ,\n",
       "       0.99633908, 0.99712845, 0.99776596, 0.99827655, 0.99868197, 0.99900105, 0.99924986, 0.99944207, 0.99958911, 0.99970049, 0.99978398, 0.9998459 , 0.99989132, 0.99992425, 0.99994785, 0.99996455,\n",
       "       0.99997622, 0.99998426, 0.99998974, 0.99999341, 0.99999583, 0.9999974 , 0.99999841, 0.99999905, 0.99999944, 0.99999967, 0.99999982, 0.9999999 , 0.99999994, 0.99999997, 0.99999998, 0.99999999,\n",
       "       1.        , 1.        , 1.        , 1.        , 1.        , 1.        , 1.        , 1.        , 1.        , 1.        , 1.        , 1.        , 1.        , 1.        , 1.        , 1.        ,\n",
       "       1.        , 1.        , 1.        , 1.        ])"
      ]
     },
     "execution_count": 153,
     "metadata": {},
     "output_type": "execute_result"
    }
   ],
   "source": [
    "cumden[]"
   ]
  },
  {
   "cell_type": "code",
   "execution_count": 152,
   "metadata": {},
   "outputs": [
    {
     "data": {
      "text/plain": [
       "array(0.29175432)"
      ]
     },
     "execution_count": 152,
     "metadata": {},
     "output_type": "execute_result"
    }
   ],
   "source": [
    "cdf(0.01)"
   ]
  },
  {
   "cell_type": "code",
   "execution_count": 142,
   "metadata": {},
   "outputs": [
    {
     "data": {
      "text/plain": [
       "array([0.        , 0.        , 0.00000001, 0.00000003, 0.00000005, 0.00000009, 0.00000015, 0.00000023, 0.00000035, 0.00000052, 0.00000074, 0.00000105, 0.00000147, 0.00000202, 0.00000276, 0.00000373,\n",
       "       0.000005  , 0.00000667, 0.00000883, 0.00001163, 0.00001523, 0.00001985, 0.00002573, 0.00003319, 0.00004263, 0.00005452, 0.00006942, 0.00008803, 0.00011119, 0.00013988, 0.0001753 , 0.00021889,\n",
       "       0.00027231, 0.00033757, 0.00041701, 0.00051339, 0.00062992, 0.00077034, 0.00093899, 0.0011409 , 0.00138184, 0.00166845, 0.0020081 , 0.00240935, 0.00288183, 0.00343643, 0.00408535, 0.00484223,\n",
       "       0.00572224, 0.0067422 , 0.00792065, 0.00927797, 0.01083646, 0.01262045, 0.01465499, 0.01696799, 0.01958934, 0.02255077, 0.02588585, 0.02962984, 0.03381961, 0.03849337, 0.04369056, 0.04945155,\n",
       "       0.05581529, 0.0628204 , 0.07050682, 0.07891354, 0.08807816, 0.09803632, 0.10882121, 0.12046293, 0.13298798, 0.14641786, 0.16076283, 0.17603372, 0.19223504, 0.20936454, 0.22741275, 0.24636269,\n",
       "       0.26618956, 0.2868605 , 0.30833083, 0.33054492, 0.35344523, 0.37696643, 0.40103583, 0.42557392, 0.4504951 , 0.47570841, 0.50111677, 0.52661372, 0.55209838, 0.57746891, 0.60262349, 0.62746151,\n",
       "       0.65188485, 0.67579898, 0.69911179, 0.72173544, 0.74359386, 0.76461887, 0.78475075, 0.80393881, 0.82214178, 0.83932793, 0.85547263, 0.87056387, 0.88460009, 0.89758881, 0.90954611, 0.9204959 ,\n",
       "       0.93046914, 0.93950216, 0.9476373 , 0.95492216, 0.96140781, 0.96714773, 0.97219693, 0.976611  , 0.98044506, 0.98375355, 0.98658963, 0.98900431, 0.99104595, 0.99275991, 0.99418827, 0.9953696 ,\n",
       "       0.99633908, 0.99712845, 0.99776596, 0.99827655, 0.99868197, 0.99900105, 0.99924986, 0.99944207, 0.99958911, 0.99970049, 0.99978398, 0.9998459 , 0.99989132, 0.99992425, 0.99994785, 0.99996455,\n",
       "       0.99997622, 0.99998426, 0.99998974, 0.99999341, 0.99999583, 0.9999974 , 0.99999841, 0.99999905, 0.99999944, 0.99999967, 0.99999982, 0.9999999 , 0.99999994, 0.99999997, 0.99999998, 0.99999999,\n",
       "       1.        , 1.        , 1.        , 1.        , 1.        , 1.        , 1.        , 1.        , 1.        , 1.        , 1.        , 1.        , 1.        , 1.        , 1.        , 1.        ,\n",
       "       1.        , 1.        , 1.        , 1.        ])"
      ]
     },
     "execution_count": 142,
     "metadata": {},
     "output_type": "execute_result"
    }
   ],
   "source": [
    "cumden"
   ]
  },
  {
   "cell_type": "code",
   "execution_count": 131,
   "metadata": {},
   "outputs": [],
   "source": [
    "dent = modelSG_lower['dent'].reshape(180,30,30, order='F')\n",
    "W = np.array(modelSG_lower['W']).reshape(180,30,30, order='F')[:,0,0]\n",
    "Z = np.array(modelSG_lower['Z']).reshape(180,30,30, order='F')[0,:,0]\n",
    "V = np.array(modelSG_lower['V']).reshape(180,30,30, order='F')[0,0,:]\n",
    "# [W,Z,V] = [modelSG_lower[key] for key in ['W','Z','V']]\n",
    "# statespace = [W['W'], Z['Z'], V['V']]\n",
    "statespace = [W,Z,V]\n",
    "statename = ['W','Z','V']\n",
    "inverse_SG = marginal_quantile_func_factory(dent, statespace, statename)"
   ]
  },
  {
   "cell_type": "code",
   "execution_count": 134,
   "metadata": {},
   "outputs": [
    {
     "data": {
      "text/plain": [
       "array(0.0636328)"
      ]
     },
     "execution_count": 134,
     "metadata": {},
     "output_type": "execute_result"
    }
   ],
   "source": [
    "inverse_SG['W'](0.012)"
   ]
  },
  {
   "cell_type": "code",
   "execution_count": 138,
   "metadata": {},
   "outputs": [
    {
     "data": {
      "text/plain": [
       "array([[[ 0.,  0.,  0., ...,  0.,  0., -0.],\n",
       "        [ 0.,  0.,  0., ...,  0.,  0., -0.],\n",
       "        [ 0.,  0.,  0., ...,  0.,  0., -0.],\n",
       "        ...,\n",
       "        [ 0.,  0.,  0., ...,  0.,  0., -0.],\n",
       "        [ 0.,  0.,  0., ...,  0.,  0., -0.],\n",
       "        [-0., -0., -0., ..., -0., -0., -0.]],\n",
       "\n",
       "       [[ 0.,  0.,  0., ...,  0.,  0., -0.],\n",
       "        [ 0.,  0.,  0., ...,  0.,  0.,  0.],\n",
       "        [ 0.,  0.,  0., ...,  0.,  0.,  0.],\n",
       "        ...,\n",
       "        [ 0.,  0.,  0., ...,  0.,  0.,  0.],\n",
       "        [ 0.,  0.,  0., ...,  0.,  0.,  0.],\n",
       "        [-0.,  0.,  0., ...,  0.,  0., -0.]],\n",
       "\n",
       "       [[-0.,  0.,  0., ...,  0.,  0., -0.],\n",
       "        [ 0.,  0.,  0., ...,  0.,  0.,  0.],\n",
       "        [ 0.,  0.,  0., ...,  0.,  0.,  0.],\n",
       "        ...,\n",
       "        [ 0.,  0.,  0., ...,  0.,  0.,  0.],\n",
       "        [ 0.,  0.,  0., ...,  0.,  0.,  0.],\n",
       "        [-0.,  0.,  0., ...,  0.,  0., -0.]],\n",
       "\n",
       "       ...,\n",
       "\n",
       "       [[-0.,  0.,  0., ...,  0.,  0., -0.],\n",
       "        [ 0.,  0.,  0., ...,  0.,  0.,  0.],\n",
       "        [ 0.,  0.,  0., ...,  0.,  0.,  0.],\n",
       "        ...,\n",
       "        [ 0.,  0.,  0., ...,  0.,  0.,  0.],\n",
       "        [ 0.,  0.,  0., ...,  0.,  0.,  0.],\n",
       "        [-0.,  0.,  0., ...,  0.,  0., -0.]],\n",
       "\n",
       "       [[-0.,  0.,  0., ...,  0.,  0., -0.],\n",
       "        [ 0.,  0.,  0., ...,  0.,  0.,  0.],\n",
       "        [ 0.,  0.,  0., ...,  0.,  0.,  0.],\n",
       "        ...,\n",
       "        [ 0.,  0.,  0., ...,  0.,  0.,  0.],\n",
       "        [ 0.,  0.,  0., ...,  0.,  0.,  0.],\n",
       "        [-0.,  0.,  0., ...,  0.,  0., -0.]],\n",
       "\n",
       "       [[-0., -0., -0., ..., -0., -0., -0.],\n",
       "        [-0., -0., -0., ..., -0., -0., -0.],\n",
       "        [-0., -0., -0., ..., -0., -0., -0.],\n",
       "        ...,\n",
       "        [-0.,  0.,  0., ...,  0.,  0., -0.],\n",
       "        [-0.,  0.,  0., ...,  0.,  0., -0.],\n",
       "        [-0.,  0.,  0., ...,  0.,  0., -0.]]])"
      ]
     },
     "execution_count": 138,
     "metadata": {},
     "output_type": "execute_result"
    }
   ],
   "source": []
  },
  {
   "cell_type": "code",
   "execution_count": 137,
   "metadata": {},
   "outputs": [],
   "source": [
    "dent = modelRF_lower['dent'].reshape(180,30,30, order='F')\n",
    "W = np.array(modelRF_lower['W']).reshape(180,30,30, order='F')[:,0,0]\n",
    "Z = np.array(modelRF_lower['Z']).reshape(180,30,30, order='F')[0,:,0]\n",
    "V = np.array(modelRF_lower['V']).reshape(180,30,30, order='F')[0,0,:]\n",
    "# [W,Z,V] = [modelSG_lower[key] for key in ['W','Z','V']]\n",
    "# statespace = [W['W'], Z['Z'], V['V']]\n",
    "statespace = [W,Z,V]\n",
    "statename = ['W','Z','V']\n",
    "inverse_RF = marginal_quantile_func_factory(dent, statespace, statename)"
   ]
  },
  {
   "cell_type": "code",
   "execution_count": 136,
   "metadata": {},
   "outputs": [
    {
     "data": {
      "text/plain": [
       "array(0.29175432)"
      ]
     },
     "execution_count": 136,
     "metadata": {},
     "output_type": "execute_result"
    }
   ],
   "source": [
    "inverse_RF['W'](0.01)"
   ]
  }
 ],
 "metadata": {
  "kernelspec": {
   "display_name": "Python 3",
   "language": "python",
   "name": "python3"
  },
  "language_info": {
   "codemirror_mode": {
    "name": "ipython",
    "version": 3
   },
   "file_extension": ".py",
   "mimetype": "text/x-python",
   "name": "python",
   "nbconvert_exporter": "python",
   "pygments_lexer": "ipython3",
   "version": "3.9.19"
  }
 },
 "nbformat": 4,
 "nbformat_minor": 2
}
