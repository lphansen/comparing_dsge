{
 "cells": [
  {
   "cell_type": "markdown",
   "metadata": {},
   "source": [
    "# 1 Single Agent Models"
   ]
  },
  {
   "cell_type": "markdown",
   "metadata": {
    "vscode": {
     "languageId": "plaintext"
    }
   },
   "source": [
    "This notebook describes the code used to solve the models from Section 4 of the paper. \n",
    "\n",
    "## 1.1 Baseline Model\n",
    "First consider the environment described in Section 4.4. That is, we first abstract away from model ambiguity and restrict to a single capital stock. Suppose that the logarithm of continuation utility $V$ evolves as:\n",
    "\n",
    "$$\n",
    "d {\\widehat V}_t = {\\hat \\mu}_{v,t} dt + \\sigma_{v,t} \\cdot dB_t\n",
    "$$\n",
    "\n",
    "where $ {\\hat \\mu}_{v,t}$ is the local mean, $ |\\sigma_{v,t}|^2$ is local variance and $dB_t$ is a Brownian increment, such that:\n",
    "\n",
    "$$\n",
    "0  =   \\left({\\frac \\delta {1 - \\rho}} \\right) \\left[ (C_t/V_t)^{1 - \\rho}\n",
    "  - 1  \\right]  + {\\hat \\mu}_{v,t}  +  \\left(\\frac{1 - \\gamma}{ 2 } \\right)  \\vert \\sigma_{v,t} \\vert^2 \n",
    "$$\n",
    "\n",
    "We presume that the stochastic component of technology growth $Z_1$ and aggregate stochastic volatility $Z_2$ are governed by the following processes:\n",
    "\n",
    "$$\n",
    "d Z_{t}^1 =  - \\beta_{1} Z_t^1 dt +  \\sqrt{Z_t^2} \\sigma_1 \\cdot d B_{t} \\\\\n",
    "d Z_t^2 = - \\beta_2 ( Z_t^2 - \\mu_2) dt +  \\sqrt{Z_t^2} \\sigma_2 \\cdot d B_t\n",
    "$$\n",
    "\n",
    "Capital growth is governed by:\n",
    "\n",
    "$$\n",
    "dK_t = K_t\\left[ \\Phi \\left( \\frac{I_t}{K_t} \\right) + \\beta_k Z_t^1 - \\eta_k \\right] dt  + K_t \\sqrt{Z_t^2}  {\\sigma}_k \\cdot dB_t\n",
    "$$\n",
    "\n",
    "Where:\n",
    "\n",
    "$$\n",
    "\\Phi(i) = {\\frac 1 \\phi}  \\log \\left( 1 + \\phi i \\right)\n",
    "$$\n",
    "\n",
    "Output is constrained by:\n",
    "\n",
    "$$\n",
    "C_t + I_t = \\alpha K_t\n",
    "$$\n",
    "\n",
    "From this we can deduce the Hamilton-Jacobi-Bellman (HJB) equation:\n",
    "\n",
    "$$\n",
    "0 =   \\max_{c+i = \\alpha}  \\left\\{ \\left( \\frac{\\delta}{1 - \\rho} \\right) \\left( c^{1-\\rho} \\exp \\left[ (\\rho - 1) \\upsilon \\right] - 1 \\right) + \\Phi(i) + \\beta_k z_1 - \\eta_k - \\frac{1}{2} z_2 |\\sigma_k|^2 \\right. \\\\\n",
    " \\left. + \\mu_z \\cdot \\frac {\\partial \\upsilon}{\\partial z}  +  \\frac {z_2}2  {\\rm trace} \\left\\{ {\\sigma_z}' \\frac {\\partial^2 \\upsilon}{\\partial z \\partial z'} \\sigma_z \\right\\} +  \\frac{(1 - \\gamma) z_2 }{2} \\left\\vert\\sigma_k + {\\sigma_z}' \\frac {\\partial \\upsilon}{\\partial z}   \\right\\vert^2 \\right\\}\n",
    "$$\n",
    "\n",
    "Where $c$ is the consumption-to-capital ratio and $i$ is the investment-to-capital ratio. We solve this HJB using the algorithm described in Supplemental Appendix C.1."
   ]
  },
  {
   "cell_type": "markdown",
   "metadata": {
    "vscode": {
     "languageId": "plaintext"
    }
   },
   "source": [
    "<!-- | **Parameter**  | **Value**                                                         |\n",
    "|----------------|-------------------------------------------------------------------|\n",
    "| $\\eta_k$       | 0.04                                                              |\n",
    "| $\\phi$         | 8                                                                 |\n",
    "| $\\beta_k$      | 0.04                                                              |\n",
    "| $\\beta_1$      | 0.056                                                             |\n",
    "| $\\beta_2$      | 0.194                                                             |\n",
    "| $\\mu_2$        | $6.3 \\times 10^{-6}$                                              |\n",
    "| **Upper triangular**  \n",
    "| $\\sigma_2$ |$\\sqrt{12} \\times [0.92, 0.40, 0]$                              |\n",
    "| **Lower triangular** | $\\sqrt{12} \\times [1, 0, 0]$                                    |\n",
    "| $\\sigma_k$     | $\\sqrt{12} \\times [0.92, 0.40, 0]$                                |\n",
    "| $\\sigma_1$     | $\\sqrt{12} \\times [0, 5.7, 0]$                                    |\n",
    "| **Lower triangular** | $\\sqrt{12} \\times [2.3, 5.2, 0]$                                |\n",
    "| $\\sigma_2$     | $\\sqrt{12} \\times [0, 0, 0.00031]$                                | -->"
   ]
  },
  {
   "cell_type": "markdown",
   "metadata": {
    "vscode": {
     "languageId": "plaintext"
    }
   },
   "source": [
    "## 1.2 Solution Overview\n",
    "\n",
    "The function `main_one_capital` solves the above HJB equation. It uses functions from `utils_onecapital`, which first-time users should not change. `main_onecapital` takes in the following inputs:\n",
    "\n",
    "```{list-table}\n",
    ":header-rows: 1\n",
    "\n",
    "* - Input\n",
    "  - Notation in paper\n",
    "  - Description\n",
    "* - `Delta`\n",
    "  - $\\Delta_t$\n",
    "  - False-transient step-size: lower values (0.01 or 0.001) reduce likelihood of convergence issues\n",
    "* - `gamma`\n",
    "  - $\\gamma$\n",
    "  - Uncertainty aversion\n",
    "* - `delta`\n",
    "  - $\\delta$\n",
    "  - Discount rate\n",
    "* - `rho`\n",
    "  - $\\rho$\n",
    "  - Inverse of IES\n",
    "* - `alpha`\n",
    "  - $\\alpha$\n",
    "  - Productivity\n",
    "```"
   ]
  },
  {
   "cell_type": "markdown",
   "metadata": {},
   "source": [
    "The user can also edit the `main_onecapital` Julia file to change model parameters which are held fixed in the paper, including:\n",
    "\n",
    "```{list-table}\n",
    ":header-rows: 1\n",
    "\n",
    "* - Input\n",
    "  - Notation in paper\n",
    "  - Description\n",
    "* - `cons`\n",
    "  - $c$\n",
    "  - Consumption-output ratio\n",
    "* - `a11`\n",
    "  - $\\beta_1$\n",
    "  - Persistence of $Z_1$\n",
    "* - `a22`\n",
    "  - $\\beta_2$\n",
    "  - Persistence of $Z_2$\n",
    "* - `ymean`\n",
    "  - $\\mu_2$\n",
    "  - Mean of $Z_2$\n",
    "* - `phi`\n",
    "  - $\\phi$\n",
    "  - Adjustment cost\n",
    "* - `sigma_k`\n",
    "  - $\\sigma_k$\n",
    "  - Shock exposure for $dK$\n",
    "* - `sigma_z`\n",
    "  - $\\sigma_1$\n",
    "  - Shock exposure for $dZ_1$\n",
    "* - `sigma_y`\n",
    "  - $\\sigma_2$\n",
    "  - Shock exposure for $dZ_2$\n",
    "```\n",
    "\n",
    "Finally, the following parameters govern the construction of the state space grid and convergence criteria:\n",
    "```{list-table}\n",
    ":header-rows: 1\n",
    "\n",
    "* - Input\n",
    "  - Description\n",
    "* - `zmin`,`zmax`\n",
    "  - Minimum and maximum values of $Z_1$ grid; an insufficiently large grid may cause inaccuracies\n",
    "* - `II`\n",
    "  - Number of $Z_1$ gridpoints\n",
    "* - `ymin`,`ymax`\n",
    "  - Minimum and maximum values of $Z_2$ grid; an insufficiently large grid may cause inaccuracies\n",
    "* - `JJ`\n",
    "  - Number of $Z_2$ gridpoints\n",
    "* - `maxit`\n",
    "  - Maximum number of value function iterations \n",
    "* - `crit`\n",
    "  - The algorithm stops when the difference between $V_t$ and $V_{t+1}$ is less than `crit` for all points on the state-space grid\n",
    "```\n",
    "\n",
    "`main_onecapital` outputs a dictionary that contains the above parameters, as well as the following outputs:\n",
    "```{list-table}\n",
    ":header-rows: 1\n",
    "\n",
    "* - Output\n",
    "  - Notation in paper\n",
    "  - Description\n",
    "* - V\n",
    "  - $V$\n",
    "  - Value function\n",
    "* - `c`\n",
    "  - $\\frac{C}{K}$\n",
    "  - Consumption-capital ratio\n",
    "* - `d`\n",
    "  - $\\frac{I}{K}$\n",
    "  - Investment-capital ratio\n",
    "* - Vz\n",
    "  - $\\frac{\\partial{v}}{\\partial{z_1}}$\n",
    "  - Derivative of $V$ with respect to $Z^1$\n",
    "* - Vy\n",
    "  - $\\frac{\\partial{v}}{\\partial{z_2}}$\n",
    "  - Derivative of $V$ with respect to $Z^2$\n",
    "* - mu_k\n",
    "  - $\\mu_{\\hat{K}}$\n",
    "  - Drift of $\\log{K}$\n",
    "* - g\n",
    "  - \n",
    "  - Stationary density\n",
    "* - [`hk`,`hz`,`hy`]\n",
    "  - $\\sigma_k + \\sigma_z' \\frac{\\partial{v}}{\\partial{z}}$\n",
    "  - Robust control term\n",
    "* - `ymean`\n",
    "  - $\\mu_2$\n",
    "  - Mean of $Z_2$\n",
    "* - `phi`\n",
    "  - $\\phi$\n",
    "  - Adjustment cost\n",
    "* - `sigma_k`\n",
    "  - $\\sigma_k$\n",
    "  - Shock exposure for $dK$\n",
    "* - `sigma_z`\n",
    "  - $\\sigma_1$\n",
    "  - Shock exposure for $dZ_1$\n",
    "* - `sigma_y`\n",
    "  - $\\sigma_2$\n",
    "  - Shock exposure for $dZ_2$"
   ]
  },
  {
   "cell_type": "markdown",
   "metadata": {},
   "source": []
  },
  {
   "cell_type": "markdown",
   "metadata": {},
   "source": [
    "## 1.3 Quick Start\n",
    "We begin by importing required libraries:"
   ]
  },
  {
   "cell_type": "code",
   "execution_count": 1,
   "metadata": {
    "tags": [
     "hide-output"
    ]
   },
   "outputs": [
    {
     "name": "stderr",
     "output_type": "stream",
     "text": [
      "\u001b[32m\u001b[1m  Activating\u001b[22m\u001b[39m project at `/project/lhansen/macrofinance`\n"
     ]
    }
   ],
   "source": [
    "using LinearAlgebra\n",
    "using SparseArrays\n",
    "using Interpolations\n",
    "using SuiteSparse\n",
    "using Plots\n",
    "include(\"src/1/utils_onecapital.jl\")\n",
    "include(\"src/1/main_onecapital.jl\")"
   ]
  },
  {
   "cell_type": "markdown",
   "metadata": {},
   "source": [
    "Next we set parameters, including an `action_name` which determines where the file is saved:"
   ]
  },
  {
   "cell_type": "code",
   "execution_count": 2,
   "metadata": {
    "tags": [
     "hide-output"
    ]
   },
   "outputs": [
    {
     "data": {
      "text/plain": [
       "\"test\""
      ]
     },
     "execution_count": 2,
     "metadata": {},
     "output_type": "execute_result"
    }
   ],
   "source": [
    "alpha = 0.0922\n",
    "delta = 0.01\n",
    "gamma = 1.0\n",
    "Delta = 1.0\n",
    "rho = 1.0\n",
    "action_name = \"test\""
   ]
  },
  {
   "cell_type": "markdown",
   "metadata": {},
   "source": [
    "Now we can run our main function:"
   ]
  },
  {
   "cell_type": "code",
   "execution_count": 3,
   "metadata": {
    "tags": [
     "hide-output"
    ]
   },
   "outputs": [
    {
     "name": "stdout",
     "output_type": "stream",
     "text": [
      "zmax = 5.0, zmin = -5.0, zlength = 201\n",
      "ymax = 2.0e-5, ymin = 5.0e-7, ylength = 201\n"
     ]
    },
    {
     "name": "stdout",
     "output_type": "stream",
     "text": [
      "----------------------------------\n",
      "Iteration = 1\n",
      "Distance = 0.2253588241838127\n",
      "v max = -5.774641175816187\n",
      "v min = "
     ]
    },
    {
     "name": "stdout",
     "output_type": "stream",
     "text": [
      "-6.149840658685116\n",
      "----------------------------------\n"
     ]
    },
    {
     "name": "stdout",
     "output_type": "stream",
     "text": [
      "----------------------------------\n",
      "Iteration = 2\n",
      "Distance = 0.21336164298098925\n",
      "v max = -5.561279532835198\n",
      "v min = -6.28844158588914\n",
      "----------------------------------\n"
     ]
    },
    {
     "name": "stdout",
     "output_type": "stream",
     "text": [
      "----------------------------------\n",
      "Iteration = 3\n",
      "Distance = 0.2020913901009722\n",
      "v max = -5.359188142734226\n",
      "v min = -6.416520157178582\n",
      "----------------------------------\n"
     ]
    },
    {
     "name": "stdout",
     "output_type": "stream",
     "text": [
      "----------------------------------\n",
      "Iteration = 4\n",
      "Distance = 0.19150073759421993\n",
      "v max = -5.167687405140006\n",
      "v min = -6.534747094790304\n",
      "----------------------------------\n"
     ]
    },
    {
     "name": "stdout",
     "output_type": "stream",
     "text": [
      "----------------------------------\n",
      "Iteration = 5\n",
      "Distance = 0.1815472483518974\n",
      "v max = -4.9861401567881085\n",
      "v min = -6.643751090716898\n",
      "----------------------------------\n"
     ]
    },
    {
     "name": "stdout",
     "output_type": "stream",
     "text": [
      "----------------------------------\n",
      "Iteration = 6\n",
      "Distance = 0.17219150143816453\n",
      "v max = -4.813948655349944\n",
      "v min = -6.744121723370125\n",
      "----------------------------------\n"
     ]
    },
    {
     "name": "stdout",
     "output_type": "stream",
     "text": [
      "----------------------------------\n",
      "Iteration = 7\n",
      "Distance = 0.1633965997756075\n",
      "v max = -4.6505520555743365\n",
      "v min = -6.836411926841702\n",
      "----------------------------------\n"
     ]
    },
    {
     "name": "stdout",
     "output_type": "stream",
     "text": [
      "----------------------------------\n",
      "Iteration = 8\n",
      "Distance = 0.15512795340565422\n",
      "v max = -4.495424102168682\n",
      "v min = -6.921140261314288\n",
      "----------------------------------\n"
     ]
    },
    {
     "name": "stdout",
     "output_type": "stream",
     "text": [
      "----------------------------------\n",
      "Iteration = 9\n",
      "Distance = 0.14735312333239836\n",
      "v max = -4.348070978836284\n",
      "v min = -6.998793036482345\n",
      "----------------------------------\n"
     ]
    },
    {
     "name": "stdout",
     "output_type": "stream",
     "text": [
      "----------------------------------\n",
      "Iteration = 10\n",
      "Distance = 0.1400416845395922\n",
      "v max = -4.208029294296692\n",
      "v min = -7.069826303616259\n",
      "----------------------------------\n"
     ]
    },
    {
     "name": "stdout",
     "output_type": "stream",
     "text": [
      "----------------------------------\n",
      "Iteration = 11\n",
      "Distance = 0.13316509964973378\n",
      "v max = -4.074864194646958\n",
      "v min = -7.134667725232818\n",
      "----------------------------------\n"
     ]
    },
    {
     "name": "stdout",
     "output_type": "stream",
     "text": [
      "----------------------------------\n",
      "Iteration = 12\n",
      "Distance = 0.12669660102532898\n",
      "v max = -3.948167593621629\n",
      "v min = -7.193718329897394\n",
      "----------------------------------\n"
     ]
    },
    {
     "name": "stdout",
     "output_type": "stream",
     "text": [
      "----------------------------------\n",
      "Iteration = 13\n",
      "Distance = 0.12061108042061086\n",
      "v max = -3.827556513201018\n",
      "v min = -7.247354159129413\n",
      "----------------------------------\n"
     ]
    },
    {
     "name": "stdout",
     "output_type": "stream",
     "text": [
      "----------------------------------\n",
      "Iteration = 14\n",
      "Distance = 0.11488498560899219\n",
      "v max = -3.712671527592026\n",
      "v min = -7.295927812969371\n",
      "----------------------------------\n"
     ]
    },
    {
     "name": "stdout",
     "output_type": "stream",
     "text": [
      "----------------------------------\n",
      "Iteration = 15\n",
      "Distance = 0.10949622351522592\n",
      "v max = -3.6031753040768\n",
      "v min = -7.339769900381859\n",
      "----------------------------------\n"
     ]
    },
    {
     "name": "stdout",
     "output_type": "stream",
     "text": [
      "----------------------------------\n",
      "Iteration = 16\n",
      "Distance = 0.10442406943040172\n",
      "v max = -3.4987512346463983\n",
      "v min = -7.379190400302026\n",
      "----------------------------------\n"
     ]
    },
    {
     "name": "stdout",
     "output_type": "stream",
     "text": [
      "----------------------------------\n",
      "Iteration = 17\n",
      "Distance = 0.09964908192078292\n",
      "v max = -3.3991021527256153\n",
      "v min = -7.4144799387851545\n",
      "----------------------------------\n"
     ]
    },
    {
     "name": "stdout",
     "output_type": "stream",
     "text": [
      "----------------------------------\n",
      "Iteration = 18\n",
      "Distance = 0.09515302306783768\n",
      "v max = -3.3039491296577777\n",
      "v min = -7.44591098739077\n",
      "----------------------------------\n"
     ]
    },
    {
     "name": "stdout",
     "output_type": "stream",
     "text": [
      "----------------------------------\n",
      "Iteration = 19\n",
      "Distance = 0.09091878370068551\n",
      "v max = -3.213030345957092\n",
      "v min = -7.473738987623915\n",
      "----------------------------------\n"
     ]
    },
    {
     "name": "stdout",
     "output_type": "stream",
     "text": [
      "----------------------------------\n",
      "Iteration = 20\n",
      "Distance = 0.08693031330387813\n",
      "v max = -3.126100032653214\n",
      "v min = -7.498203405965285\n",
      "----------------------------------\n"
     ]
    },
    {
     "name": "stdout",
     "output_type": "stream",
     "text": [
      "----------------------------------\n",
      "Iteration = 21\n",
      "Distance = 0.08317255430379822\n",
      "v max = -3.042927478349416\n",
      "v min = -7.519528723748951\n",
      "----------------------------------\n"
     ]
    },
    {
     "name": "stdout",
     "output_type": "stream",
     "text": [
      "----------------------------------\n",
      "Iteration = 22\n",
      "Distance = 0.0796313804564881\n",
      "v max = -2.9632960978929277\n",
      "v min = -7.53792536588859\n",
      "----------------------------------\n"
     ]
    },
    {
     "name": "stdout",
     "output_type": "stream",
     "text": [
      "----------------------------------\n",
      "Iteration = 23\n",
      "Distance = 0.07629353907716885\n",
      "v max = -2.887002558815759\n",
      "v min = -7.5535905722111645\n",
      "----------------------------------\n"
     ]
    },
    {
     "name": "stdout",
     "output_type": "stream",
     "text": [
      "----------------------------------\n",
      "Iteration = 24\n",
      "Distance = 0.07314659686922065\n",
      "v max = -2.813855961946538\n",
      "v min = -7.566709214928967\n",
      "----------------------------------\n"
     ]
    },
    {
     "name": "stdout",
     "output_type": "stream",
     "text": [
      "----------------------------------\n",
      "Iteration = 25\n",
      "Distance = 0.07017888912550507\n",
      "v max = -2.743677072821033\n",
      "v min = -7.577454565566124\n",
      "----------------------------------\n"
     ]
    },
    {
     "name": "stdout",
     "output_type": "stream",
     "text": [
      "----------------------------------\n",
      "Iteration = 26\n",
      "Distance = 0.06737947209015971\n",
      "v max = -2.6762976007308734\n",
      "v min = -7.585989014454071\n",
      "----------------------------------\n"
     ]
    },
    {
     "name": "stdout",
     "output_type": "stream",
     "text": [
      "----------------------------------\n",
      "Iteration = 27\n",
      "Distance = 0.06473807828212008\n",
      "v max = -2.6115595224487533\n",
      "v min = -7.592464745719907\n",
      "----------------------------------\n"
     ]
    },
    {
     "name": "stdout",
     "output_type": "stream",
     "text": [
      "----------------------------------\n",
      "Iteration = 28\n",
      "Distance = 0.06224507459499318\n",
      "v max = -2.54931444785376\n",
      "v min = -7.597024370513247\n",
      "----------------------------------\n"
     ]
    },
    {
     "name": "stdout",
     "output_type": "stream",
     "text": [
      "----------------------------------\n",
      "Iteration = 29\n",
      "Distance = 0.059891422999243105\n",
      "v max = -2.489423024854517\n",
      "v min = -7.599801521049017\n",
      "----------------------------------\n"
     ]
    },
    {
     "name": "stdout",
     "output_type": "stream",
     "text": [
      "----------------------------------\n",
      "Iteration = 30\n",
      "Distance = 0.05766864368421043\n",
      "v max = -2.4317543811703066\n",
      "v min = -7.600921407885455\n",
      "----------------------------------\n"
     ]
    },
    {
     "name": "stdout",
     "output_type": "stream",
     "text": [
      "----------------------------------\n",
      "Iteration = 31\n",
      "Distance = 0.05556878048748404\n",
      "v max = -2.3761856006828226\n",
      "v min = -7.600501342708155\n",
      "----------------------------------\n"
     ]
    },
    {
     "name": "stdout",
     "output_type": "stream",
     "text": [
      "----------------------------------\n",
      "Iteration = 32\n",
      "Distance = 0.05358436846908354\n",
      "v max = -2.322601232213739\n",
      "v min = -7.598651228751441\n",
      "----------------------------------\n"
     ]
    },
    {
     "name": "stdout",
     "output_type": "stream",
     "text": [
      "----------------------------------\n",
      "Iteration = 33\n",
      "Distance = 0.05170840349672812\n",
      "v max = -2.270892828717011\n",
      "v min = -7.595474020857287\n",
      "----------------------------------\n"
     ]
    },
    {
     "name": "stdout",
     "output_type": "stream",
     "text": [
      "----------------------------------\n",
      "Iteration = 34\n",
      "Distance = 0.04993431371706736\n",
      "v max = -2.2209585149999436\n",
      "v min = -7.591066157048856\n",
      "----------------------------------\n"
     ]
    },
    {
     "name": "stdout",
     "output_type": "stream",
     "text": [
      "----------------------------------\n",
      "Iteration = 35\n",
      "Distance = 0.048255932795452594\n",
      "v max = -2.172702582204491\n",
      "v min = -7.5855179633796945\n",
      "----------------------------------\n"
     ]
    },
    {
     "name": "stdout",
     "output_type": "stream",
     "text": [
      "----------------------------------\n",
      "Iteration = 36\n",
      "Distance = 0.04666747481441469\n",
      "v max = -2.1260351073900763\n",
      "v min = -7.578914033711891\n",
      "----------------------------------\n"
     ]
    },
    {
     "name": "stdout",
     "output_type": "stream",
     "text": [
      "----------------------------------\n",
      "Iteration = 37\n",
      "Distance = 0.04516351072766778\n",
      "v max = -2.0808715966624085\n",
      "v min = -7.571333585973548\n",
      "----------------------------------\n"
     ]
    },
    {
     "name": "stdout",
     "output_type": "stream",
     "text": [
      "----------------------------------\n",
      "Iteration = 38\n",
      "Distance = 0.043738946273102375\n",
      "v max = -2.037132650389306\n",
      "v min = -7.562850796350842\n",
      "----------------------------------\n"
     ]
    },
    {
     "name": "stdout",
     "output_type": "stream",
     "text": [
      "----------------------------------\n",
      "Iteration = 39\n",
      "Distance = 0.042389001254186987\n",
      "v max = -1.9947436491351191\n",
      "v min = -7.553535112779956\n",
      "----------------------------------\n"
     ]
    },
    {
     "name": "stdout",
     "output_type": "stream",
     "text": [
      "----------------------------------\n",
      "Iteration = 40\n",
      "Distance = 0.041109190104831494\n",
      "v max = -1.9536344590302877\n",
      "v min = -7.543451549019663\n",
      "----------------------------------\n"
     ]
    },
    {
     "name": "stdout",
     "output_type": "stream",
     "text": [
      "----------------------------------\n",
      "Iteration = 41\n",
      "Distance = 0.03989530365810845\n",
      "v max = -1.9137391553721792\n",
      "v min = -7.53266096050653\n",
      "----------------------------------\n"
     ]
    },
    {
     "name": "stdout",
     "output_type": "stream",
     "text": [
      "----------------------------------\n",
      "Iteration = 42\n",
      "Distance = 0.038743392044169545\n",
      "v max = -1.8749957633280097\n",
      "v min = -7.521220303119955\n",
      "----------------------------------\n"
     ]
    },
    {
     "name": "stdout",
     "output_type": "stream",
     "text": [
      "----------------------------------\n",
      "Iteration = 43\n",
      "Distance = 0.03764974864731441\n",
      "v max = -1.8373460146806952\n",
      "v min = -7.5091828759150285\n",
      "----------------------------------\n"
     ]
    },
    {
     "name": "stdout",
     "output_type": "stream",
     "text": [
      "----------------------------------\n",
      "Iteration = 44\n",
      "Distance = 0.036610895056615744\n",
      "v max = -1.8007351196240795\n",
      "v min = -7.496598548815609\n",
      "----------------------------------\n"
     ]
    },
    {
     "name": "stdout",
     "output_type": "stream",
     "text": [
      "----------------------------------\n",
      "Iteration = 45\n",
      "Distance = 0.03562356694842772\n",
      "v max = -1.7651115526756518\n",
      "v min = -7.483513976198523\n",
      "----------------------------------\n"
     ]
    },
    {
     "name": "stdout",
     "output_type": "stream",
     "text": [
      "----------------------------------\n",
      "Iteration = 46\n",
      "Distance = 0.03468470084309461\n",
      "v max = -1.7304268518325572\n",
      "v min = -7.469972797242244\n",
      "----------------------------------\n"
     ]
    },
    {
     "name": "stdout",
     "output_type": "stream",
     "text": [
      "----------------------------------\n",
      "Iteration = 47\n",
      "Distance = 0.033791421681681255\n",
      "v max = -1.696635430150876\n",
      "v min = -7.456015823859638\n",
      "----------------------------------\n"
     ]
    },
    {
     "name": "stdout",
     "output_type": "stream",
     "text": [
      "----------------------------------\n",
      "Iteration = 48\n",
      "Distance = 0.03294103117188052\n",
      "v max = -1.6636943989789954\n",
      "v min = -7.441681216983331\n",
      "----------------------------------\n"
     ]
    },
    {
     "name": "stdout",
     "output_type": "stream",
     "text": [
      "----------------------------------\n",
      "Iteration = 49\n",
      "Distance = 0.03213099685550613\n",
      "v max = -1.6315634021234893\n",
      "v min = -7.4270046519247765\n",
      "----------------------------------\n"
     ]
    },
    {
     "name": "stdout",
     "output_type": "stream",
     "text": [
      "----------------------------------\n",
      "Iteration = 50\n",
      "Distance = 0.03135894185280175\n",
      "v max = -1.6002044602706875\n",
      "v min = -7.412019473483759\n",
      "----------------------------------\n"
     ]
    },
    {
     "name": "stdout",
     "output_type": "stream",
     "text": [
      "----------------------------------\n",
      "Iteration = 51\n",
      "Distance = 0.030622635241715823\n",
      "v max = -1.5695818250289717\n",
      "v min = -7.3967568414425955\n",
      "----------------------------------\n"
     ]
    },
    {
     "name": "stdout",
     "output_type": "stream",
     "text": [
      "----------------------------------\n",
      "Iteration = 52\n",
      "Distance = 0.029919983032741015\n",
      "v max = -1.5396618419962307\n",
      "v min = -7.381245867040775\n",
      "----------------------------------\n"
     ]
    },
    {
     "name": "stdout",
     "output_type": "stream",
     "text": [
      "----------------------------------\n",
      "Iteration = 53\n",
      "Distance = 0.029249019702527246\n",
      "v max = -1.5104128222937034\n",
      "v min = -7.365513740988268\n",
      "----------------------------------\n"
     ]
    },
    {
     "name": "stdout",
     "output_type": "stream",
     "text": [
      "----------------------------------\n",
      "Iteration = 54\n",
      "Distance = 0.02860790025154758\n",
      "v max = -1.4818049220421559\n",
      "v min = -7.349585853541605\n",
      "----------------------------------\n"
     ]
    },
    {
     "name": "stdout",
     "output_type": "stream",
     "text": [
      "----------------------------------\n",
      "Iteration = 55\n",
      "Distance = 0.0279948927534579\n",
      "v max = -1.453810029288698\n",
      "v min = -7.333485907134195\n",
      "----------------------------------\n"
     ]
    },
    {
     "name": "stdout",
     "output_type": "stream",
     "text": [
      "----------------------------------\n",
      "Iteration = 56\n",
      "Distance = 0.027408371365667206\n",
      "v max = -1.4264016579230308\n",
      "v min = -7.317236022021857\n",
      "----------------------------------\n"
     ]
    },
    {
     "name": "stdout",
     "output_type": "stream",
     "text": [
      "----------------------------------\n",
      "Iteration = 57\n",
      "Distance = 0.026846809772549163\n",
      "v max = -1.3995548481504816\n",
      "v min = -7.300856835376259\n",
      "----------------------------------\n"
     ]
    },
    {
     "name": "stdout",
     "output_type": "stream",
     "text": [
      "----------------------------------\n",
      "Iteration = 58\n",
      "Distance = 0.02630877503451834\n",
      "v max = -1.3732460731159633\n",
      "v min = -7.284367594231941\n",
      "----------------------------------\n"
     ]
    },
    {
     "name": "stdout",
     "output_type": "stream",
     "text": [
      "----------------------------------\n",
      "Iteration = 59\n",
      "Distance = 0.025792921817834547\n",
      "v max = -1.3474531512981287\n",
      "v min = -7.267786242667573\n",
      "----------------------------------\n"
     ]
    },
    {
     "name": "stdout",
     "output_type": "stream",
     "text": [
      "----------------------------------\n",
      "Iteration = 60\n",
      "Distance = 0.02529798698158081\n",
      "v max = -1.322155164316548\n",
      "v min = -7.251129503578547\n",
      "----------------------------------\n"
     ]
    },
    {
     "name": "stdout",
     "output_type": "stream",
     "text": [
      "----------------------------------\n",
      "Iteration = 61\n",
      "Distance = 0.024822784499650252\n",
      "v max = -1.2973323798168976\n",
      "v min = -7.234412955375855\n",
      "----------------------------------\n"
     ]
    },
    {
     "name": "stdout",
     "output_type": "stream",
     "text": [
      "----------------------------------\n",
      "Iteration = 62\n",
      "Distance = 0.024366200697069074\n",
      "v max = -1.2729661791198286\n",
      "v min = -7.217651103925473\n",
      "----------------------------------\n"
     ]
    },
    {
     "name": "stdout",
     "output_type": "stream",
     "text": [
      "----------------------------------\n",
      "Iteration = 63\n",
      "Distance = 0.02392718978111419\n",
      "v max = -1.2490389893387144\n",
      "v min = -7.2008574500230385\n",
      "----------------------------------\n"
     ]
    },
    {
     "name": "stdout",
     "output_type": "stream",
     "text": [
      "----------------------------------\n",
      "Iteration = 64\n",
      "Distance = 0.023504769649075996\n",
      "v max = -1.2255342196896384\n",
      "v min = -7.184044552680418\n",
      "----------------------------------\n"
     ]
    },
    {
     "name": "stdout",
     "output_type": "stream",
     "text": [
      "----------------------------------\n",
      "Iteration = 65\n",
      "Distance = 0.02309801795540123\n",
      "v max = -1.2024362017342372\n",
      "v min = -7.167224088483433\n",
      "----------------------------------\n"
     ]
    },
    {
     "name": "stdout",
     "output_type": "stream",
     "text": [
      "----------------------------------\n",
      "Iteration = 66\n",
      "Distance = 0.02270606842229106\n",
      "v max = -1.179730133311946\n",
      "v min = -7.150406907264158\n",
      "----------------------------------\n"
     ]
    },
    {
     "name": "stdout",
     "output_type": "stream",
     "text": [
      "----------------------------------\n",
      "Iteration = 67\n",
      "Distance = 0.022328107378614792\n",
      "v max = -1.1574020259333313\n",
      "v min = -7.133603084316123\n",
      "----------------------------------\n"
     ]
    },
    {
     "name": "stdout",
     "output_type": "stream",
     "text": [
      "----------------------------------\n",
      "Iteration = 68\n",
      "Distance = 0.02196337051298136\n",
      "v max = -1.13543865542035\n",
      "v min = -7.11682196936655\n",
      "----------------------------------\n"
     ]
    },
    {
     "name": "stdout",
     "output_type": "stream",
     "text": [
      "----------------------------------\n",
      "Iteration = 69\n",
      "Distance = 0.021611139827782733\n",
      "v max = -1.1138275155925672\n",
      "v min = -7.100072232506306\n",
      "----------------------------------\n"
     ]
    },
    {
     "name": "stdout",
     "output_type": "stream",
     "text": [
      "----------------------------------\n",
      "Iteration = 70\n",
      "Distance = 0.021270740781687225\n",
      "v max = -1.09255677481088\n",
      "v min = -7.083361907266405\n",
      "----------------------------------\n"
     ]
    },
    {
     "name": "stdout",
     "output_type": "stream",
     "text": [
      "----------------------------------\n",
      "Iteration = 71\n",
      "Distance = 0.02094153960900469\n",
      "v max = -1.0716152352018753\n",
      "v min = -7.066698431017431\n",
      "----------------------------------\n"
     ]
    },
    {
     "name": "stdout",
     "output_type": "stream",
     "text": [
      "----------------------------------\n",
      "Iteration = 72\n",
      "Distance = 0.020622940804844392\n",
      "v max = -1.050992294397031\n",
      "v min = -7.05008868285802\n",
      "----------------------------------\n"
     ]
    },
    {
     "name": "stdout",
     "output_type": "stream",
     "text": [
      "----------------------------------\n",
      "Iteration = 73\n",
      "Distance = 0.020314384765976135\n",
      "v max = -1.0306779096310548\n",
      "v min = -7.033539019147796\n",
      "----------------------------------\n"
     ]
    },
    {
     "name": "stdout",
     "output_type": "stream",
     "text": [
      "----------------------------------\n",
      "Iteration = 74\n",
      "Distance = 0.020015345577565347\n",
      "v max = -1.0106625640534894\n",
      "v min = -7.017055306830777\n",
      "----------------------------------\n"
     ]
    },
    {
     "name": "stdout",
     "output_type": "stream",
     "text": [
      "----------------------------------\n",
      "Iteration = 75\n",
      "Distance = 0.01972532893693102\n",
      "v max = -0.9909372351165584\n",
      "v min = -7.000642954686102\n",
      "----------------------------------\n"
     ]
    },
    {
     "name": "stdout",
     "output_type": "stream",
     "text": [
      "----------------------------------\n",
      "Iteration = 76\n",
      "Distance = 0.01944387020568139\n",
      "v max = -0.971493364910877\n",
      "v min = -6.984306942634507\n",
      "----------------------------------\n"
     ]
    },
    {
     "name": "stdout",
     "output_type": "stream",
     "text": [
      "----------------------------------\n",
      "Iteration = 77\n",
      "Distance = 0.019170532582414745\n",
      "v max = -0.9523228323284623\n",
      "v min = -6.96805184922102\n",
      "----------------------------------\n"
     ]
    },
    {
     "name": "stdout",
     "output_type": "stream",
     "text": [
      "----------------------------------\n",
      "Iteration = 78\n",
      "Distance = 0.018904905388429705\n",
      "v max = -0.9334179269400326\n",
      "v min = -6.9518818773869455\n",
      "----------------------------------\n"
     ]
    },
    {
     "name": "stdout",
     "output_type": "stream",
     "text": [
      "----------------------------------\n",
      "Iteration = 79\n",
      "Distance = 0.018646602459504003\n",
      "v max = -0.9147713244805286\n",
      "v min = -6.935800878636964\n",
      "----------------------------------\n"
     ]
    },
    {
     "name": "stdout",
     "output_type": "stream",
     "text": [
      "----------------------------------\n",
      "Iteration = 80\n",
      "Distance = 0.01839526063711794\n",
      "v max = -0.8963760638434106\n",
      "v min = -6.919812375701071\n",
      "----------------------------------\n"
     ]
    },
    {
     "name": "stdout",
     "output_type": "stream",
     "text": [
      "----------------------------------\n",
      "Iteration = 81\n",
      "Distance = 0.018150538353060797\n",
      "v max = -0.8782255254903498\n",
      "v min = -6.903919583784454\n",
      "----------------------------------\n"
     ]
    },
    {
     "name": "stdout",
     "output_type": "stream",
     "text": [
      "----------------------------------\n",
      "Iteration = 82\n",
      "Distance = 0.017912114301523063\n",
      "v max = -0.8603134111888268\n",
      "v min = -6.88812543049272\n",
      "----------------------------------\n"
     ]
    },
    {
     "name": "stdout",
     "output_type": "stream",
     "text": [
      "----------------------------------\n",
      "Iteration = 83\n",
      "Distance = 0.01767968619335092\n",
      "v max = -0.8426337249954758\n",
      "v min = -6.8724325745149315\n",
      "----------------------------------\n"
     ]
    },
    {
     "name": "stdout",
     "output_type": "stream",
     "text": [
      "----------------------------------\n",
      "Iteration = 84\n",
      "Distance = 0.017452969587335554\n",
      "v max = -0.8251807554081403\n",
      "v min = -6.856843423141071\n",
      "----------------------------------\n"
     ]
    },
    {
     "name": "stdout",
     "output_type": "stream",
     "text": [
      "----------------------------------\n",
      "Iteration = 85\n",
      "Distance = 0.0172316967937729\n",
      "v max = -0.8079490586143674\n",
      "v min = -6.841360148686399\n",
      "----------------------------------\n"
     ]
    },
    {
     "name": "stdout",
     "output_type": "stream",
     "text": [
      "----------------------------------\n",
      "Iteration = 86\n",
      "Distance = 0.017015615845813237\n",
      "v max = -0.7909334427685542\n",
      "v min = -6.825984703890388\n",
      "----------------------------------\n"
     ]
    },
    {
     "name": "stdout",
     "output_type": "stream",
     "text": [
      "----------------------------------\n",
      "Iteration = 87\n",
      "Distance = 0.016804489534440137\n",
      "v max = -0.774128953234114\n",
      "v min = -6.810718836353903\n",
      "----------------------------------\n"
     ]
    },
    {
     "name": "stdout",
     "output_type": "stream",
     "text": [
      "----------------------------------\n",
      "Iteration = 88\n",
      "Distance = 0.01659809450308869\n",
      "v max = -0.7575308587310253\n",
      "v min = -6.795564102074019\n",
      "----------------------------------\n"
     ]
    },
    {
     "name": "stdout",
     "output_type": "stream",
     "text": [
      "----------------------------------\n",
      "Iteration = 89\n",
      "Distance = 0.01639622039825306\n",
      "v max = -0.7411346383327723\n",
      "v min = -6.780521878132813\n",
      "----------------------------------\n"
     ]
    },
    {
     "name": "stdout",
     "output_type": "stream",
     "text": [
      "----------------------------------\n",
      "Iteration = 90\n",
      "Distance = 0.016198669072584826\n",
      "v max = -0.7249359692601874\n",
      "v min = -6.765593374592156\n",
      "----------------------------------\n"
     ]
    },
    {
     "name": "stdout",
     "output_type": "stream",
     "text": [
      "----------------------------------\n",
      "Iteration = 91\n",
      "Distance = 0.016005253837276356\n",
      "v max = -0.7089307154229111\n",
      "v min = -6.750779645644121\n",
      "----------------------------------\n"
     ]
    },
    {
     "name": "stdout",
     "output_type": "stream",
     "text": [
      "----------------------------------\n",
      "Iteration = 92\n",
      "Distance = 0.01581579876061634\n",
      "v max = -0.6931149166622947\n",
      "v min = -6.736081600062917\n",
      "----------------------------------\n"
     ]
    },
    {
     "name": "stdout",
     "output_type": "stream",
     "text": [
      "----------------------------------\n",
      "Iteration = 93\n",
      "Distance = 0.01563013800992663\n",
      "v max = -0.6774847786523681\n",
      "v min = -6.721500011001778\n",
      "----------------------------------\n"
     ]
    },
    {
     "name": "stdout",
     "output_type": "stream",
     "text": [
      "----------------------------------\n",
      "Iteration = 94\n",
      "Distance = 0.01544811523414713\n",
      "v max = -0.662036663418221\n",
      "v min = -6.707035525175505\n",
      "----------------------------------\n"
     ]
    },
    {
     "name": "stdout",
     "output_type": "stream",
     "text": [
      "----------------------------------\n",
      "Iteration = 95\n",
      "Distance = 0.015269582984566377\n",
      "v max = -0.6467670804336546\n",
      "v min = -6.692688671466613\n",
      "----------------------------------\n"
     ]
    },
    {
     "name": "stdout",
     "output_type": "stream",
     "text": [
      "----------------------------------\n",
      "Iteration = 96\n",
      "Distance = 0.015094402171357713\n",
      "v max = -0.6316726782622969\n",
      "v min = -6.678459868990997\n",
      "----------------------------------\n"
     ]
    },
    {
     "name": "stdout",
     "output_type": "stream",
     "text": [
      "----------------------------------\n",
      "Iteration = 97\n",
      "Distance = 0.014922441553671506\n",
      "v max = -0.6167502367086254\n",
      "v min = -6.6643494346566134\n",
      "----------------------------------\n"
     ]
    },
    {
     "name": "stdout",
     "output_type": "stream",
     "text": [
      "----------------------------------\n",
      "Iteration = 98\n",
      "Distance = 0.014753577261219508\n",
      "v max = -0.6019966594474059\n",
      "v min = -6.65035759024651\n",
      "----------------------------------\n"
     ]
    },
    {
     "name": "stdout",
     "output_type": "stream",
     "text": [
      "----------------------------------\n",
      "Iteration = 99\n",
      "Distance = 0.014587692345422343\n",
      "v max = -0.5874089671019835\n",
      "v min = -6.6364844690559694\n",
      "----------------------------------\n"
     ]
    },
    {
     "name": "stdout",
     "output_type": "stream",
     "text": [
      "----------------------------------\n",
      "Iteration = 100\n",
      "Distance = 0.014424676358253175\n",
      "v max = -0.5729842907437304\n",
      "v min = -6.62273012211131\n",
      "----------------------------------\n"
     ]
    },
    {
     "name": "stdout",
     "output_type": "stream",
     "text": [
      "----------------------------------\n",
      "Iteration = 101\n",
      "Distance = 0.01426442495710134\n",
      "v max = -0.558719865786629\n",
      "v min = -6.60909452399623\n",
      "----------------------------------\n"
     ]
    },
    {
     "name": "stdout",
     "output_type": "stream",
     "text": [
      "----------------------------------\n",
      "Iteration = 102\n",
      "Distance = 0.01410683953401115\n",
      "v max = -0.5446130262526179\n",
      "v min = -6.5955775783102695\n",
      "----------------------------------\n"
     ]
    },
    {
     "name": "stdout",
     "output_type": "stream",
     "text": [
      "----------------------------------\n",
      "Iteration = 103\n",
      "Distance = 0.013951826867819817\n",
      "v max = -0.530661199384798\n",
      "v min = -6.582179122782088\n",
      "----------------------------------\n"
     ]
    },
    {
     "name": "stdout",
     "output_type": "stream",
     "text": [
      "----------------------------------\n",
      "Iteration = 104\n",
      "Distance = 0.01379929879774977\n",
      "v max = -0.5168619005870483\n",
      "v min = -6.56889893405903\n",
      "----------------------------------\n"
     ]
    },
    {
     "name": "stdout",
     "output_type": "stream",
     "text": [
      "----------------------------------\n",
      "Iteration = 105\n",
      "Distance = 0.013649171917140768\n",
      "v max = -0.5032127286699075\n",
      "v min = -6.555736732193195\n",
      "----------------------------------\n"
     ]
    },
    {
     "name": "stdout",
     "output_type": "stream",
     "text": [
      "----------------------------------\n",
      "Iteration = 106\n",
      "Distance = 0.013501367286081922\n",
      "v max = -0.4897113613838256\n",
      "v min = -6.542692184842672\n",
      "----------------------------------\n"
     ]
    },
    {
     "name": "stdout",
     "output_type": "stream",
     "text": [
      "----------------------------------\n",
      "Iteration = 107\n",
      "Distance = 0.013355810161766402\n",
      "v max = -0.4763555512220592\n",
      "v min = -6.529764911205817\n",
      "----------------------------------\n"
     ]
    },
    {
     "name": "stdout",
     "output_type": "stream",
     "text": [
      "----------------------------------\n",
      "Iteration = 108\n",
      "Distance = 0.013212429745457\n",
      "v max = -0.4631431214766022\n",
      "v min = -6.516954485705131\n",
      "----------------------------------\n"
     ]
    },
    {
     "name": "stdout",
     "output_type": "stream",
     "text": [
      "----------------------------------\n",
      "Iteration = 109\n",
      "Distance = 0.013071158945074157\n",
      "v max = -0.45007196253152804\n",
      "v min = -6.504260441436194\n",
      "----------------------------------\n"
     ]
    },
    {
     "name": "stdout",
     "output_type": "stream",
     "text": [
      "----------------------------------\n",
      "Iteration = 110\n",
      "Distance = 0.012931934152393909\n",
      "v max = -0.4371400283791341\n",
      "v min = -6.491682273396496\n",
      "----------------------------------\n"
     ]
    },
    {
     "name": "stdout",
     "output_type": "stream",
     "text": [
      "----------------------------------\n",
      "Iteration = 111\n",
      "Distance = 0.012794695033988834\n",
      "v max = -0.4243453333451453\n",
      "v min = -6.479219441507639\n",
      "----------------------------------\n"
     ]
    },
    {
     "name": "stdout",
     "output_type": "stream",
     "text": [
      "----------------------------------\n",
      "Iteration = 112\n",
      "Distance = 0.012659384335043267\n",
      "v max = -0.411685949010102\n",
      "v min = -6.466871373443819\n",
      "----------------------------------\n"
     ]
    },
    {
     "name": "stdout",
     "output_type": "stream",
     "text": [
      "----------------------------------\n",
      "Iteration = 113\n",
      "Distance = 0.012525947695243789\n",
      "v max = -0.39916000131485824\n",
      "v min = -6.454637467278804\n",
      "----------------------------------\n"
     ]
    },
    {
     "name": "stdout",
     "output_type": "stream",
     "text": [
      "----------------------------------\n",
      "Iteration = 114\n",
      "Distance = 0.012394333476012043\n",
      "v max = -0.3867656678388462\n",
      "v min = -6.442517093962476\n",
      "----------------------------------\n"
     ]
    },
    {
     "name": "stdout",
     "output_type": "stream",
     "text": [
      "----------------------------------\n",
      "Iteration = 115\n",
      "Distance = 0.01226449259836676\n",
      "v max = -0.37450117524047943\n",
      "v min = -6.4305095996377295\n",
      "----------------------------------\n"
     ]
    },
    {
     "name": "stdout",
     "output_type": "stream",
     "text": [
      "----------------------------------\n",
      "Iteration = 116\n",
      "Distance = 0.01213637839076065\n",
      "v max = -0.3623647968497188\n",
      "v min = -6.4186143078075935\n",
      "----------------------------------\n"
     ]
    },
    {
     "name": "stdout",
     "output_type": "stream",
     "text": [
      "----------------------------------\n",
      "Iteration = 117\n",
      "Distance = 0.012009946446281838\n",
      "v max = -0.35035485040343695\n",
      "v min = -6.4068305213619015\n",
      "----------------------------------\n"
     ]
    },
    {
     "name": "stdout",
     "output_type": "stream",
     "text": [
      "----------------------------------\n",
      "Iteration = 118\n",
      "Distance = 0.01188515448862243\n",
      "v max = -0.3384696959148145\n",
      "v min = -6.395157524472323\n",
      "----------------------------------\n"
     ]
    },
    {
     "name": "stdout",
     "output_type": "stream",
     "text": [
      "----------------------------------\n",
      "Iteration = 119\n",
      "Distance = 0.011761962246296553\n",
      "v max = -0.32670773366851796\n",
      "v min = -6.383594584363977\n",
      "----------------------------------\n"
     ]
    },
    {
     "name": "stdout",
     "output_type": "stream",
     "text": [
      "----------------------------------\n",
      "Iteration = 120\n",
      "Distance = 0.011640331334580312\n",
      "v max = -0.31506740233393765\n",
      "v min = -6.372140952971205\n",
      "----------------------------------\n"
     ]
    },
    {
     "name": "stdout",
     "output_type": "stream",
     "text": [
      "----------------------------------\n",
      "Iteration = 121\n",
      "Distance = 0.01152022514469997\n",
      "v max = -0.3035471771892377\n",
      "v min = -6.360795868484845\n",
      "----------------------------------\n"
     ]
    },
    {
     "name": "stdout",
     "output_type": "stream",
     "text": [
      "----------------------------------\n",
      "Iteration = 122\n",
      "Distance = 0.011401608739821933\n",
      "v max = -0.29214556844941575\n",
      "v min = -6.349558556797881\n",
      "----------------------------------\n"
     ]
    },
    {
     "name": "stdout",
     "output_type": "stream",
     "text": [
      "----------------------------------\n",
      "Iteration = 123\n",
      "Distance = 0.011284448757426235\n",
      "v max = -0.2808611196919895\n",
      "v min = -6.338428232855514\n",
      "----------------------------------\n"
     ]
    },
    {
     "name": "stdout",
     "output_type": "stream",
     "text": [
      "----------------------------------\n",
      "Iteration = 124\n",
      "Distance = 0.01116871331766206\n",
      "v max = -0.26969240637432745\n",
      "v min = -6.327404101915955\n",
      "----------------------------------\n"
     ]
    },
    {
     "name": "stdout",
     "output_type": "stream",
     "text": [
      "----------------------------------\n",
      "Iteration = 125\n",
      "Distance = 0.011054371937325558\n",
      "v max = -0.2586380344370019\n",
      "v min = -6.316485360727328\n",
      "----------------------------------\n"
     ]
    },
    {
     "name": "stdout",
     "output_type": "stream",
     "text": [
      "----------------------------------\n",
      "Iteration = 126\n",
      "Distance = 0.010941395449097141\n",
      "v max = -0.24769663898790475\n",
      "v min = -6.305671198625969\n",
      "----------------------------------\n"
     ]
    },
    {
     "name": "stdout",
     "output_type": "stream",
     "text": [
      "----------------------------------\n",
      "Iteration = 127\n",
      "Distance = 0.010829755925734652\n",
      "v max = -0.2368668830621701\n",
      "v min = -6.2949607985611475\n",
      "----------------------------------\n"
     ]
    },
    {
     "name": "stdout",
     "output_type": "stream",
     "text": [
      "----------------------------------\n",
      "Iteration = 128\n",
      "Distance = 0.01071942660889047\n",
      "v max = -0.22614745645327963\n",
      "v min = -6.284353338050678\n",
      "----------------------------------\n"
     ]
    },
    {
     "name": "stdout",
     "output_type": "stream",
     "text": [
      "----------------------------------\n",
      "Iteration = 129\n",
      "Distance = 0.010610381842291267\n",
      "v max = -0.21553707461098837\n",
      "v min = -6.273847990071817\n",
      "----------------------------------\n"
     ]
    },
    {
     "name": "stdout",
     "output_type": "stream",
     "text": [
      "----------------------------------\n",
      "Iteration = 130\n",
      "Distance = 0.010502597008996611\n",
      "v max = -0.20503447760199175\n",
      "v min = -6.263443923891542\n",
      "----------------------------------\n"
     ]
    },
    {
     "name": "stdout",
     "output_type": "stream",
     "text": [
      "----------------------------------\n",
      "Iteration = 131\n",
      "Distance = 0.010396048472485181\n",
      "v max = -0.19463842912950657\n",
      "v min = -6.253140305840012\n",
      "----------------------------------\n"
     ]
    },
    {
     "name": "stdout",
     "output_type": "stream",
     "text": [
      "----------------------------------\n",
      "Iteration = 132\n",
      "Distance = 0.010290713521336453\n",
      "v max = -0.18434771560817012\n",
      "v min = -6.242936300030643\n",
      "----------------------------------\n"
     ]
    },
    {
     "name": "stdout",
     "output_type": "stream",
     "text": [
      "----------------------------------\n",
      "Iteration = 133\n",
      "Distance = 0.010186570317287008\n",
      "v max = -0.1741611452908831\n",
      "v min = -6.232831069030405\n",
      "----------------------------------\n"
     ]
    },
    {
     "name": "stdout",
     "output_type": "stream",
     "text": [
      "----------------------------------\n",
      "Iteration = 134\n",
      "Distance = 0.010083597846441944\n",
      "v max = -0.16407754744444117\n",
      "v min = -6.222823774483261\n",
      "----------------------------------\n"
     ]
    },
    {
     "name": "stdout",
     "output_type": "stream",
     "text": [
      "----------------------------------\n",
      "Iteration = 135\n",
      "Distance = 0.009981775873467352\n",
      "v max = -0.15409577157097382\n",
      "v min = -6.212913577689792\n",
      "----------------------------------\n"
     ]
    },
    {
     "name": "stdout",
     "output_type": "stream",
     "text": [
      "----------------------------------\n",
      "Iteration = 136\n",
      "Distance = 0.009881084898553244\n",
      "v max = -0.14421468667242057\n",
      "v min = -6.20309964014584\n",
      "----------------------------------\n"
     ]
    },
    {
     "name": "stdout",
     "output_type": "stream",
     "text": [
      "----------------------------------\n",
      "Iteration = 137\n",
      "Distance = 0.009781506117000044\n",
      "v max = -0.13443318055542053\n",
      "v min = -6.193381124042535\n",
      "----------------------------------\n"
     ]
    },
    {
     "name": "stdout",
     "output_type": "stream",
     "text": [
      "----------------------------------\n",
      "Iteration = 138\n",
      "Distance = 0.009683021381251516\n",
      "v max = -0.12475015917416901\n",
      "v min = -6.183757192730421\n",
      "----------------------------------\n"
     ]
    },
    {
     "name": "stdout",
     "output_type": "stream",
     "text": [
      "----------------------------------\n",
      "Iteration = 139\n",
      "Distance = 0.009585613165231696\n",
      "v max = -0.11516454600893732\n",
      "v min = -6.174227011149746\n",
      "----------------------------------\n"
     ]
    },
    {
     "name": "stdout",
     "output_type": "stream",
     "text": [
      "----------------------------------\n",
      "Iteration = 140\n",
      "Distance = 0.009489264530835442\n",
      "v max = -0.10567528147810187\n",
      "v min = -6.164789746229195\n",
      "----------------------------------\n"
     ]
    },
    {
     "name": "stdout",
     "output_type": "stream",
     "text": [
      "----------------------------------\n",
      "Iteration = 141\n",
      "Distance = 0.009393959096448898\n",
      "v max = -0.09628132238165298\n",
      "v min = -6.1554445672549525\n",
      "----------------------------------\n"
     ]
    },
    {
     "name": "stdout",
     "output_type": "stream",
     "text": [
      "----------------------------------\n",
      "Iteration = 142\n",
      "Distance = 0.009299681007367847\n",
      "v max = -0.08698164137428513\n",
      "v min = -6.146190646212138\n",
      "----------------------------------\n"
     ]
    },
    {
     "name": "stdout",
     "output_type": "stream",
     "text": [
      "----------------------------------\n",
      "Iteration = 143\n",
      "Distance = 0.009206414907999408\n",
      "v max = -0.07777522646628572\n",
      "v min = -6.137027158100155\n",
      "----------------------------------\n"
     ]
    },
    {
     "name": "stdout",
     "output_type": "stream",
     "text": [
      "----------------------------------\n",
      "Iteration = 144\n",
      "Distance = 0.009114145915738447\n",
      "v max = -0.06866108055054727\n",
      "v min = -6.127953281223828\n",
      "----------------------------------\n"
     ]
    },
    {
     "name": "stdout",
     "output_type": "stream",
     "text": [
      "----------------------------------\n",
      "Iteration = 145\n",
      "Distance = 0.009022859596413246\n",
      "v max = -0.05963822095413403\n",
      "v min = -6.118968197461763\n",
      "----------------------------------\n"
     ]
    },
    {
     "name": "stdout",
     "output_type": "stream",
     "text": [
      "----------------------------------\n",
      "Iteration = 146\n",
      "Distance = 0.008932541941202417\n",
      "v max = -0.05070567901293161\n",
      "v min = -6.110071092513383\n",
      "----------------------------------\n"
     ]
    },
    {
     "name": "stdout",
     "output_type": "stream",
     "text": [
      "----------------------------------\n",
      "Iteration = 147\n",
      "Distance = 0.008843179344940152\n",
      "v max = -0.04186249966799146\n",
      "v min = -6.101261156126053\n",
      "----------------------------------\n"
     ]
    },
    {
     "name": "stdout",
     "output_type": "stream",
     "text": [
      "----------------------------------\n",
      "Iteration = 148\n",
      "Distance = 0.008754758585712542\n",
      "v max = -0.033107741082278916\n",
      "v min = -6.092537582303588\n",
      "----------------------------------\n"
     ]
    },
    {
     "name": "stdout",
     "output_type": "stream",
     "text": [
      "----------------------------------\n",
      "Iteration = 149\n",
      "Distance = 0.008667266805675946\n",
      "v max = -0.02444047427660297\n",
      "v min = -6.083899569497201\n",
      "----------------------------------\n"
     ]
    },
    {
     "name": "stdout",
     "output_type": "stream",
     "text": [
      "----------------------------------\n",
      "Iteration = 150\n",
      "Distance = 0.008580691493015935\n",
      "v max = -0.015859782783587035\n",
      "v min = -6.075346320780258\n",
      "----------------------------------\n"
     ]
    },
    {
     "name": "stdout",
     "output_type": "stream",
     "text": [
      "----------------------------------\n",
      "Iteration = 151\n",
      "Distance = 0.008495020464979757\n",
      "v max = -0.007364762318607278\n",
      "v min = -6.066877044007655\n",
      "----------------------------------\n"
     ]
    },
    {
     "name": "stdout",
     "output_type": "stream",
     "text": [
      "----------------------------------\n",
      "Iteration = 152\n",
      "Distance = 0.00841024185191394\n",
      "v max = 0.0010454795333066608\n",
      "v min = -6.058490951960966\n",
      "----------------------------------\n"
     ]
    },
    {
     "name": "stdout",
     "output_type": "stream",
     "text": [
      "----------------------------------\n",
      "Iteration = 153\n",
      "Distance = 0.008326344082248482\n",
      "v max = 0.009371823615555143\n",
      "v min = -6.050187262480246\n",
      "----------------------------------\n"
     ]
    },
    {
     "name": "stdout",
     "output_type": "stream",
     "text": [
      "----------------------------------\n",
      "Iteration = 154\n",
      "Distance = 0.00824331586836554\n",
      "v max = 0.017615139483920683\n",
      "v min = -6.0419651985833\n",
      "----------------------------------\n"
     ]
    },
    {
     "name": "stdout",
     "output_type": "stream",
     "text": [
      "----------------------------------\n",
      "Iteration = 155\n",
      "Distance = 0.008161146193300137\n",
      "v max = 0.02577628567722082\n",
      "v min = -6.033823988573313\n",
      "----------------------------------\n"
     ]
    },
    {
     "name": "stdout",
     "output_type": "stream",
     "text": [
      "----------------------------------\n",
      "Iteration = 156\n",
      "Distance = 0.008079824298223338\n",
      "v max = 0.03385610997544416\n",
      "v min = -6.0257628661356\n",
      "----------------------------------\n"
     ]
    },
    {
     "name": "stdout",
     "output_type": "stream",
     "text": [
      "----------------------------------\n",
      "Iteration = 157\n",
      "Distance = 0.00799933967065871\n",
      "v max = 0.04185544964610287\n",
      "v min = -6.017781070424158\n",
      "----------------------------------\n"
     ]
    },
    {
     "name": "stdout",
     "output_type": "stream",
     "text": [
      "----------------------------------\n",
      "Iteration = 158\n",
      "Distance = 0.007919682033385105\n",
      "v max = 0.04977513167948797\n",
      "v min = -6.009877846138623\n",
      "----------------------------------\n"
     ]
    },
    {
     "name": "stdout",
     "output_type": "stream",
     "text": [
      "----------------------------------\n",
      "Iteration = 159\n",
      "Distance = 0.007840841333985216\n",
      "v max = 0.05761597301347319\n",
      "v min = -6.002052443592506\n",
      "----------------------------------\n"
     ]
    },
    {
     "name": "stdout",
     "output_type": "stream",
     "text": [
      "----------------------------------\n",
      "Iteration = 160\n",
      "Distance = 0.0077628077350029925\n",
      "v max = 0.06537878074847618\n",
      "v min = -5.994304118772934\n",
      "----------------------------------\n"
     ]
    },
    {
     "name": "stdout",
     "output_type": "stream",
     "text": [
      "----------------------------------\n",
      "Iteration = 161\n",
      "Distance = 0.007685571604667069\n",
      "v max = 0.07306435235314325\n",
      "v min = -5.986632133392875\n",
      "----------------------------------\n"
     ]
    },
    {
     "name": "stdout",
     "output_type": "stream",
     "text": [
      "----------------------------------\n",
      "Iteration = 162\n",
      "Distance = 0.007609123508151128\n",
      "v max = 0.08067347586129438\n",
      "v min = -5.979035754935954\n",
      "----------------------------------\n"
     ]
    },
    {
     "name": "stdout",
     "output_type": "stream",
     "text": [
      "----------------------------------\n",
      "Iteration = 163\n",
      "Distance = 0.007533454199333808\n",
      "v max = 0.08820693006062819\n",
      "v min = -5.971514256694618\n",
      "----------------------------------\n"
     ]
    },
    {
     "name": "stdout",
     "output_type": "stream",
     "text": [
      "----------------------------------\n",
      "Iteration = 164\n",
      "Distance = 0.007458554613030632\n",
      "v max = 0.09566548467365882\n",
      "v min = -5.964066917802052\n",
      "----------------------------------\n"
     ]
    },
    {
     "name": "stdout",
     "output_type": "stream",
     "text": [
      "----------------------------------\n",
      "Iteration = 165\n",
      "Distance = 0.007384415857668705\n",
      "v max = 0.10304990053132752\n",
      "v min = -5.956693023258141\n",
      "----------------------------------\n"
     ]
    },
    {
     "name": "stdout",
     "output_type": "stream",
     "text": [
      "----------------------------------\n",
      "Iteration = 166\n",
      "Distance = 0.0073110292083753\n",
      "v max = 0.11036092973970282\n",
      "v min = -5.949391863950095\n",
      "----------------------------------\n"
     ]
    },
    {
     "name": "stdout",
     "output_type": "stream",
     "text": [
      "----------------------------------\n",
      "Iteration = 167\n",
      "Distance = 0.0072383861004576555\n",
      "v max = 0.11759931584016048\n",
      "v min = -5.942162736667951\n",
      "----------------------------------\n"
     ]
    },
    {
     "name": "stdout",
     "output_type": "stream",
     "text": [
      "----------------------------------\n",
      "Iteration = 168\n",
      "Distance = 0.007166478123246764\n",
      "v max = 0.12476579396340724\n",
      "v min = -5.935004944115355\n",
      "----------------------------------\n"
     ]
    },
    {
     "name": "stdout",
     "output_type": "stream",
     "text": [
      "----------------------------------\n",
      "Iteration = 169\n",
      "Distance = 0.007095297014287502\n",
      "v max = 0.13186109097769474\n",
      "v min = -5.927917794915952\n",
      "----------------------------------\n"
     ]
    },
    {
     "ename": "LoadError",
     "evalue": "InterruptException:",
     "output_type": "error",
     "traceback": [
      "InterruptException:",
      "",
      "Stacktrace:",
      "  [1] umfpack_numeric!(U::SuiteSparse.UMFPACK.UmfpackLU{Float64, Int64}; reuse_numeric::Bool)",
      "    @ SuiteSparse.UMFPACK /software/julia-1.7.3-el8-x86_64/share/julia/stdlib/v1.7/SuiteSparse/src/umfpack.jl:388",
      "  [2] umfpack_numeric!",
      "    @ /software/julia-1.7.3-el8-x86_64/share/julia/stdlib/v1.7/SuiteSparse/src/umfpack.jl:385 [inlined]",
      "  [3] lu(S::SparseMatrixCSC{Float64, Int64}; check::Bool)",
      "    @ SuiteSparse.UMFPACK /software/julia-1.7.3-el8-x86_64/share/julia/stdlib/v1.7/SuiteSparse/src/umfpack.jl:202",
      "  [4] lu",
      "    @ /software/julia-1.7.3-el8-x86_64/share/julia/stdlib/v1.7/SuiteSparse/src/umfpack.jl:196 [inlined]",
      "  [5] \\(A::SparseMatrixCSC{Float64, Int64}, B::Vector{Float64})",
      "    @ SparseArrays /software/julia-1.7.3-el8-x86_64/share/julia/stdlib/v1.7/SparseArrays/src/linalg.jl:1554",
      "  [6] value_function_onecapital(gamma::Float64, rho::Float64, model::OneCapitalEconomy{Float64}, grid::Grid_zy{Float64}, params::FinDiffMethod, preloadV0::Matrix{Float64}, preloadcons::Matrix{Float64}, ymean::Float64)",
      "    @ Main /project/lhansen/macrofinance/src/1/utils_onecapital.jl:418",
      "  [7] macro expansion",
      "    @ /project/lhansen/macrofinance/src/1/main_onecapital.jl:101 [inlined]",
      "  [8] macro expansion",
      "    @ ./timing.jl:299 [inlined]",
      "  [9] main(gamma::Float64, rho::Float64, Delta::Float64, delta::Float64, alpha::Float64, action_name::String)",
      "    @ Main /project/lhansen/macrofinance/src/1/main_onecapital.jl:100",
      " [10] top-level scope",
      "    @ In[3]:1"
     ]
    }
   ],
   "source": [
    "results = main(gamma, rho, Delta, delta, alpha, action_name)"
   ]
  },
  {
   "cell_type": "markdown",
   "metadata": {},
   "source": [
    "By default, the solution is saved to the `output` folder. As an illustration, we can plot how the value function varies with $Z^1$ while $Z^2$ is fixed at its median. We can do this by loading in `results[\"V\"]`, which contains our value function, and `results[\"zz\"]`, which contains the values of $Z^1$ of our state-space grid. We fix $Z^2$ by setting the first index of both these arrays to the desired value. These results can be used to compute elasticities, which are described in the following section."
   ]
  },
  {
   "cell_type": "code",
   "execution_count": 76,
   "metadata": {},
   "outputs": [
    {
     "data": {
      "image/svg+xml": [
       "<?xml version=\"1.0\" encoding=\"utf-8\"?>\n",
       "<svg xmlns=\"http://www.w3.org/2000/svg\" xmlns:xlink=\"http://www.w3.org/1999/xlink\" width=\"600\" height=\"400\" viewBox=\"0 0 2400 1600\">\n",
       "<defs>\n",
       "  <clipPath id=\"clip990\">\n",
       "    <rect x=\"0\" y=\"0\" width=\"2400\" height=\"1600\"/>\n",
       "  </clipPath>\n",
       "</defs>\n",
       "<path clip-path=\"url(#clip990)\" d=\"M0 1600 L2400 1600 L2400 0 L0 0  Z\" fill=\"#ffffff\" fill-rule=\"evenodd\" fill-opacity=\"1\"/>\n",
       "<defs>\n",
       "  <clipPath id=\"clip991\">\n",
       "    <rect x=\"480\" y=\"0\" width=\"1681\" height=\"1600\"/>\n",
       "  </clipPath>\n",
       "</defs>\n",
       "<path clip-path=\"url(#clip990)\" d=\"M275.451 1360.19 L2289.76 1360.19 L2289.76 110.236 L275.451 110.236  Z\" fill=\"#ffffff\" fill-rule=\"evenodd\" fill-opacity=\"1\"/>\n",
       "<defs>\n",
       "  <clipPath id=\"clip992\">\n",
       "    <rect x=\"275\" y=\"110\" width=\"2015\" height=\"1251\"/>\n",
       "  </clipPath>\n",
       "</defs>\n",
       "<polyline clip-path=\"url(#clip990)\" style=\"stroke:#000000; stroke-linecap:round; stroke-linejoin:round; stroke-width:4; stroke-opacity:1; fill:none\" points=\"275.451,1360.19 2289.76,1360.19 \"/>\n",
       "<polyline clip-path=\"url(#clip990)\" style=\"stroke:#000000; stroke-linecap:round; stroke-linejoin:round; stroke-width:4; stroke-opacity:1; fill:none\" points=\"522.489,1360.19 522.489,1341.29 \"/>\n",
       "<polyline clip-path=\"url(#clip990)\" style=\"stroke:#000000; stroke-linecap:round; stroke-linejoin:round; stroke-width:4; stroke-opacity:1; fill:none\" points=\"902.548,1360.19 902.548,1341.29 \"/>\n",
       "<polyline clip-path=\"url(#clip990)\" style=\"stroke:#000000; stroke-linecap:round; stroke-linejoin:round; stroke-width:4; stroke-opacity:1; fill:none\" points=\"1282.61,1360.19 1282.61,1341.29 \"/>\n",
       "<polyline clip-path=\"url(#clip990)\" style=\"stroke:#000000; stroke-linecap:round; stroke-linejoin:round; stroke-width:4; stroke-opacity:1; fill:none\" points=\"1662.67,1360.19 1662.67,1341.29 \"/>\n",
       "<polyline clip-path=\"url(#clip990)\" style=\"stroke:#000000; stroke-linecap:round; stroke-linejoin:round; stroke-width:4; stroke-opacity:1; fill:none\" points=\"2042.73,1360.19 2042.73,1341.29 \"/>\n",
       "<path clip-path=\"url(#clip990)\" d=\"M491.39 1405.76 L521.066 1405.76 L521.066 1409.69 L491.39 1409.69 L491.39 1405.76 Z\" fill=\"#000000\" fill-rule=\"nonzero\" fill-opacity=\"1\" /><path clip-path=\"url(#clip990)\" d=\"M544.005 1392.1 L532.2 1410.55 L544.005 1410.55 L544.005 1392.1 M542.779 1388.03 L548.658 1388.03 L548.658 1410.55 L553.589 1410.55 L553.589 1414.44 L548.658 1414.44 L548.658 1422.59 L544.005 1422.59 L544.005 1414.44 L528.404 1414.44 L528.404 1409.93 L542.779 1388.03 Z\" fill=\"#000000\" fill-rule=\"nonzero\" fill-opacity=\"1\" /><path clip-path=\"url(#clip990)\" d=\"M872.491 1405.76 L902.166 1405.76 L902.166 1409.69 L872.491 1409.69 L872.491 1405.76 Z\" fill=\"#000000\" fill-rule=\"nonzero\" fill-opacity=\"1\" /><path clip-path=\"url(#clip990)\" d=\"M916.287 1418.65 L932.606 1418.65 L932.606 1422.59 L910.662 1422.59 L910.662 1418.65 Q913.324 1415.9 917.907 1411.27 Q922.514 1406.62 923.694 1405.27 Q925.939 1402.75 926.819 1401.01 Q927.722 1399.25 927.722 1397.56 Q927.722 1394.81 925.777 1393.07 Q923.856 1391.34 920.754 1391.34 Q918.555 1391.34 916.102 1392.1 Q913.671 1392.87 910.893 1394.42 L910.893 1389.69 Q913.717 1388.56 916.171 1387.98 Q918.625 1387.4 920.662 1387.4 Q926.032 1387.4 929.226 1390.09 Q932.421 1392.77 932.421 1397.26 Q932.421 1399.39 931.611 1401.31 Q930.824 1403.21 928.717 1405.81 Q928.139 1406.48 925.037 1409.69 Q921.935 1412.89 916.287 1418.65 Z\" fill=\"#000000\" fill-rule=\"nonzero\" fill-opacity=\"1\" /><path clip-path=\"url(#clip990)\" d=\"M1282.61 1391.11 Q1279 1391.11 1277.17 1394.67 Q1275.36 1398.21 1275.36 1405.34 Q1275.36 1412.45 1277.17 1416.01 Q1279 1419.56 1282.61 1419.56 Q1286.24 1419.56 1288.05 1416.01 Q1289.88 1412.45 1289.88 1405.34 Q1289.88 1398.21 1288.05 1394.67 Q1286.24 1391.11 1282.61 1391.11 M1282.61 1387.4 Q1288.42 1387.4 1291.47 1392.01 Q1294.55 1396.59 1294.55 1405.34 Q1294.55 1414.07 1291.47 1418.68 Q1288.42 1423.26 1282.61 1423.26 Q1276.8 1423.26 1273.72 1418.68 Q1270.66 1414.07 1270.66 1405.34 Q1270.66 1396.59 1273.72 1392.01 Q1276.8 1387.4 1282.61 1387.4 Z\" fill=\"#000000\" fill-rule=\"nonzero\" fill-opacity=\"1\" /><path clip-path=\"url(#clip990)\" d=\"M1657.32 1418.65 L1673.64 1418.65 L1673.64 1422.59 L1651.69 1422.59 L1651.69 1418.65 Q1654.36 1415.9 1658.94 1411.27 Q1663.55 1406.62 1664.73 1405.27 Q1666.97 1402.75 1667.85 1401.01 Q1668.75 1399.25 1668.75 1397.56 Q1668.75 1394.81 1666.81 1393.07 Q1664.89 1391.34 1661.79 1391.34 Q1659.59 1391.34 1657.13 1392.1 Q1654.7 1392.87 1651.93 1394.42 L1651.93 1389.69 Q1654.75 1388.56 1657.2 1387.98 Q1659.66 1387.4 1661.69 1387.4 Q1667.06 1387.4 1670.26 1390.09 Q1673.45 1392.77 1673.45 1397.26 Q1673.45 1399.39 1672.64 1401.31 Q1671.86 1403.21 1669.75 1405.81 Q1669.17 1406.48 1666.07 1409.69 Q1662.97 1412.89 1657.32 1418.65 Z\" fill=\"#000000\" fill-rule=\"nonzero\" fill-opacity=\"1\" /><path clip-path=\"url(#clip990)\" d=\"M2045.73 1392.1 L2033.93 1410.55 L2045.73 1410.55 L2045.73 1392.1 M2044.51 1388.03 L2050.39 1388.03 L2050.39 1410.55 L2055.32 1410.55 L2055.32 1414.44 L2050.39 1414.44 L2050.39 1422.59 L2045.73 1422.59 L2045.73 1414.44 L2030.13 1414.44 L2030.13 1409.93 L2044.51 1388.03 Z\" fill=\"#000000\" fill-rule=\"nonzero\" fill-opacity=\"1\" /><path clip-path=\"url(#clip990)\" d=\"M1290.17 1465.07 Q1290.17 1465.26 1289.97 1466.04 L1253.1 1507.26 L1264.37 1507.26 Q1267.69 1507.26 1270.2 1506.68 Q1272.71 1506.07 1274.45 1505.04 Q1276.19 1504.01 1277.54 1502.24 Q1278.93 1500.43 1279.83 1498.47 Q1280.73 1496.47 1281.66 1493.54 Q1282.02 1492.41 1282.18 1492.15 Q1282.34 1491.9 1282.76 1491.9 Q1283.18 1491.9 1283.4 1492.15 Q1283.63 1492.38 1283.63 1492.64 Q1283.63 1492.77 1283.56 1492.96 Q1283.53 1493.12 1283.47 1493.31 Q1283.4 1493.51 1283.37 1493.6 L1278.67 1508.19 Q1278.38 1509.13 1278.09 1509.32 Q1277.8 1509.51 1276.64 1509.51 L1247.94 1509.51 Q1246.95 1509.51 1246.62 1509.45 Q1246.3 1509.35 1246.3 1508.93 L1246.56 1507.74 L1283.44 1466.52 L1272.68 1466.52 Q1269.65 1466.52 1267.27 1467.07 Q1264.92 1467.58 1263.24 1468.55 Q1261.57 1469.48 1260.28 1471.06 Q1258.99 1472.61 1258.12 1474.41 Q1257.25 1476.18 1256.45 1478.66 L1256.35 1478.82 Q1256.25 1478.98 1256.19 1479.08 Q1256.12 1479.14 1255.96 1479.24 Q1255.8 1479.3 1255.61 1479.3 Q1255.26 1479.3 1255.03 1479.11 Q1254.84 1478.92 1254.84 1478.72 L1254.8 1478.56 Q1254.87 1477.98 1255 1477.66 L1258.64 1465.78 Q1258.93 1464.84 1259.22 1464.65 Q1259.51 1464.46 1260.67 1464.46 L1288.52 1464.46 Q1289.55 1464.46 1289.84 1464.55 Q1290.17 1464.65 1290.17 1465.07 Z\" fill=\"#000000\" fill-rule=\"nonzero\" fill-opacity=\"1\" /><path clip-path=\"url(#clip990)\" d=\"M1296.78 1447.67 L1296.78 1446.23 Q1302.33 1446.23 1305.19 1443.28 Q1305.98 1443.28 1306.11 1443.46 Q1306.25 1443.64 1306.25 1444.47 L1306.25 1470.37 Q1306.25 1471.75 1306.92 1472.18 Q1307.6 1472.61 1310.55 1472.61 L1312.02 1472.61 L1312.02 1474.03 Q1310.4 1473.89 1304.53 1473.89 Q1298.67 1473.89 1297.07 1474.03 L1297.07 1472.61 L1298.54 1472.61 Q1301.45 1472.61 1302.14 1472.2 Q1302.84 1471.77 1302.84 1470.37 L1302.84 1446.46 Q1300.43 1447.67 1296.78 1447.67 Z\" fill=\"#000000\" fill-rule=\"nonzero\" fill-opacity=\"1\" /><polyline clip-path=\"url(#clip990)\" style=\"stroke:#000000; stroke-linecap:round; stroke-linejoin:round; stroke-width:4; stroke-opacity:1; fill:none\" points=\"275.451,1360.19 275.451,110.236 \"/>\n",
       "<polyline clip-path=\"url(#clip990)\" style=\"stroke:#000000; stroke-linecap:round; stroke-linejoin:round; stroke-width:4; stroke-opacity:1; fill:none\" points=\"275.451,1282.42 294.349,1282.42 \"/>\n",
       "<polyline clip-path=\"url(#clip990)\" style=\"stroke:#000000; stroke-linecap:round; stroke-linejoin:round; stroke-width:4; stroke-opacity:1; fill:none\" points=\"275.451,1087.68 294.349,1087.68 \"/>\n",
       "<polyline clip-path=\"url(#clip990)\" style=\"stroke:#000000; stroke-linecap:round; stroke-linejoin:round; stroke-width:4; stroke-opacity:1; fill:none\" points=\"275.451,892.94 294.349,892.94 \"/>\n",
       "<polyline clip-path=\"url(#clip990)\" style=\"stroke:#000000; stroke-linecap:round; stroke-linejoin:round; stroke-width:4; stroke-opacity:1; fill:none\" points=\"275.451,698.202 294.349,698.202 \"/>\n",
       "<polyline clip-path=\"url(#clip990)\" style=\"stroke:#000000; stroke-linecap:round; stroke-linejoin:round; stroke-width:4; stroke-opacity:1; fill:none\" points=\"275.451,503.464 294.349,503.464 \"/>\n",
       "<polyline clip-path=\"url(#clip990)\" style=\"stroke:#000000; stroke-linecap:round; stroke-linejoin:round; stroke-width:4; stroke-opacity:1; fill:none\" points=\"275.451,308.726 294.349,308.726 \"/>\n",
       "<polyline clip-path=\"url(#clip990)\" style=\"stroke:#000000; stroke-linecap:round; stroke-linejoin:round; stroke-width:4; stroke-opacity:1; fill:none\" points=\"275.451,113.989 294.349,113.989 \"/>\n",
       "<path clip-path=\"url(#clip990)\" d=\"M178.734 1282.87 L208.41 1282.87 L208.41 1286.8 L178.734 1286.8 L178.734 1282.87 Z\" fill=\"#000000\" fill-rule=\"nonzero\" fill-opacity=\"1\" /><path clip-path=\"url(#clip990)\" d=\"M218.548 1265.14 L236.905 1265.14 L236.905 1269.07 L222.831 1269.07 L222.831 1277.54 Q223.849 1277.2 224.868 1277.03 Q225.886 1276.85 226.905 1276.85 Q232.692 1276.85 236.071 1280.02 Q239.451 1283.19 239.451 1288.61 Q239.451 1294.19 235.979 1297.29 Q232.507 1300.37 226.187 1300.37 Q224.011 1300.37 221.743 1300 Q219.497 1299.63 217.09 1298.88 L217.09 1294.19 Q219.173 1295.32 221.396 1295.88 Q223.618 1296.43 226.095 1296.43 Q230.099 1296.43 232.437 1294.32 Q234.775 1292.22 234.775 1288.61 Q234.775 1285 232.437 1282.89 Q230.099 1280.78 226.095 1280.78 Q224.22 1280.78 222.345 1281.2 Q220.493 1281.62 218.548 1282.5 L218.548 1265.14 Z\" fill=\"#000000\" fill-rule=\"nonzero\" fill-opacity=\"1\" /><path clip-path=\"url(#clip990)\" d=\"M177.252 1088.13 L206.928 1088.13 L206.928 1092.06 L177.252 1092.06 L177.252 1088.13 Z\" fill=\"#000000\" fill-rule=\"nonzero\" fill-opacity=\"1\" /><path clip-path=\"url(#clip990)\" d=\"M229.868 1074.47 L218.062 1092.92 L229.868 1092.92 L229.868 1074.47 M228.641 1070.4 L234.52 1070.4 L234.52 1092.92 L239.451 1092.92 L239.451 1096.81 L234.52 1096.81 L234.52 1104.96 L229.868 1104.96 L229.868 1096.81 L214.266 1096.81 L214.266 1092.3 L228.641 1070.4 Z\" fill=\"#000000\" fill-rule=\"nonzero\" fill-opacity=\"1\" /><path clip-path=\"url(#clip990)\" d=\"M178.387 893.391 L208.062 893.391 L208.062 897.326 L178.387 897.326 L178.387 893.391 Z\" fill=\"#000000\" fill-rule=\"nonzero\" fill-opacity=\"1\" /><path clip-path=\"url(#clip990)\" d=\"M232.321 891.585 Q235.678 892.303 237.553 894.571 Q239.451 896.84 239.451 900.173 Q239.451 905.289 235.933 908.09 Q232.414 910.891 225.933 910.891 Q223.757 910.891 221.442 910.451 Q219.15 910.034 216.697 909.178 L216.697 904.664 Q218.641 905.798 220.956 906.377 Q223.271 906.956 225.794 906.956 Q230.192 906.956 232.483 905.22 Q234.798 903.483 234.798 900.173 Q234.798 897.118 232.646 895.405 Q230.516 893.669 226.696 893.669 L222.669 893.669 L222.669 889.826 L226.882 889.826 Q230.331 889.826 232.159 888.46 Q233.988 887.072 233.988 884.479 Q233.988 881.817 232.09 880.405 Q230.215 878.97 226.696 878.97 Q224.775 878.97 222.576 879.386 Q220.377 879.803 217.738 880.683 L217.738 876.516 Q220.4 875.775 222.715 875.405 Q225.053 875.035 227.113 875.035 Q232.437 875.035 235.539 877.465 Q238.641 879.873 238.641 883.993 Q238.641 886.863 236.997 888.854 Q235.354 890.822 232.321 891.585 Z\" fill=\"#000000\" fill-rule=\"nonzero\" fill-opacity=\"1\" /><path clip-path=\"url(#clip990)\" d=\"M179.336 698.653 L209.011 698.653 L209.011 702.588 L179.336 702.588 L179.336 698.653 Z\" fill=\"#000000\" fill-rule=\"nonzero\" fill-opacity=\"1\" /><path clip-path=\"url(#clip990)\" d=\"M223.132 711.547 L239.451 711.547 L239.451 715.482 L217.507 715.482 L217.507 711.547 Q220.169 708.792 224.752 704.162 Q229.358 699.51 230.539 698.167 Q232.784 695.644 233.664 693.908 Q234.567 692.149 234.567 690.459 Q234.567 687.704 232.622 685.968 Q230.701 684.232 227.599 684.232 Q225.4 684.232 222.946 684.996 Q220.516 685.76 217.738 687.311 L217.738 682.588 Q220.562 681.454 223.016 680.876 Q225.47 680.297 227.507 680.297 Q232.877 680.297 236.071 682.982 Q239.266 685.667 239.266 690.158 Q239.266 692.287 238.456 694.209 Q237.669 696.107 235.562 698.699 Q234.983 699.371 231.882 702.588 Q228.78 705.783 223.132 711.547 Z\" fill=\"#000000\" fill-rule=\"nonzero\" fill-opacity=\"1\" /><path clip-path=\"url(#clip990)\" d=\"M178.965 503.915 L208.641 503.915 L208.641 507.851 L178.965 507.851 L178.965 503.915 Z\" fill=\"#000000\" fill-rule=\"nonzero\" fill-opacity=\"1\" /><path clip-path=\"url(#clip990)\" d=\"M219.544 516.809 L227.183 516.809 L227.183 490.443 L218.872 492.11 L218.872 487.851 L227.136 486.184 L231.812 486.184 L231.812 516.809 L239.451 516.809 L239.451 520.744 L219.544 520.744 L219.544 516.809 Z\" fill=\"#000000\" fill-rule=\"nonzero\" fill-opacity=\"1\" /><path clip-path=\"url(#clip990)\" d=\"M227.507 294.525 Q223.896 294.525 222.067 298.09 Q220.261 301.631 220.261 308.761 Q220.261 315.867 222.067 319.432 Q223.896 322.974 227.507 322.974 Q231.141 322.974 232.946 319.432 Q234.775 315.867 234.775 308.761 Q234.775 301.631 232.946 298.09 Q231.141 294.525 227.507 294.525 M227.507 290.821 Q233.317 290.821 236.372 295.428 Q239.451 300.011 239.451 308.761 Q239.451 317.488 236.372 322.094 Q233.317 326.678 227.507 326.678 Q221.696 326.678 218.618 322.094 Q215.562 317.488 215.562 308.761 Q215.562 300.011 218.618 295.428 Q221.696 290.821 227.507 290.821 Z\" fill=\"#000000\" fill-rule=\"nonzero\" fill-opacity=\"1\" /><path clip-path=\"url(#clip990)\" d=\"M219.544 127.333 L227.183 127.333 L227.183 100.968 L218.872 102.634 L218.872 98.3752 L227.136 96.7086 L231.812 96.7086 L231.812 127.333 L239.451 127.333 L239.451 131.269 L219.544 131.269 L219.544 127.333 Z\" fill=\"#000000\" fill-rule=\"nonzero\" fill-opacity=\"1\" /><path clip-path=\"url(#clip990)\" d=\"M126.996 947.047 L79.4763 965.189 L79.4763 958.473 L119.485 943.418 L79.4763 928.332 L79.4763 921.648 L126.996 939.758 L126.996 947.047 Z\" fill=\"#000000\" fill-rule=\"nonzero\" fill-opacity=\"1\" /><path clip-path=\"url(#clip990)\" d=\"M109.077 903.824 Q109.077 910.921 110.7 913.659 Q112.323 916.396 116.238 916.396 Q119.357 916.396 121.203 914.359 Q123.018 912.29 123.018 908.757 Q123.018 903.887 119.58 900.959 Q116.111 897.999 110.382 897.999 L109.077 897.999 L109.077 903.824 M106.658 892.143 L126.996 892.143 L126.996 897.999 L121.585 897.999 Q124.832 900.004 126.392 902.996 Q127.919 905.988 127.919 910.317 Q127.919 915.791 124.864 919.038 Q121.776 922.252 116.62 922.252 Q110.605 922.252 107.549 918.242 Q104.494 914.2 104.494 906.211 L104.494 897.999 L103.921 897.999 Q99.8784 897.999 97.6822 900.673 Q95.4542 903.314 95.4542 908.12 Q95.4542 911.176 96.1863 914.072 Q96.9183 916.969 98.3824 919.642 L92.9716 919.642 Q91.7303 916.428 91.1255 913.404 Q90.489 910.38 90.489 907.516 Q90.489 899.781 94.4994 895.962 Q98.5097 892.143 106.658 892.143 Z\" fill=\"#000000\" fill-rule=\"nonzero\" fill-opacity=\"1\" /><path clip-path=\"url(#clip990)\" d=\"M77.4711 880.08 L77.4711 874.223 L126.996 874.223 L126.996 880.08 L77.4711 880.08 Z\" fill=\"#000000\" fill-rule=\"nonzero\" fill-opacity=\"1\" /><path clip-path=\"url(#clip990)\" d=\"M112.928 862.574 L91.3483 862.574 L91.3483 856.717 L112.705 856.717 Q117.766 856.717 120.312 854.744 Q122.827 852.771 122.827 848.824 Q122.827 844.081 119.803 841.344 Q116.779 838.575 111.559 838.575 L91.3483 838.575 L91.3483 832.719 L126.996 832.719 L126.996 838.575 L121.522 838.575 Q124.768 840.708 126.36 843.54 Q127.919 846.341 127.919 850.065 Q127.919 856.208 124.1 859.391 Q120.28 862.574 112.928 862.574 M90.489 847.837 L90.489 847.837 Z\" fill=\"#000000\" fill-rule=\"nonzero\" fill-opacity=\"1\" /><path clip-path=\"url(#clip990)\" d=\"M107.708 790.164 L110.573 790.164 L110.573 817.091 Q116.62 816.709 119.803 813.462 Q122.954 810.184 122.954 804.359 Q122.954 800.986 122.127 797.835 Q121.299 794.652 119.644 791.533 L125.182 791.533 Q126.519 794.684 127.219 797.994 Q127.919 801.304 127.919 804.71 Q127.919 813.24 122.954 818.237 Q117.989 823.202 109.522 823.202 Q100.77 823.202 95.6452 818.491 Q90.489 813.749 90.489 805.728 Q90.489 798.535 95.1359 794.365 Q99.7511 790.164 107.708 790.164 M105.989 796.02 Q101.183 796.084 98.3188 798.726 Q95.4542 801.336 95.4542 805.664 Q95.4542 810.566 98.2233 813.526 Q100.992 816.454 106.021 816.9 L105.989 796.02 Z\" fill=\"#000000\" fill-rule=\"nonzero\" fill-opacity=\"1\" /><path clip-path=\"url(#clip990)\" d=\"M77.4711 741.785 L82.3409 741.785 L82.3409 747.386 Q82.3409 750.537 83.614 751.779 Q84.8871 752.988 88.1973 752.988 L91.3483 752.988 L91.3483 743.344 L95.8998 743.344 L95.8998 752.988 L126.996 752.988 L126.996 758.876 L95.8998 758.876 L95.8998 764.478 L91.3483 764.478 L91.3483 758.876 L88.8657 758.876 Q82.9138 758.876 80.2083 756.107 Q77.4711 753.338 77.4711 747.323 L77.4711 741.785 Z\" fill=\"#000000\" fill-rule=\"nonzero\" fill-opacity=\"1\" /><path clip-path=\"url(#clip990)\" d=\"M112.928 737.488 L91.3483 737.488 L91.3483 731.631 L112.705 731.631 Q117.766 731.631 120.312 729.658 Q122.827 727.685 122.827 723.738 Q122.827 718.995 119.803 716.258 Q116.779 713.489 111.559 713.489 L91.3483 713.489 L91.3483 707.633 L126.996 707.633 L126.996 713.489 L121.522 713.489 Q124.768 715.622 126.36 718.454 Q127.919 721.255 127.919 724.979 Q127.919 731.122 124.1 734.305 Q120.28 737.488 112.928 737.488 M90.489 722.751 L90.489 722.751 Z\" fill=\"#000000\" fill-rule=\"nonzero\" fill-opacity=\"1\" /><path clip-path=\"url(#clip990)\" d=\"M105.48 665.937 L126.996 665.937 L126.996 671.794 L105.671 671.794 Q100.61 671.794 98.096 673.767 Q95.5815 675.74 95.5815 679.687 Q95.5815 684.43 98.6052 687.167 Q101.629 689.904 106.849 689.904 L126.996 689.904 L126.996 695.792 L91.3483 695.792 L91.3483 689.904 L96.8865 689.904 Q93.6718 687.803 92.0804 684.971 Q90.489 682.106 90.489 678.382 Q90.489 672.239 94.3084 669.088 Q98.096 665.937 105.48 665.937 Z\" fill=\"#000000\" fill-rule=\"nonzero\" fill-opacity=\"1\" /><path clip-path=\"url(#clip990)\" d=\"M92.717 628.602 L98.1915 628.602 Q96.8228 631.085 96.1544 633.599 Q95.4542 636.082 95.4542 638.628 Q95.4542 644.326 99.0827 647.477 Q102.679 650.628 109.204 650.628 Q115.729 650.628 119.357 647.477 Q122.954 644.326 122.954 638.628 Q122.954 636.082 122.286 633.599 Q121.585 631.085 120.217 628.602 L125.628 628.602 Q126.773 631.053 127.346 633.695 Q127.919 636.305 127.919 639.265 Q127.919 647.317 122.859 652.06 Q117.798 656.802 109.204 656.802 Q100.483 656.802 95.486 652.028 Q90.489 647.222 90.489 638.883 Q90.489 636.177 91.0619 633.599 Q91.603 631.021 92.717 628.602 Z\" fill=\"#000000\" fill-rule=\"nonzero\" fill-opacity=\"1\" /><path clip-path=\"url(#clip990)\" d=\"M81.2269 612.624 L91.3483 612.624 L91.3483 600.561 L95.8998 600.561 L95.8998 612.624 L115.252 612.624 Q119.612 612.624 120.853 611.447 Q122.095 610.237 122.095 606.577 L122.095 600.561 L126.996 600.561 L126.996 606.577 Q126.996 613.356 124.482 615.935 Q121.936 618.513 115.252 618.513 L95.8998 618.513 L95.8998 622.81 L91.3483 622.81 L91.3483 618.513 L81.2269 618.513 L81.2269 612.624 Z\" fill=\"#000000\" fill-rule=\"nonzero\" fill-opacity=\"1\" /><path clip-path=\"url(#clip990)\" d=\"M91.3483 592.859 L91.3483 587.002 L126.996 587.002 L126.996 592.859 L91.3483 592.859 M77.4711 592.859 L77.4711 587.002 L84.8871 587.002 L84.8871 592.859 L77.4711 592.859 Z\" fill=\"#000000\" fill-rule=\"nonzero\" fill-opacity=\"1\" /><path clip-path=\"url(#clip990)\" d=\"M95.4542 560.935 Q95.4542 565.645 99.1463 568.383 Q102.807 571.12 109.204 571.12 Q115.602 571.12 119.294 568.415 Q122.954 565.677 122.954 560.935 Q122.954 556.256 119.262 553.519 Q115.57 550.782 109.204 550.782 Q102.87 550.782 99.1781 553.519 Q95.4542 556.256 95.4542 560.935 M90.489 560.935 Q90.489 553.296 95.4542 548.935 Q100.419 544.575 109.204 544.575 Q117.957 544.575 122.954 548.935 Q127.919 553.296 127.919 560.935 Q127.919 568.606 122.954 572.966 Q117.957 577.295 109.204 577.295 Q100.419 577.295 95.4542 572.966 Q90.489 568.606 90.489 560.935 Z\" fill=\"#000000\" fill-rule=\"nonzero\" fill-opacity=\"1\" /><path clip-path=\"url(#clip990)\" d=\"M105.48 505.235 L126.996 505.235 L126.996 511.091 L105.671 511.091 Q100.61 511.091 98.096 513.065 Q95.5815 515.038 95.5815 518.985 Q95.5815 523.727 98.6052 526.465 Q101.629 529.202 106.849 529.202 L126.996 529.202 L126.996 535.09 L91.3483 535.09 L91.3483 529.202 L96.8865 529.202 Q93.6718 527.101 92.0804 524.268 Q90.489 521.404 90.489 517.68 Q90.489 511.537 94.3084 508.386 Q98.096 505.235 105.48 505.235 Z\" fill=\"#000000\" fill-rule=\"nonzero\" fill-opacity=\"1\" /><polyline clip-path=\"url(#clip992)\" style=\"stroke:#009af9; stroke-linecap:round; stroke-linejoin:round; stroke-width:12; stroke-opacity:1; fill:none\" points=\"332.46,1324.81 341.961,1319.38 351.463,1313.52 360.964,1307.62 370.466,1301.72 379.967,1295.82 389.469,1289.92 398.97,1284.02 408.472,1278.12 417.973,1272.22 427.475,1266.31 436.976,1260.41 446.478,1254.51 455.979,1248.61 465.481,1242.71 474.982,1236.81 484.483,1230.91 493.985,1225.01 503.486,1219.11 512.988,1213.2 522.489,1207.3 531.991,1201.4 541.492,1195.5 550.994,1189.6 560.495,1183.7 569.997,1177.8 579.498,1171.9 589,1166 598.501,1160.09 608.003,1154.19 617.504,1148.29 627.006,1142.39 636.507,1136.49 646.009,1130.59 655.51,1124.69 665.012,1118.79 674.513,1112.89 684.014,1106.98 693.516,1101.08 703.017,1095.18 712.519,1089.28 722.02,1083.38 731.522,1077.48 741.023,1071.58 750.525,1065.68 760.026,1059.77 769.528,1053.87 779.029,1047.97 788.531,1042.07 798.032,1036.17 807.534,1030.27 817.035,1024.37 826.537,1018.47 836.038,1012.57 845.54,1006.66 855.041,1000.76 864.542,994.862 874.044,988.961 883.545,983.06 893.047,977.159 902.548,971.258 912.05,965.357 921.551,959.455 931.053,953.554 940.554,947.653 950.056,941.752 959.557,935.851 969.059,929.95 978.56,924.049 988.062,918.147 997.563,912.246 1007.06,906.345 1016.57,900.444 1026.07,894.543 1035.57,888.642 1045.07,882.741 1054.57,876.839 1064.07,870.938 1073.57,865.037 1083.08,859.136 1092.58,853.235 1102.08,847.334 1111.58,841.433 1121.08,835.531 1130.58,829.63 1140.09,823.729 1149.59,817.828 1159.09,811.927 1168.59,806.026 1178.09,800.125 1187.59,794.223 1197.09,788.322 1206.6,782.421 1216.1,776.52 1225.6,770.619 1235.1,764.718 1244.6,758.817 1254.1,752.915 1263.6,747.014 1273.11,741.113 1282.61,735.212 1292.11,729.311 1301.61,723.41 1311.11,717.509 1320.61,711.607 1330.11,705.706 1339.62,699.805 1349.12,693.904 1358.62,688.003 1368.12,682.102 1377.62,676.201 1387.12,670.299 1396.63,664.398 1406.13,658.497 1415.63,652.596 1425.13,646.695 1434.63,640.794 1444.13,634.893 1453.63,628.991 1463.14,623.09 1472.64,617.189 1482.14,611.288 1491.64,605.387 1501.14,599.486 1510.64,593.585 1520.14,587.683 1529.65,581.782 1539.15,575.881 1548.65,569.98 1558.15,564.079 1567.65,558.178 1577.15,552.277 1586.65,546.375 1596.16,540.474 1605.66,534.573 1615.16,528.672 1624.66,522.771 1634.16,516.87 1643.66,510.968 1653.16,505.067 1662.67,499.166 1672.17,493.265 1681.67,487.364 1691.17,481.463 1700.67,475.562 1710.17,469.66 1719.68,463.759 1729.18,457.858 1738.68,451.957 1748.18,446.056 1757.68,440.155 1767.18,434.254 1776.68,428.352 1786.19,422.451 1795.69,416.55 1805.19,410.649 1814.69,404.748 1824.19,398.847 1833.69,392.946 1843.19,387.044 1852.7,381.143 1862.2,375.242 1871.7,369.341 1881.2,363.44 1890.7,357.539 1900.2,351.638 1909.7,345.736 1919.21,339.835 1928.71,333.934 1938.21,328.033 1947.71,322.132 1957.21,316.231 1966.71,310.33 1976.22,304.428 1985.72,298.527 1995.22,292.626 2004.72,286.725 2014.22,280.824 2023.72,274.923 2033.22,269.022 2042.73,263.12 2052.23,257.219 2061.73,251.318 2071.23,245.417 2080.73,239.516 2090.23,233.615 2099.73,227.714 2109.24,221.812 2118.74,215.911 2128.24,210.01 2137.74,204.109 2147.24,198.208 2156.74,192.307 2166.24,186.406 2175.75,180.504 2185.25,174.603 2194.75,168.702 2204.25,162.801 2213.75,156.904 2223.25,151.042 2232.75,145.612 \"/>\n",
       "<path clip-path=\"url(#clip990)\" d=\"M342.595 255.581 L575.693 255.581 L575.693 151.901 L342.595 151.901  Z\" fill=\"#ffffff\" fill-rule=\"evenodd\" fill-opacity=\"1\"/>\n",
       "<polyline clip-path=\"url(#clip990)\" style=\"stroke:#000000; stroke-linecap:round; stroke-linejoin:round; stroke-width:4; stroke-opacity:1; fill:none\" points=\"342.595,255.581 575.693,255.581 575.693,151.901 342.595,151.901 342.595,255.581 \"/>\n",
       "<polyline clip-path=\"url(#clip990)\" style=\"stroke:#009af9; stroke-linecap:round; stroke-linejoin:round; stroke-width:12; stroke-opacity:1; fill:none\" points=\"364.976,203.741 499.264,203.741 \"/>\n",
       "<path clip-path=\"url(#clip990)\" d=\"M534.839 221.021 L521.645 186.461 L526.529 186.461 L537.478 215.558 L548.45 186.461 L553.311 186.461 L540.14 221.021 L534.839 221.021 Z\" fill=\"#000000\" fill-rule=\"nonzero\" fill-opacity=\"1\" /></svg>\n"
      ]
     },
     "execution_count": 76,
     "metadata": {},
     "output_type": "execute_result"
    }
   ],
   "source": [
    "plot(results[\"zz\"][:,60], results[\"V\"][:,60], label=\"V\", xlabel=\"\\$Z^1\\$\", ylabel=\"Value function\", margin=5Plots.mm,linewidth=3,grid=false)\n"
   ]
  },
  {
   "cell_type": "code",
   "execution_count": null,
   "metadata": {},
   "outputs": [],
   "source": []
  },
  {
   "cell_type": "markdown",
   "metadata": {},
   "source": [
    "# 1.4 Model Ambiguity"
   ]
  },
  {
   "cell_type": "code",
   "execution_count": null,
   "metadata": {},
   "outputs": [],
   "source": []
  },
  {
   "cell_type": "code",
   "execution_count": null,
   "metadata": {},
   "outputs": [],
   "source": []
  }
 ],
 "metadata": {
  "kernelspec": {
   "display_name": "Julia 1.7.3 1.7.3",
   "language": "julia",
   "name": "julia-1.7.3-1.7"
  },
  "language_info": {
   "file_extension": ".jl",
   "mimetype": "application/julia",
   "name": "julia",
   "version": "1.7.3"
  }
 },
 "nbformat": 4,
 "nbformat_minor": 2
}