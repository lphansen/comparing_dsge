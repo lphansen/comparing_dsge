{
 "cells": [
  {
   "cell_type": "markdown",
   "metadata": {},
   "source": [
    "# 3 Two Capital Model "
   ]
  },
  {
   "cell_type": "markdown",
   "metadata": {},
   "source": [
    "We now consider the environment in Section 4.6 with two capital stocks, which evolve as:\n",
    "$$\n",
    "dK_t^j = K_t^j \\left[ \\Phi^j \\left( \\frac{I_t^j}{K_t^j} \\right) + \\beta^j_k Z_t^1 - \\eta^j \\right] dt  + K_t^j \\sqrt{Z_t^2}  {\\sigma}^j_k \\cdot dB_t\n",
    "$$\n",
    "\n",
    "For $j=1,2$. The output equation is now:\n",
    "\n",
    "$$\n",
    "C_t + I_t^1 + I_t^2 = \\alpha K_t^a \n",
    "$$\n",
    "\n",
    "where aggregate capital is a CES aggregator of the two capital stocks:\n",
    "\n",
    "$$\n",
    "K_t^a = \\left[(1-\\zeta) \\left(K_t^1\\right)^{(1 - \\tau)}  + \\zeta \\left( K_t^2\\right)^{(1 - \\tau)} \\right]^\n",
    "{\\frac 1 {1 - \\tau}} \n",
    "$$\n",
    "for $0 \\le \\zeta < 1$ and $\\tau \\ge 0$. The problem is similar to the single-capital model except that we now have an additional endogenous state variable $\\widehat Y_t = \\log(K_t^2/K_t^1)$.\n",
    "\n",
    "The main difficulty with..."
   ]
  },
  {
   "cell_type": "code",
   "execution_count": null,
   "metadata": {
    "vscode": {
     "languageId": "plaintext"
    }
   },
   "outputs": [],
   "source": []
  },
  {
   "cell_type": "code",
   "execution_count": null,
   "metadata": {
    "vscode": {
     "languageId": "plaintext"
    }
   },
   "outputs": [],
   "source": [
    "using Pkg\n",
    "using Optim\n",
    "using Roots\n",
    "using NPZ\n",
    "using ArgParse"
   ]
  }
 ],
 "metadata": {
  "language_info": {
   "name": "python"
  }
 },
 "nbformat": 4,
 "nbformat_minor": 2
}