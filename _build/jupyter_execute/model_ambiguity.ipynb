{
 "cells": [
  {
   "cell_type": "markdown",
   "metadata": {},
   "source": [
    "# 2 Model Ambiguity\n",
    "Now we abstract away from stochastic volatility (set $\\sigma_2$ to 0) and introduce model ambiguity, following Hansen and Sargent (2021). Suppose that the agent's baseline model follows:\n",
    "\n",
    "$$\n",
    "d Z_{t}^1 =  - \\hat{\\beta}_1 Z_t^1 dt +  \\sqrt{Z_t^2} \\sigma_1 \\cdot d B_{t}^S, \\\\\n",
    "dK_t = K_t\\left[ \\Phi \\left( \\frac{I_t}{K_t} \\right) + \\hat{\\beta}_k Z_t^1 - \\hat{\\eta}_k \\right] dt  + K_t \\sqrt{Z_t^2}  {\\sigma}_k \\cdot dB_t^S\n",
    "$$\n",
    "\n",
    "Entertaining model ambiguity, the agents form a collection of structured models parameterized by $(\\phi_1,\\beta_1,\\eta_k,\\beta_k)$:\n",
    "\n",
    "$$\n",
    "d Z_{t}^1 =  \\phi_1 - \\beta_1 Z_t^1 dt +  \\sqrt{Z_t^2} \\sigma_1 \\cdot d B_{t}^S, \\\\\n",
    "dK_t = K_t\\left[ \\Phi \\left( \\frac{I_t}{K_t} \\right) + \\beta_k Z_t^1 - \\eta_k \\right] dt  + K_t \\sqrt{Z_t^2}  {\\sigma}_k \\cdot dB_t^S\n",
    "$$\n",
    "\n",
    "Where:\n",
    "\n",
    "$$\n",
    "dB_t^S = H_t dt + dB_t\n",
    "$$\n",
    "\n",
    "And $H_t$ is the drift distortion implied by the parameters, with the form:\n",
    "\n",
    "$$\n",
    "H_t := \\psi(Z_t) = \\psi_0 + \\psi_1 (Z_t - \\bar{z})\n",
    "$$\n",
    "\n",
    "The agent solves:\n",
    "\n",
    "$$\n",
    "0 =   \\max_{c+i = \\alpha} \\min_{h}  \\left\\{ \\left( \\frac{\\delta}{1 - \\rho} \\right) \\left( c^{1-\\rho} \\exp \\left[ (\\rho - 1) \\upsilon \\right] - 1 \\right) + \\Phi(i) + \\hat{\\beta}_k z_1 - \\hat{\\eta}_k + \\sigma_k \\cdot h - \\frac{1}{2} |\\sigma_k|^2 \\right. \\\\\n",
    " \\left. + (-\\hat{\\beta}_1 + \\sigma_1 \\cdot h) \\cdot \\frac {\\partial \\upsilon}{\\partial z_1}  +  \\frac {1}2  {\\rm trace} \\left\\{ {\\sigma_1}' \\frac {\\partial^2 \\upsilon}{\\partial z_1^2} \\sigma_1 \\right\\} +  \\frac{(1 - \\gamma) }{2} \\left\\vert\\sigma_k + {\\sigma_1}' \\frac {\\partial \\upsilon}{\\partial z_1}   \\right\\vert^2 \\right\\}\n",
    "$$\n",
    "\n",
    "Such that:\n",
    "\n",
    "$$\n",
    "(z_1-\\bar{z}_1) \\zeta \\left[\\hat{\\beta}_1(z_1-\\bar{z}_1) + \\sigma_1 \\cdot h\\right] + \\frac{|\\sigma_1|^2}{2} \\zeta - \\frac{q^2}{2} + \\frac{h \\cdot h}{2} \\leq 0\n",
    "$$\n",
    "\n",
    "For some relative entropy $q$ and constant $\\zeta$. Thus, in addition to the inputs in the baseline model, the user must also supply:\n",
    "```{list-table}\n",
    ":header-rows: 1\n",
    "\n",
    "* - Input\n",
    "  - Description\n",
    "* - `q`\n",
    "  - Relative entropy constraint\n",
    "* - `twoparameter`\n",
    "  - `true` if ambiguity is restricted to the slope parameters; `false` if ambiguity is extended to the slope and constant parameters\n",
    "```\n",
    "\n",
    "We begin again by importing the necessary libraries and setting our inputs:\n",
    "\n",
    "<!-- \n",
    "\n",
    "We deduce the following restrictions for $\\eta_0$ and $\\eta_1$:\n",
    "\\begin{equation}\n",
    "\\begin{bmatrix}\n",
    "\\sigma_k' \\\\\n",
    "\\sigma_z'\n",
    "\\end{bmatrix}  \\begin{bmatrix}\n",
    "\\gamma_0,  \\gamma_1\n",
    "\\end{bmatrix}= \\begin{bmatrix}\n",
    "\\hat{\\eta}_k - \\eta_k & \\beta_k - \\hat{\\beta}_k\\\\\n",
    "\\phi_1 - \\hat{\\phi}_1 & \\hat{\\beta}_z - \\beta_z\n",
    "\\end{bmatrix}\n",
    "\\end{equation} -->\n"
   ]
  },
  {
   "cell_type": "code",
   "execution_count": 1,
   "metadata": {},
   "outputs": [
    {
     "name": "stderr",
     "output_type": "stream",
     "text": [
      "\u001b[36m\u001b[1m[ \u001b[22m\u001b[39m\u001b[36m\u001b[1mInfo: \u001b[22m\u001b[39mPrecompiling JuMP [4076af6c-e467-56ae-b986-b466b2749572]\n",
      "\u001b[36m\u001b[1m[ \u001b[22m\u001b[39m\u001b[36m\u001b[1mInfo: \u001b[22m\u001b[39mPrecompiling Ipopt [b6b21f68-93f8-5de0-b562-5493be1d77c9]\n",
      "\u001b[32m\u001b[1m  Activating\u001b[22m\u001b[39m project at `/project/lhansen/macrofinance`\n"
     ]
    },
    {
     "ename": "LoadError",
     "evalue": "LoadError: syntax: incomplete: \"function\" at /project/lhansen/macrofinance/src/2/main_onecapital.jl:46 requires end\nin expression starting at /project/lhansen/macrofinance/src/2/main_onecapital.jl:46",
     "output_type": "error",
     "traceback": [
      "LoadError: syntax: incomplete: \"function\" at /project/lhansen/macrofinance/src/2/main_onecapital.jl:46 requires end\nin expression starting at /project/lhansen/macrofinance/src/2/main_onecapital.jl:46",
      "",
      "Stacktrace:",
      " [1] top-level scope",
      "   @ /project/lhansen/macrofinance/src/2/main_onecapital.jl:46",
      " [2] include(fname::String)",
      "   @ Base.MainInclude ./client.jl:451",
      " [3] top-level scope",
      "   @ In[1]:2"
     ]
    }
   ],
   "source": [
    "include(\"src/2/utils_onecapital.jl\")\n",
    "include(\"src/2/main_onecapital.jl\")\n",
    "\n",
    "alpha = 0.0922\n",
    "delta = 0.01\n",
    "gamma = 1.0\n",
    "Delta = 1.0\n",
    "rho = 1.0\n",
    "q = 0.1\n",
    "twoparameter = true\n",
    "action_name = \"test\""
   ]
  },
  {
   "cell_type": "markdown",
   "metadata": {},
   "source": [
    "We can then run the main function:"
   ]
  },
  {
   "cell_type": "code",
   "execution_count": null,
   "metadata": {},
   "outputs": [],
   "source": [
    "results_ambiguity = model_ambiguity(gamma, rho, Delta, delta, alpha, q, twoparameter, action_name)"
   ]
  },
  {
   "cell_type": "code",
   "execution_count": null,
   "metadata": {},
   "outputs": [],
   "source": [
    "m"
   ]
  }
 ],
 "metadata": {
  "kernelspec": {
   "display_name": "Julia 1.7.3 1.7.3",
   "language": "julia",
   "name": "julia-1.7.3-1.7"
  },
  "language_info": {
   "file_extension": ".jl",
   "mimetype": "application/julia",
   "name": "julia",
   "version": "1.7.3"
  }
 },
 "nbformat": 4,
 "nbformat_minor": 2
}