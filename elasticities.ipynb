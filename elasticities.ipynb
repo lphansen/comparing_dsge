{
 "cells": [
  {
   "cell_type": "markdown",
   "metadata": {},
   "source": [
    "# 4 Elasticities\n",
    "Shock elasticites are computed by solving:\n",
    "\n",
    "$$\n",
    "\\varepsilon_M(t,x) = \\nu(x) \\cdot \\left\\{ \\sigma_M(x) + \\sigma_X(x) \\cdot \\frac{\\partial}{\\partial x} \\log \\mathbb{E}\\left[ \\left( \\frac{M_t}{M_0} \\right) \\mid X_0 = x \\right] \\right\\}\n",
    "$$\n",
    "\n",
    "Shock price-elasticities can be computed using:\n",
    "$$\n",
    "\\varepsilon_M(t,x) - \\varepsilon_{SM}(t,x)\n",
    "$$\n",
    "\n",
    "Where $S$ is the stochastic discount factor.\n",
    "\n",
    "This can either be solved using finite differences or simulated. We describe both methods here.\n",
    "\n",
    "# 2.1 Finite Differences\n",
    "We solve this using the finite differences method described in Supplemental Appendix C.3:\n",
    "\n",
    "$$\n",
    "0 = - \\frac{\\partial f_M}{\\partial t} + \\Big( \\mu_M + \\frac{1}{2} \\| \\sigma_M \\|^2 \\Big) f_M + \\big( \\mu_X + \\sigma_M \\cdot \\sigma_X \\big) \\cdot \\frac{\\partial f_M}{\\partial x} + \\frac{1}{2} \\text{tr}\\Big( \\sigma_X \\sigma_X' \\frac{\\partial^2 f_M}{\\partial x \\partial x'} \\Big)\n",
    "$$"
   ]
  },
  {
   "cell_type": "markdown",
   "metadata": {},
   "source": [
    "The main function for calculating elasticities is `main_pde_shock_elasticity`, which takes in the same inputs `main_onecapital`, and uses these inputs to identify a saved solution. Hence, this function must be run after `main_onecapital` has finished running.\n",
    "\n",
    "There are several parameters which can be changed inside the body of `main_pde_shock_elasticity`. Notably, `dt` controls the time step, where `dt`=1 is one year, while `T` controls the total number of `dt` periods for which the elasticity is computed.\n",
    "\n",
    "Within `main_pde_shock_elasticity`, the function `compute_pde_shock_elasticity` computes shock-exposure and shock-price elasticities for a given cash flow variable $M$ and stochastic discount factor $S$. These variables are specified by inputting their drift - `mulogM` and `mulogS` - and diffusion terms - `sigmalogM` and `sigmalogS`. By default, the code computes drifts and diffusions for the following $M$ variables:\n",
    "\n",
    "```{list-table}\n",
    ":header-rows: 1\n",
    "\n",
    "* - $M$\n",
    "  - Notation in paper\n",
    "  - Description\n",
    "* - `logcmk`\n",
    "  - $\\log{\\frac{C}{K}}$\n",
    "  - Log consumption-capital ratio\n",
    "* - `logimo`\n",
    "  - $\\log{\\frac{I}{Y}}$\n",
    "  - Log investment-output ratio\n",
    "* - `logc`\n",
    "  - $\\log{C}$\n",
    "  - Log consumption\n",
    "```\n",
    "\n",
    "And the following $S$ variables:\n",
    "\n",
    "```{list-table}\n",
    ":header-rows: 1\n",
    "\n",
    "* - $S$\n",
    "  - Notation in paper\n",
    "  - Description\n",
    "* - `logsdf`\n",
    "  - $\\hat{S}$\n",
    "  - Log stochastic discount factor\n",
    "* - `logn`\n",
    "  - $\\hat{N}$\n",
    "  - Log uncertainty component of SDF\n",
    "```\n",
    "If the\n",
    "\n",
    "The user can also set the initial state. `marginal_quantile` is a dictionary which computes the quantiles of the marginal stationary distribution of each state. For example, `marginal_quantile['Z'](0.5)` computes the median of the marginal distribution of `Z`. Since the states consist of $Z^1$ (`Z` in the code) and $Z^2$ (`Y` in the code), we can define the initial state as follows:"
   ]
  },
  {
   "cell_type": "code",
   "execution_count": null,
   "metadata": {
    "tags": [
     "remove-output"
    ]
   },
   "outputs": [],
   "source": [
    "initial_points = [[marginal_quantile['Z'](0.5),marginal_quantile['Y'](0.1)],\n",
    "                    [marginal_quantile['Z'](0.5),marginal_quantile['Y'](0.5),\n",
    "                    marginal_quantile['Z'](0.5),marginal_quantile['Y'](0.9)]]"
   ]
  },
  {
   "cell_type": "markdown",
   "metadata": {},
   "source": [
    "In the above example, we initialize $Z^2$ at its 10th, 50th and 90th percentiles while holding $Z^1$ at its median. "
   ]
  },
  {
   "cell_type": "markdown",
   "metadata": {},
   "source": [
    "First we import the necessary libraries:"
   ]
  },
  {
   "cell_type": "code",
   "execution_count": 1,
   "metadata": {},
   "outputs": [],
   "source": [
    "import os\n",
    "import sys\n",
    "import numpy as np\n",
    "from scipy.interpolate import RegularGridInterpolator as RGI\n",
    "import argparse\n",
    "import matplotlib.pyplot as plt\n",
    "\n",
    "os.chdir(\"src/1/\")\n",
    "from main_pde_shock_elasticity import main\n",
    "from utils_FDM import finiteDiff_2D_first, finiteDiff_2D_second, finiteDiff_2D_cross\n",
    "from utils_pde_shock_elasticity import computeElas\n",
    "from plot_function import return_solution, plot_solution\n",
    "os.chdir(\"../../\")"
   ]
  },
  {
   "cell_type": "markdown",
   "metadata": {},
   "source": [
    "Next, we set the elasticity inputs. Remember that a solution must be saved under the same parameters before the elasticities can be computed."
   ]
  },
  {
   "cell_type": "code",
   "execution_count": 2,
   "metadata": {},
   "outputs": [],
   "source": [
    "alpha = 0.0922\n",
    "delta = 0.01\n",
    "gamma = 1.0\n",
    "Delta = 1.0\n",
    "rho = 1.0\n",
    "action_name = \"test\""
   ]
  },
  {
   "cell_type": "markdown",
   "metadata": {},
   "source": [
    "After changing these settings to your liking, we can run `main_pde_shock_elasticity`. Using default settings, this takes 20 seconds."
   ]
  },
  {
   "cell_type": "code",
   "execution_count": 13,
   "metadata": {},
   "outputs": [
    {
     "name": "stdout",
     "output_type": "stream",
     "text": [
      "--- 12.889362812042236 seconds for the elasticity computation ---\n",
      "--- 4.820237636566162 seconds for the elasticity computation ---\n",
      "--- 3.97141170501709 seconds for the elasticity computation ---\n"
     ]
    }
   ],
   "source": [
    "main(Delta, delta, gamma, rho, alpha, action_name)"
   ]
  },
  {
   "cell_type": "markdown",
   "metadata": {},
   "source": [
    "Once the above function has finished running, we can load in the results. The elasticity for each $M$ is saved as a separate `npz` file, but we can load all of them at once using the `return_solution` function."
   ]
  },
  {
   "cell_type": "code",
   "execution_count": 24,
   "metadata": {
    "tags": [
     "hide-output"
    ]
   },
   "outputs": [
    {
     "data": {
      "text/plain": [
       "{'res': NpzFile './output/test/Delta_1.0/delta_0.01/gamma_1.0_rho_1.0_alpha_0.0922/res.npz' with keys: ymax, V, dy, a22, zz...,\n",
       " 'elasticity_logc': NpzFile './output/test/Delta_1.0/delta_0.01/gamma_1.0_rho_1.0_alpha_0.0922/elasticity_logc.npz' with keys: exposure_elasticity, price_elasticity,\n",
       " 'elasticity_logimo': NpzFile './output/test/Delta_1.0/delta_0.01/gamma_1.0_rho_1.0_alpha_0.0922/elasticity_logimo.npz' with keys: exposure_elasticity, price_elasticity,\n",
       " 'uncertainty_priceelas': NpzFile './output/test/Delta_1.0/delta_0.01/gamma_1.0_rho_1.0_alpha_0.0922/uncertainty_priceelas.npz' with keys: exposure_elasticity, price_elasticity}"
      ]
     },
     "execution_count": 24,
     "metadata": {},
     "output_type": "execute_result"
    }
   ],
   "source": [
    "res = return_solution(rho, gamma, Delta, delta, alpha, action_name)\n",
    "res"
   ]
  },
  {
   "cell_type": "markdown",
   "metadata": {},
   "source": [
    "For example, we can load the first-type exposure elasticities for $\\hat{C}$ by accessing `['elasticity_logc']['exposure_elasticity'].item().firstType`. The first index of this object is the initial state; 0 represents the first initialization, which in this case is $Z^1$ at median and $Z^2$ at 10th percentile. The second index is the shock index; in this case, 1 represents a growth-rate shock. The third index is time. To illustrate this, we have written a simple `plot_solution` function, but the user can edit this to display their desired results."
   ]
  },
  {
   "cell_type": "code",
   "execution_count": 55,
   "metadata": {},
   "outputs": [
    {
     "data": {
      "image/png": "[encoded data removed]",
      "text/plain": [
       "<Figure size 500x400 with 1 Axes>"
      ]
     },
     "metadata": {},
     "output_type": "display_data"
    }
   ],
   "source": [
    "plot_solution(rho, gamma, Delta, delta, alpha, action_name)"
   ]
  },
  {
   "cell_type": "code",
   "execution_count": null,
   "metadata": {},
   "outputs": [],
   "source": []
  },
  {
   "cell_type": "markdown",
   "metadata": {},
   "source": [
    "# 4.2 Simulation"
   ]
  },
  {
   "cell_type": "markdown",
   "metadata": {},
   "source": []
  }
 ],
 "metadata": {
  "kernelspec": {
   "display_name": "envname",
   "language": "python",
   "name": "envname"
  },
  "language_info": {
   "codemirror_mode": {
    "name": "ipython",
    "version": 3
   },
   "file_extension": ".py",
   "mimetype": "text/x-python",
   "name": "python",
   "nbconvert_exporter": "python",
   "pygments_lexer": "ipython3",
   "version": "3.9.19"
  }
 },
 "nbformat": 4,
 "nbformat_minor": 2
}
